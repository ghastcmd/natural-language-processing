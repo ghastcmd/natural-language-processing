{
 "cells": [
  {
   "attachments": {},
   "cell_type": "markdown",
   "metadata": {},
   "source": [
    "# Resolução da lista 3 de NLP"
   ]
  },
  {
   "attachments": {},
   "cell_type": "markdown",
   "metadata": {},
   "source": [
    "## Alunos:\n",
    "  - Eduardo Brasil Araujo\n",
    "  - Gideão Pinheiro\""
   ]
  },
  {
   "attachments": {},
   "cell_type": "markdown",
   "metadata": {},
   "source": [
    "# Questão 1"
   ]
  },
  {
   "attachments": {},
   "cell_type": "markdown",
   "metadata": {},
   "source": [
    "# Question 2"
   ]
  },
  {
   "attachments": {},
   "cell_type": "markdown",
   "metadata": {},
   "source": [
    "# Question 3"
   ]
  },
  {
   "attachments": {},
   "cell_type": "markdown",
   "metadata": {},
   "source": [
    "Abaixo está a criação do prompt utilizando o chat-GPT na versão 3.5\n",
    "A criação do prompt segue o que foi indicado [neste artigo](https://arxiv.org/abs/2304.10428)\n",
    "Na primeira etapa utilizamos a frase \"I am an excelent linguist\" para que as respostas sejam dadas utilizando os conhecimentos de linguística. \n",
    "Ainda nesta etapa informamos qual a tarefa queremos que seja realizada e informamos que as entidades são do tipo \"animal\" e após isso indicamos onde estão os exemplos.\n",
    "\n",
    "Na segunda etapa damos alguns exemplos, fornecendo inputs parecidos com os que ele receberia e outputs que mostram o padrão da resposta.\n",
    "\n",
    "Após isso, pedimos para que ele complete os outputs e passamos 5 inputs para que ele identifique as categorias."
   ]
  },
  {
   "attachments": {},
   "cell_type": "markdown",
   "metadata": {},
   "source": [
    "![GPT-NER](../assets/2023-10-08_11-25.png)"
   ]
  },
  {
   "attachments": {},
   "cell_type": "markdown",
   "metadata": {},
   "source": [
    "O resultado é mostrado abaixo:"
   ]
  },
  {
   "attachments": {},
   "cell_type": "markdown",
   "metadata": {},
   "source": [
    "![Resultado](../assets/2023-10-08_11-25_1.png)"
   ]
  },
  {
   "attachments": {},
   "cell_type": "markdown",
   "metadata": {},
   "source": [
    "# Question 4"
   ]
  }
 ],
 "metadata": {
  "kernelspec": {
   "display_name": "venv",
   "language": "python",
   "name": "python3"
  },
  "language_info": {
   "codemirror_mode": {
    "name": "ipython",
    "version": 3
   },
   "file_extension": ".py",
   "mimetype": "text/x-python",
   "name": "python",
   "nbconvert_exporter": "python",
   "pygments_lexer": "ipython3",
   "version": "3.10.7"
  },
  "orig_nbformat": 4
 },
 "nbformat": 4,
 "nbformat_minor": 2
}
