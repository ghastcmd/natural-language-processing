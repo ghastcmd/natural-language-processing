{
 "cells": [
  {
   "attachments": {},
   "cell_type": "markdown",
   "metadata": {},
   "source": [
    "# Resolução da lista 3 de NLP"
   ]
  },
  {
   "attachments": {},
   "cell_type": "markdown",
   "metadata": {},
   "source": [
    "## Alunos:\n",
    "  - Eduardo Brasil Araujo\n",
    "  - Gideão Pinheiro\""
   ]
  },
  {
   "attachments": {},
   "cell_type": "markdown",
   "metadata": {},
   "source": [
    "# Questão 1"
   ]
  },
  {
   "cell_type": "code",
   "execution_count": 1,
   "metadata": {},
   "outputs": [
    {
     "name": "stderr",
     "output_type": "stream",
     "text": [
      "e:\\localhost\\Desktop\\dor-repos\\computer-science\\natural-language-processing\\repo\\venv\\lib\\site-packages\\tqdm\\auto.py:21: TqdmWarning: IProgress not found. Please update jupyter and ipywidgets. See https://ipywidgets.readthedocs.io/en/stable/user_install.html\n",
      "  from .autonotebook import tqdm as notebook_tqdm\n"
     ]
    }
   ],
   "source": [
    "import transformers as ppb\n",
    "import pandas as pd\n",
    "import numpy as np\n",
    "import torch"
   ]
  },
  {
   "cell_type": "code",
   "execution_count": 2,
   "metadata": {},
   "outputs": [
    {
     "name": "stderr",
     "output_type": "stream",
     "text": [
      "Some weights of DistilBertModel were not initialized from the model checkpoint at distilbert-base-uncased and are newly initialized because the shapes did not match:\n",
      "- distilbert.embeddings.position_embeddings.weight: found shape torch.Size([512, 768]) in the checkpoint and torch.Size([10240, 768]) in the model instantiated\n",
      "You should probably TRAIN this model on a down-stream task to be able to use it for predictions and inference.\n"
     ]
    }
   ],
   "source": [
    "model_class, tokenizer_class, pretrained_weights = (ppb.DistilBertModel, ppb.DistilBertTokenizer, 'distilbert-base-uncased')\n",
    "\n",
    "distil_config = ppb.DistilBertConfig(\n",
    "    max_position_embeddings=1024 * 10,\n",
    ")\n",
    "\n",
    "# Load pretrained model/tokenizer\n",
    "tokenizer = tokenizer_class.from_pretrained(pretrained_weights, config=distil_config, ignore_mismatched_sizes=True)\n",
    "model = model_class.from_pretrained(pretrained_weights, config=distil_config, ignore_mismatched_sizes=True)"
   ]
  },
  {
   "cell_type": "code",
   "execution_count": 3,
   "metadata": {},
   "outputs": [],
   "source": [
    "df = pd.read_csv('../datasets/preprocessed_website_classification.csv')"
   ]
  },
  {
   "cell_type": "code",
   "execution_count": 4,
   "metadata": {},
   "outputs": [],
   "source": [
    "df.dropna(inplace=True)"
   ]
  },
  {
   "cell_type": "code",
   "execution_count": 5,
   "metadata": {},
   "outputs": [],
   "source": [
    "data = df[['cleaned_website_text', 'Category']]\n",
    "data = data[data.Category.isin(['Games', 'Food'])]\n",
    "data = data.sample(frac=1, random_state=101).reset_index(drop=True)"
   ]
  },
  {
   "cell_type": "code",
   "execution_count": 11,
   "metadata": {},
   "outputs": [],
   "source": [
    "batch_1 = data.rename(columns={'cleaned_website_text': 0, 'Category': 1})[:20]"
   ]
  },
  {
   "cell_type": "code",
   "execution_count": 12,
   "metadata": {},
   "outputs": [],
   "source": [
    "tokenized = batch_1[0].apply((lambda x: tokenizer.encode(x, add_special_tokens=True)))"
   ]
  },
  {
   "cell_type": "code",
   "execution_count": 13,
   "metadata": {},
   "outputs": [],
   "source": [
    "max_len = 0\n",
    "for i in tokenized.values:\n",
    "    if len(i) > max_len:\n",
    "        max_len = len(i)\n",
    "\n",
    "padded = np.array([i + [0]*(max_len - len(i)) for i in tokenized.values])"
   ]
  },
  {
   "cell_type": "code",
   "execution_count": 14,
   "metadata": {},
   "outputs": [
    {
     "data": {
      "text/plain": [
       "(20, 1100)"
      ]
     },
     "execution_count": 14,
     "metadata": {},
     "output_type": "execute_result"
    }
   ],
   "source": [
    "np.array(padded).shape"
   ]
  },
  {
   "cell_type": "code",
   "execution_count": 15,
   "metadata": {},
   "outputs": [
    {
     "data": {
      "text/plain": [
       "(20, 1100)"
      ]
     },
     "execution_count": 15,
     "metadata": {},
     "output_type": "execute_result"
    }
   ],
   "source": [
    "attention_mask = np.where(padded != 0, 1, 0)\n",
    "attention_mask.shape"
   ]
  },
  {
   "cell_type": "code",
   "execution_count": 16,
   "metadata": {},
   "outputs": [],
   "source": [
    "input_ids = torch.tensor(padded, device=torch.device('cuda'))\n",
    "attention_mask = torch.tensor(attention_mask, device=torch.device('cuda'))\n",
    "\n",
    "model.to(torch.device('cuda'))\n",
    "\n",
    "with torch.no_grad():\n",
    "    last_hidden_states = model(input_ids, attention_mask=attention_mask)"
   ]
  },
  {
   "cell_type": "code",
   "execution_count": 17,
   "metadata": {},
   "outputs": [],
   "source": [
    "features = last_hidden_states[0][:,0,:].to(torch.device('cpu')).numpy()"
   ]
  },
  {
   "cell_type": "code",
   "execution_count": 18,
   "metadata": {},
   "outputs": [],
   "source": [
    "labels = batch_1[1]"
   ]
  },
  {
   "cell_type": "markdown",
   "metadata": {},
   "source": [
    "## Prep"
   ]
  },
  {
   "cell_type": "code",
   "execution_count": 19,
   "metadata": {},
   "outputs": [],
   "source": [
    "from sklearn.model_selection import train_test_split\n",
    "from sklearn.metrics import confusion_matrix, accuracy_score, precision_score, recall_score, f1_score"
   ]
  },
  {
   "cell_type": "code",
   "execution_count": 20,
   "metadata": {},
   "outputs": [],
   "source": [
    "def get_all(y_test, y_pred):\n",
    "    confusion = confusion_matrix(y_test, y_pred)\n",
    "    accuracy = accuracy_score(y_test, y_pred)\n",
    "    precision_1 = precision_score(y_test, y_pred, pos_label='Games')\n",
    "    recall_1 = recall_score(y_test, y_pred, pos_label='Games')\n",
    "    f1_1 = f1_score(y_test, y_pred, pos_label='Games')\n",
    "    precision_2 = precision_score(y_test, y_pred, pos_label='Food')\n",
    "    recall_2 = recall_score(y_test, y_pred, pos_label='Food')\n",
    "    f1_2 = f1_score(y_test, y_pred, pos_label='Food')\n",
    "    return confusion, accuracy, precision_1, recall_1, f1_1, precision_2, recall_2, f1_2"
   ]
  },
  {
   "cell_type": "code",
   "execution_count": 21,
   "metadata": {},
   "outputs": [],
   "source": [
    "def get_values(y_test, y_pred):\n",
    "    conf, acc, prec_1, recl_1, f1_1, prec_2, recl_2, f1_2 = get_all(y_test, y_pred)\n",
    "    print('Confusion:\\n', conf)\n",
    "    print('Accuracy: ', acc)\n",
    "    print('Precision (Games): ', prec_1)\n",
    "    print('Recall (Games): ', recl_1)\n",
    "    print('F1 (Games): ', f1_1)\n",
    "    print('Precision (Food): ', prec_2)\n",
    "    print('Recall (Food): ', recl_2)\n",
    "    print('F1 (Food): ', f1_2)"
   ]
  },
  {
   "cell_type": "code",
   "execution_count": 22,
   "metadata": {},
   "outputs": [],
   "source": [
    "X_train, X_test, y_train, y_test = train_test_split(features, labels, train_size=0.7, shuffle=True, random_state=123)"
   ]
  },
  {
   "cell_type": "markdown",
   "metadata": {},
   "source": [
    "## Logistic Regression"
   ]
  },
  {
   "cell_type": "code",
   "execution_count": 23,
   "metadata": {},
   "outputs": [],
   "source": [
    "from sklearn.linear_model import LogisticRegression"
   ]
  },
  {
   "cell_type": "code",
   "execution_count": 24,
   "metadata": {},
   "outputs": [],
   "source": [
    "lr = LogisticRegression(random_state=101).fit(X_train, y_train)"
   ]
  },
  {
   "cell_type": "code",
   "execution_count": 25,
   "metadata": {},
   "outputs": [
    {
     "name": "stdout",
     "output_type": "stream",
     "text": [
      "Confusion:\n",
      " [[2 0]\n",
      " [4 0]]\n",
      "Accuracy:  0.3333333333333333\n",
      "Precision (Games):  0.0\n",
      "Recall (Games):  0.0\n",
      "F1 (Games):  0.0\n",
      "Precision (Food):  0.3333333333333333\n",
      "Recall (Food):  1.0\n",
      "F1 (Food):  0.5\n"
     ]
    },
    {
     "name": "stderr",
     "output_type": "stream",
     "text": [
      "e:\\localhost\\Desktop\\dor-repos\\computer-science\\natural-language-processing\\repo\\venv\\lib\\site-packages\\sklearn\\metrics\\_classification.py:1469: UndefinedMetricWarning: Precision is ill-defined and being set to 0.0 due to no predicted samples. Use `zero_division` parameter to control this behavior.\n",
      "  _warn_prf(average, modifier, msg_start, len(result))\n"
     ]
    }
   ],
   "source": [
    "get_values(y_test, lr.predict(X_test))"
   ]
  },
  {
   "cell_type": "markdown",
   "metadata": {},
   "source": [
    "## Naive-Bayes"
   ]
  },
  {
   "cell_type": "code",
   "execution_count": 26,
   "metadata": {},
   "outputs": [],
   "source": [
    "from sklearn.naive_bayes import GaussianNB"
   ]
  },
  {
   "cell_type": "code",
   "execution_count": 28,
   "metadata": {},
   "outputs": [],
   "source": [
    "gnb = GaussianNB().fit(X_train, y_train)"
   ]
  },
  {
   "cell_type": "code",
   "execution_count": 29,
   "metadata": {},
   "outputs": [
    {
     "name": "stdout",
     "output_type": "stream",
     "text": [
      "Confusion:\n",
      " [[2 0]\n",
      " [2 2]]\n",
      "Accuracy:  0.6666666666666666\n",
      "Precision (Games):  1.0\n",
      "Recall (Games):  0.5\n",
      "F1 (Games):  0.6666666666666666\n",
      "Precision (Food):  0.5\n",
      "Recall (Food):  1.0\n",
      "F1 (Food):  0.6666666666666666\n"
     ]
    }
   ],
   "source": [
    "get_values(y_test, gnb.predict(X_test))"
   ]
  },
  {
   "cell_type": "markdown",
   "metadata": {},
   "source": [
    "## SVM"
   ]
  },
  {
   "cell_type": "code",
   "execution_count": 30,
   "metadata": {},
   "outputs": [],
   "source": [
    "from sklearn.svm import SVC"
   ]
  },
  {
   "cell_type": "code",
   "execution_count": 32,
   "metadata": {},
   "outputs": [],
   "source": [
    "svc = SVC().fit(X_train, y_train)"
   ]
  },
  {
   "cell_type": "code",
   "execution_count": 33,
   "metadata": {},
   "outputs": [
    {
     "name": "stdout",
     "output_type": "stream",
     "text": [
      "Confusion:\n",
      " [[2 0]\n",
      " [4 0]]\n",
      "Accuracy:  0.3333333333333333\n",
      "Precision (Games):  0.0\n",
      "Recall (Games):  0.0\n",
      "F1 (Games):  0.0\n",
      "Precision (Food):  0.3333333333333333\n",
      "Recall (Food):  1.0\n",
      "F1 (Food):  0.5\n"
     ]
    },
    {
     "name": "stderr",
     "output_type": "stream",
     "text": [
      "e:\\localhost\\Desktop\\dor-repos\\computer-science\\natural-language-processing\\repo\\venv\\lib\\site-packages\\sklearn\\metrics\\_classification.py:1469: UndefinedMetricWarning: Precision is ill-defined and being set to 0.0 due to no predicted samples. Use `zero_division` parameter to control this behavior.\n",
      "  _warn_prf(average, modifier, msg_start, len(result))\n"
     ]
    }
   ],
   "source": [
    "get_values(y_test, svc.predict(X_test))"
   ]
  },
  {
   "cell_type": "markdown",
   "metadata": {},
   "source": [
    "## Análise dos resultados\n",
    "\n",
    "Os resultados da matriz de confusão apresentaram-se idênticos no modelo de\n",
    "regressão logística e SVM, com isso as demais métricas foram as mesmas, mas\n",
    "o que apresentou melhores resultados foi o de Naive-Bayes, com acurácia maior\n",
    "que o mínimo aceitável de 50%. O desenvolvimento desta questão se provou\n",
    "desafiador, uma vez que para treinar o modelo requereu uma quantidade\n",
    "de memória muito alta; e essa dificuldade se mostrou nos resultados. Provavelmente\n",
    "uma melhor otimização ou entendimento do modelo poderia melhorar os resultados.\n",
    "\n",
    "O arranjo com o Naive-Bayes apresenta-se interessante para uma situação em que\n",
    "é necessário saber com certeza se o texto dado é de fato um texto sobre games,\n",
    "uma vez que apresentou uma precisão de 100%. Os outros modelos são péssimos em tudo."
   ]
  },
  {
   "attachments": {},
   "cell_type": "markdown",
   "metadata": {},
   "source": [
    "# Question 2"
   ]
  },
  {
   "cell_type": "code",
   "execution_count": 11,
   "metadata": {},
   "outputs": [
    {
     "name": "stderr",
     "output_type": "stream",
     "text": [
      "e:\\localhost\\Desktop\\dor-repos\\computer-science\\natural-language-processing\\repo\\venv\\lib\\site-packages\\tqdm\\auto.py:21: TqdmWarning: IProgress not found. Please update jupyter and ipywidgets. See https://ipywidgets.readthedocs.io/en/stable/user_install.html\n",
      "  from .autonotebook import tqdm as notebook_tqdm\n"
     ]
    }
   ],
   "source": [
    "from bertopic import BERTopic\n",
    "import pandas as pd"
   ]
  },
  {
   "cell_type": "code",
   "execution_count": 12,
   "metadata": {},
   "outputs": [],
   "source": [
    "df = pd.read_csv('../datasets/website_classification.csv')"
   ]
  },
  {
   "cell_type": "code",
   "execution_count": 13,
   "metadata": {},
   "outputs": [],
   "source": [
    "data = df[df['cleaned_website_text'].apply(lambda x: isinstance(x, str))]"
   ]
  },
  {
   "cell_type": "code",
   "execution_count": 14,
   "metadata": {},
   "outputs": [],
   "source": [
    "data = data.cleaned_website_text"
   ]
  },
  {
   "cell_type": "code",
   "execution_count": 15,
   "metadata": {},
   "outputs": [
    {
     "name": "stderr",
     "output_type": "stream",
     "text": [
      "Downloading (…)e9125/.gitattributes: 100%|██████████| 1.18k/1.18k [00:00<?, ?B/s]\n",
      "Downloading (…)_Pooling/config.json: 100%|██████████| 190/190 [00:00<00:00, 190kB/s]\n",
      "Downloading (…)7e55de9125/README.md: 100%|██████████| 10.6k/10.6k [00:00<00:00, 10.6MB/s]\n",
      "Downloading (…)55de9125/config.json: 100%|██████████| 612/612 [00:00<?, ?B/s] \n",
      "Downloading (…)ce_transformers.json: 100%|██████████| 116/116 [00:00<?, ?B/s] \n",
      "Downloading (…)125/data_config.json: 100%|██████████| 39.3k/39.3k [00:00<00:00, 9.81MB/s]\n",
      "Downloading pytorch_model.bin: 100%|██████████| 90.9M/90.9M [00:04<00:00, 18.5MB/s]\n",
      "Downloading (…)nce_bert_config.json: 100%|██████████| 53.0/53.0 [00:00<?, ?B/s]\n",
      "Downloading (…)cial_tokens_map.json: 100%|██████████| 112/112 [00:00<?, ?B/s] \n",
      "Downloading (…)e9125/tokenizer.json: 100%|██████████| 466k/466k [00:00<00:00, 1.46MB/s]\n",
      "Downloading (…)okenizer_config.json: 100%|██████████| 350/350 [00:00<?, ?B/s] \n",
      "Downloading (…)9125/train_script.py: 100%|██████████| 13.2k/13.2k [00:00<00:00, 13.2MB/s]\n",
      "Downloading (…)7e55de9125/vocab.txt: 100%|██████████| 232k/232k [00:00<00:00, 715kB/s]\n",
      "Downloading (…)5de9125/modules.json: 100%|██████████| 349/349 [00:00<?, ?B/s] \n"
     ]
    }
   ],
   "source": [
    "model = BERTopic(language='english')\n",
    "topics, probs = model.fit_transform(data)"
   ]
  },
  {
   "cell_type": "markdown",
   "metadata": {},
   "source": [
    "## Todos os tópicos da gerados com a base e suas palvras mais frequentes"
   ]
  },
  {
   "cell_type": "code",
   "execution_count": 17,
   "metadata": {},
   "outputs": [
    {
     "data": {
      "text/plain": [
       "{-1: [('sport', 0.016577594664465553),\n",
       "  ('car', 0.011662307106545783),\n",
       "  ('new', 0.011023681334278845),\n",
       "  ('close', 0.009730651636810828),\n",
       "  ('service', 0.00962132721585058),\n",
       "  ('rental', 0.009609883860660955),\n",
       "  ('home', 0.009524244275972824),\n",
       "  ('click', 0.009384549883012945),\n",
       "  ('badminton', 0.009315051893132165),\n",
       "  ('information', 0.009202277665754134)],\n",
       " 0: [('group', 0.011199841484864234),\n",
       "  ('edit', 0.0100934662197763),\n",
       "  ('science', 0.009982882702392736),\n",
       "  ('system', 0.009828057949111256),\n",
       "  ('file', 0.009461110538236102),\n",
       "  ('software', 0.009369662947404399),\n",
       "  ('student', 0.00936882939112789),\n",
       "  ('theory', 0.008895846047721638),\n",
       "  ('lesson', 0.00885789425045719),\n",
       "  ('business', 0.008835806241075097)],\n",
       " 1: [('news', 0.03600893817749506),\n",
       "  ('world', 0.016243480130335945),\n",
       "  ('late', 0.01548403772780324),\n",
       "  ('new', 0.014382530572539761),\n",
       "  ('trump', 0.013934392040669069),\n",
       "  ('coronavirus', 0.013709451024422267),\n",
       "  ('vaccine', 0.013366367617877854),\n",
       "  ('ago', 0.011674683203315961),\n",
       "  ('priestley', 0.010724896249438176),\n",
       "  ('say', 0.010325664120366148)],\n",
       " 2: [('hotel', 0.03858915547112808),\n",
       "  ('travel', 0.03161468089327851),\n",
       "  ('flight', 0.031080994646978683),\n",
       "  ('resort', 0.025133851462691897),\n",
       "  ('hotels', 0.02176326914511283),\n",
       "  ('room', 0.019950594506347386),\n",
       "  ('book', 0.019676873793694673),\n",
       "  ('fern', 0.018632059222311655),\n",
       "  ('tour', 0.017940593049898344),\n",
       "  ('package', 0.017080804582825137)],\n",
       " 3: [('recipe', 0.07569949692933804),\n",
       "  ('recipes', 0.042062325776651005),\n",
       "  ('chicken', 0.022814006528532247),\n",
       "  ('cake', 0.022657732066434733),\n",
       "  ('food', 0.021640536617209372),\n",
       "  ('easy', 0.020030553474668717),\n",
       "  ('chocolate', 0.01694878736635869),\n",
       "  ('soup', 0.015617515863247021),\n",
       "  ('pot', 0.015550324878756055),\n",
       "  ('breakfast', 0.014700844330408948)],\n",
       " 4: [('photography', 0.08066452523255913),\n",
       "  ('photographer', 0.05428969789020802),\n",
       "  ('camera', 0.045556996088628975),\n",
       "  ('photo', 0.03613979339311674),\n",
       "  ('celebrity', 0.026514272387186077),\n",
       "  ('image', 0.022965307648459984),\n",
       "  ('wedding', 0.022157374043512645),\n",
       "  ('mm', 0.020295124729856413),\n",
       "  ('lens', 0.019840241897203636),\n",
       "  ('nikon', 0.018109393328344377)],\n",
       " 5: [('chat', 0.19246547373533868),\n",
       "  ('room', 0.08588696135048043),\n",
       "  ('free', 0.03842505482114912),\n",
       "  ('online', 0.03048731644102953),\n",
       "  ('people', 0.02784805208091846),\n",
       "  ('friend', 0.02624130280793311),\n",
       "  ('gay', 0.021749407868999614),\n",
       "  ('christian', 0.021397912702393256),\n",
       "  ('join', 0.021171419244107197),\n",
       "  ('new', 0.02050318865127271)],\n",
       " 6: [('game', 0.08159028117804293),\n",
       "  ('card', 0.06703821902104587),\n",
       "  ('play', 0.04394705879792049),\n",
       "  ('player', 0.043760473529838834),\n",
       "  ('pinball', 0.02970682715489604),\n",
       "  ('board', 0.026736065541366667),\n",
       "  ('pile', 0.02436343765337991),\n",
       "  ('games', 0.024334979529927747),\n",
       "  ('rummy', 0.02365912992367928),\n",
       "  ('gin', 0.02318277160306829)],\n",
       " 7: [('shop', 0.04373994300514145),\n",
       "  ('view', 0.027676356653049693),\n",
       "  ('leather', 0.025926791313191054),\n",
       "  ('fashion', 0.02518619127245082),\n",
       "  ('suspenders', 0.02378667547808052),\n",
       "  ('shoes', 0.02364789868477554),\n",
       "  ('dress', 0.02327141634273408),\n",
       "  ('accessory', 0.022992950450295875),\n",
       "  ('jewellery', 0.02006373389046666),\n",
       "  ('shirt', 0.019223987959420277)],\n",
       " 8: [('nfl', 0.04287554265443986),\n",
       "  ('mlb', 0.041470761121173434),\n",
       "  ('football', 0.03137692291568692),\n",
       "  ('nba', 0.029840526951607382),\n",
       "  ('week', 0.024447554396626714),\n",
       "  ('sports', 0.023519433764997762),\n",
       "  ('december', 0.02328787836839624),\n",
       "  ('baseball', 0.021798442569908903),\n",
       "  ('wwe', 0.020684486886048053),\n",
       "  ('team', 0.020188922751407924)],\n",
       " 9: [('hospital', 0.07724302497147784),\n",
       "  ('care', 0.07371583899144098),\n",
       "  ('surgery', 0.06528915991830485),\n",
       "  ('best', 0.04837219540068038),\n",
       "  ('medicine', 0.045428577606195154),\n",
       "  ('patient', 0.03991886477280917),\n",
       "  ('specialty', 0.03511885950430021),\n",
       "  ('medical', 0.031893985634169744),\n",
       "  ('transplant', 0.029693260579759104),\n",
       "  ('liver', 0.02917600666505174)],\n",
       " 10: [('league', 0.06935930665816138),\n",
       "  ('premier', 0.03625807476881988),\n",
       "  ('arsenal', 0.03488001397643508),\n",
       "  ('liverpool', 0.03196837722907512),\n",
       "  ('football', 0.030424772728037647),\n",
       "  ('united', 0.025190840638906437),\n",
       "  ('madrid', 0.025054766461203203),\n",
       "  ('manchester', 0.024949782651421042),\n",
       "  ('champions', 0.022774970388630605),\n",
       "  ('december', 0.022544189413302006)],\n",
       " 11: [('india', 0.05068369808092374),\n",
       "  ('minister', 0.04110426907018202),\n",
       "  ('ministry', 0.03236768309579525),\n",
       "  ('affairs', 0.03132239758182734),\n",
       "  ('government', 0.02788077745099482),\n",
       "  ('nia', 0.026567954219293338),\n",
       "  ('pause', 0.02457269287079626),\n",
       "  ('national', 0.023636493397569125),\n",
       "  ('external', 0.022976180655262465),\n",
       "  ('information', 0.022263782787641725)],\n",
       " 12: [('music', 0.09741791495427296),\n",
       "  ('songs', 0.0733975048473574),\n",
       "  ('hindi', 0.06678575582422311),\n",
       "  ('song', 0.05526989280351595),\n",
       "  ('radio', 0.04770715309054289),\n",
       "  ('apple', 0.047410416954306374),\n",
       "  ('listen', 0.04350090601566495),\n",
       "  ('play', 0.038248924940213785),\n",
       "  ('rating', 0.03789083823491605),\n",
       "  ('user', 0.03413971496824029)],\n",
       " 13: [('cricket', 0.0907671504055213),\n",
       "  ('vs', 0.04934570169156582),\n",
       "  ('ipl', 0.048885194457611775),\n",
       "  ('match', 0.04525223693340239),\n",
       "  ('december', 0.0341737552431026),\n",
       "  ('test', 0.03220690988805983),\n",
       "  ('league', 0.0313400779195015),\n",
       "  ('preview', 0.030684027755545035),\n",
       "  ('t20', 0.030112132418980246),\n",
       "  ('australia', 0.02882299017063723)],\n",
       " 14: [('watch', 0.1416201903535838),\n",
       "  ('tv', 0.12907748035653616),\n",
       "  ('rate', 0.07254994680575635),\n",
       "  ('movie', 0.06886765993582303),\n",
       "  ('show', 0.04717428360297028),\n",
       "  ('stream', 0.0462116639586416),\n",
       "  ('free', 0.03776841427743291),\n",
       "  ('plex', 0.037399271865485785),\n",
       "  ('device', 0.03544851833682609),\n",
       "  ('episode', 0.03505431078859299)],\n",
       " 15: [('justice', 0.05158108545581305),\n",
       "  ('enforcement', 0.042312705591572394),\n",
       "  ('crime', 0.04225507307276844),\n",
       "  ('police', 0.04136002120430472),\n",
       "  ('corrections', 0.02938281394322932),\n",
       "  ('law', 0.028819490250215164),\n",
       "  ('information', 0.028261318573236386),\n",
       "  ('cia', 0.026685782464426985),\n",
       "  ('victim', 0.026187451130686566),\n",
       "  ('prison', 0.02593469384031109)],\n",
       " 16: [('election', 0.058856312736071),\n",
       "  ('parliament', 0.05794679600298011),\n",
       "  ('116th', 0.03605508071444164),\n",
       "  ('sabha', 0.03559495753483784),\n",
       "  ('legislation', 0.03499048571032749),\n",
       "  ('lok', 0.03146273683430078),\n",
       "  ('house', 0.030218947824227342),\n",
       "  ('legislative', 0.028397364456507132),\n",
       "  ('senate', 0.025136963518545014),\n",
       "  ('shri', 0.024600611758104626)],\n",
       " 17: [('live', 0.14385696016194086),\n",
       "  ('video', 0.11318958196227416),\n",
       "  ('streaming', 0.09461942251752407),\n",
       "  ('stream', 0.07735323491457644),\n",
       "  ('platform', 0.056032841397868294),\n",
       "  ('facebook', 0.041757762588693965),\n",
       "  ('event', 0.0356512375905957),\n",
       "  ('broadcast', 0.03564084370660015),\n",
       "  ('app', 0.035480721647641135),\n",
       "  ('support', 0.030199818324883127)],\n",
       " 18: [('cart', 0.20393322661406305),\n",
       "  ('add', 0.1820532059764055),\n",
       "  ('grocery', 0.06681090715553355),\n",
       "  ('trolley', 0.06316190332173997),\n",
       "  ('fresh', 0.04111414852228486),\n",
       "  ('kg', 0.03692706521628423),\n",
       "  ('quality', 0.03670420028763429),\n",
       "  ('price', 0.03543913390263003),\n",
       "  ('waitrose', 0.030165969781229828),\n",
       "  ('star', 0.028681257566965244)],\n",
       " 19: [('sex', 0.14261327483301095),\n",
       "  ('phone', 0.09067454642040389),\n",
       "  ('cock', 0.05311537311153374),\n",
       "  ('ass', 0.03207445151586365),\n",
       "  ('pussy', 0.029475898139673825),\n",
       "  ('fuck', 0.0293589706328434),\n",
       "  ('wife', 0.029157022916820596),\n",
       "  ('porn', 0.029098448032597014),\n",
       "  ('story', 0.026196425909312548),\n",
       "  ('hot', 0.02550320341648427)],\n",
       " 20: [('yoga', 0.20489941503611883),\n",
       "  ('practice', 0.04479246389970593),\n",
       "  ('poses', 0.030615100881001948),\n",
       "  ('health', 0.030306072594888964),\n",
       "  ('meditation', 0.030218638666638625),\n",
       "  ('life', 0.026571218842467336),\n",
       "  ('day', 0.025866211024992362),\n",
       "  ('pose', 0.02547602329987233),\n",
       "  ('wellness', 0.025123715335396684),\n",
       "  ('nepal', 0.021042411913398663)],\n",
       " 21: [('fitness', 0.106704697585127),\n",
       "  ('class', 0.10192817937094405),\n",
       "  ('training', 0.0677465442939393),\n",
       "  ('workout', 0.06430235253333938),\n",
       "  ('strength', 0.05276173120490314),\n",
       "  ('gym', 0.05024926781419346),\n",
       "  ('trainer', 0.0466729588944253),\n",
       "  ('personal', 0.04130514586191999),\n",
       "  ('charleston', 0.03775873632397676),\n",
       "  ('membership', 0.03147373273865414)],\n",
       " 22: [('gift', 0.1591740808623322),\n",
       "  ('baby', 0.06447342806895838),\n",
       "  ('gifts', 0.059177174064119625),\n",
       "  ('birthday', 0.053168460603674514),\n",
       "  ('cards', 0.05276432774288472),\n",
       "  ('card', 0.03246631963132339),\n",
       "  ('greeting', 0.031096994027632406),\n",
       "  ('balloons', 0.03078362934238411),\n",
       "  ('christmas', 0.030210905557266046),\n",
       "  ('custom', 0.02999084687204332)],\n",
       " 23: [('movie', 0.116866802126634),\n",
       "  ('tv', 0.11170147685242612),\n",
       "  ('series', 0.0955977111865963),\n",
       "  ('tvma', 0.08211518054875964),\n",
       "  ('comedy', 0.0814719020603212),\n",
       "  ('drama', 0.07203563864046557),\n",
       "  ('season', 0.051659405549052025),\n",
       "  ('tv14', 0.04916175142010297),\n",
       "  ('eps', 0.04447486583826802),\n",
       "  ('documentaries', 0.03688787597749363)],\n",
       " 24: [('chess', 0.4553059513641086),\n",
       "  ('tournament', 0.051077333610350335),\n",
       "  ('championship', 0.04678649742413666),\n",
       "  ('play', 0.04340270561548616),\n",
       "  ('fide', 0.03966545328247773),\n",
       "  ('puzzle', 0.038398046828725815),\n",
       "  ('endgame', 0.03469549764861713),\n",
       "  ('piece', 0.03351899628521288),\n",
       "  ('tcec', 0.031713107546582193),\n",
       "  ('california', 0.031342436309365694)],\n",
       " 25: [('cloudflare', 0.21655309532012354),\n",
       "  ('error', 0.19006255205407985),\n",
       "  ('josuttis', 0.15008104852134696),\n",
       "  ('nicolai', 0.1230697771913541),\n",
       "  ('page', 0.12175102291836189),\n",
       "  ('javascript', 0.11698947514517892),\n",
       "  ('enable', 0.10802237435792866),\n",
       "  ('browser', 0.10404114186370422),\n",
       "  ('frame', 0.09139141500329266),\n",
       "  ('web', 0.08518007872587119)],\n",
       " 26: [('cancer', 0.10965737084077469),\n",
       "  ('health', 0.06848127577716544),\n",
       "  ('treatment', 0.04115449429124531),\n",
       "  ('asthma', 0.04091691402021098),\n",
       "  ('facts', 0.02970922088377547),\n",
       "  ('oil', 0.029413769819918285),\n",
       "  ('fish', 0.0260845422509724),\n",
       "  ('symptom', 0.025843502858723867),\n",
       "  ('figures', 0.02541132641651031),\n",
       "  ('disease', 0.02425542593546255)]}"
      ]
     },
     "execution_count": 17,
     "metadata": {},
     "output_type": "execute_result"
    }
   ],
   "source": [
    "model.get_topics()"
   ]
  },
  {
   "cell_type": "markdown",
   "metadata": {},
   "source": [
    "## Visualização dos dados"
   ]
  },
  {
   "cell_type": "code",
   "execution_count": 19,
   "metadata": {},
   "outputs": [
    {
     "data": {
      "application/vnd.plotly.v1+json": {
       "config": {
        "plotlyServerURL": "https://plot.ly"
       },
       "data": [
        {
         "marker": {
          "color": "#D55E00"
         },
         "orientation": "h",
         "type": "bar",
         "x": [
          0.009461110538236102,
          0.009828057949111256,
          0.009982882702392736,
          0.0100934662197763,
          0.011199841484864234
         ],
         "xaxis": "x",
         "y": [
          "file  ",
          "system  ",
          "science  ",
          "edit  ",
          "group  "
         ],
         "yaxis": "y"
        },
        {
         "marker": {
          "color": "#0072B2"
         },
         "orientation": "h",
         "type": "bar",
         "x": [
          0.013934392040669069,
          0.014382530572539761,
          0.01548403772780324,
          0.016243480130335945,
          0.03600893817749506
         ],
         "xaxis": "x2",
         "y": [
          "trump  ",
          "new  ",
          "late  ",
          "world  ",
          "news  "
         ],
         "yaxis": "y2"
        },
        {
         "marker": {
          "color": "#CC79A7"
         },
         "orientation": "h",
         "type": "bar",
         "x": [
          0.02176326914511283,
          0.025133851462691897,
          0.031080994646978683,
          0.03161468089327851,
          0.03858915547112808
         ],
         "xaxis": "x3",
         "y": [
          "hotels  ",
          "resort  ",
          "flight  ",
          "travel  ",
          "hotel  "
         ],
         "yaxis": "y3"
        },
        {
         "marker": {
          "color": "#E69F00"
         },
         "orientation": "h",
         "type": "bar",
         "x": [
          0.021640536617209372,
          0.022657732066434733,
          0.022814006528532247,
          0.042062325776651005,
          0.07569949692933804
         ],
         "xaxis": "x4",
         "y": [
          "food  ",
          "cake  ",
          "chicken  ",
          "recipes  ",
          "recipe  "
         ],
         "yaxis": "y4"
        },
        {
         "marker": {
          "color": "#56B4E9"
         },
         "orientation": "h",
         "type": "bar",
         "x": [
          0.026514272387186077,
          0.03613979339311674,
          0.045556996088628975,
          0.05428969789020802,
          0.08066452523255913
         ],
         "xaxis": "x5",
         "y": [
          "celebrity  ",
          "photo  ",
          "camera  ",
          "photographer  ",
          "photography  "
         ],
         "yaxis": "y5"
        },
        {
         "marker": {
          "color": "#009E73"
         },
         "orientation": "h",
         "type": "bar",
         "x": [
          0.02784805208091846,
          0.03048731644102953,
          0.03842505482114912,
          0.08588696135048043,
          0.19246547373533868
         ],
         "xaxis": "x6",
         "y": [
          "people  ",
          "online  ",
          "free  ",
          "room  ",
          "chat  "
         ],
         "yaxis": "y6"
        },
        {
         "marker": {
          "color": "#F0E442"
         },
         "orientation": "h",
         "type": "bar",
         "x": [
          0.02970682715489604,
          0.043760473529838834,
          0.04394705879792049,
          0.06703821902104587,
          0.08159028117804293
         ],
         "xaxis": "x7",
         "y": [
          "pinball  ",
          "player  ",
          "play  ",
          "card  ",
          "game  "
         ],
         "yaxis": "y7"
        },
        {
         "marker": {
          "color": "#D55E00"
         },
         "orientation": "h",
         "type": "bar",
         "x": [
          0.02378667547808052,
          0.02518619127245082,
          0.025926791313191054,
          0.027676356653049693,
          0.04373994300514145
         ],
         "xaxis": "x8",
         "y": [
          "suspenders  ",
          "fashion  ",
          "leather  ",
          "view  ",
          "shop  "
         ],
         "yaxis": "y8"
        }
       ],
       "layout": {
        "annotations": [
         {
          "font": {
           "size": 16
          },
          "showarrow": false,
          "text": "Topic 0",
          "x": 0.0875,
          "xanchor": "center",
          "xref": "paper",
          "y": 1,
          "yanchor": "bottom",
          "yref": "paper"
         },
         {
          "font": {
           "size": 16
          },
          "showarrow": false,
          "text": "Topic 1",
          "x": 0.36250000000000004,
          "xanchor": "center",
          "xref": "paper",
          "y": 1,
          "yanchor": "bottom",
          "yref": "paper"
         },
         {
          "font": {
           "size": 16
          },
          "showarrow": false,
          "text": "Topic 2",
          "x": 0.6375000000000001,
          "xanchor": "center",
          "xref": "paper",
          "y": 1,
          "yanchor": "bottom",
          "yref": "paper"
         },
         {
          "font": {
           "size": 16
          },
          "showarrow": false,
          "text": "Topic 3",
          "x": 0.9125,
          "xanchor": "center",
          "xref": "paper",
          "y": 1,
          "yanchor": "bottom",
          "yref": "paper"
         },
         {
          "font": {
           "size": 16
          },
          "showarrow": false,
          "text": "Topic 4",
          "x": 0.0875,
          "xanchor": "center",
          "xref": "paper",
          "y": 0.4,
          "yanchor": "bottom",
          "yref": "paper"
         },
         {
          "font": {
           "size": 16
          },
          "showarrow": false,
          "text": "Topic 5",
          "x": 0.36250000000000004,
          "xanchor": "center",
          "xref": "paper",
          "y": 0.4,
          "yanchor": "bottom",
          "yref": "paper"
         },
         {
          "font": {
           "size": 16
          },
          "showarrow": false,
          "text": "Topic 6",
          "x": 0.6375000000000001,
          "xanchor": "center",
          "xref": "paper",
          "y": 0.4,
          "yanchor": "bottom",
          "yref": "paper"
         },
         {
          "font": {
           "size": 16
          },
          "showarrow": false,
          "text": "Topic 7",
          "x": 0.9125,
          "xanchor": "center",
          "xref": "paper",
          "y": 0.4,
          "yanchor": "bottom",
          "yref": "paper"
         }
        ],
        "height": 500,
        "hoverlabel": {
         "bgcolor": "white",
         "font": {
          "family": "Rockwell",
          "size": 16
         }
        },
        "showlegend": false,
        "template": {
         "data": {
          "bar": [
           {
            "error_x": {
             "color": "#2a3f5f"
            },
            "error_y": {
             "color": "#2a3f5f"
            },
            "marker": {
             "line": {
              "color": "white",
              "width": 0.5
             },
             "pattern": {
              "fillmode": "overlay",
              "size": 10,
              "solidity": 0.2
             }
            },
            "type": "bar"
           }
          ],
          "barpolar": [
           {
            "marker": {
             "line": {
              "color": "white",
              "width": 0.5
             },
             "pattern": {
              "fillmode": "overlay",
              "size": 10,
              "solidity": 0.2
             }
            },
            "type": "barpolar"
           }
          ],
          "carpet": [
           {
            "aaxis": {
             "endlinecolor": "#2a3f5f",
             "gridcolor": "#C8D4E3",
             "linecolor": "#C8D4E3",
             "minorgridcolor": "#C8D4E3",
             "startlinecolor": "#2a3f5f"
            },
            "baxis": {
             "endlinecolor": "#2a3f5f",
             "gridcolor": "#C8D4E3",
             "linecolor": "#C8D4E3",
             "minorgridcolor": "#C8D4E3",
             "startlinecolor": "#2a3f5f"
            },
            "type": "carpet"
           }
          ],
          "choropleth": [
           {
            "colorbar": {
             "outlinewidth": 0,
             "ticks": ""
            },
            "type": "choropleth"
           }
          ],
          "contour": [
           {
            "colorbar": {
             "outlinewidth": 0,
             "ticks": ""
            },
            "colorscale": [
             [
              0,
              "#0d0887"
             ],
             [
              0.1111111111111111,
              "#46039f"
             ],
             [
              0.2222222222222222,
              "#7201a8"
             ],
             [
              0.3333333333333333,
              "#9c179e"
             ],
             [
              0.4444444444444444,
              "#bd3786"
             ],
             [
              0.5555555555555556,
              "#d8576b"
             ],
             [
              0.6666666666666666,
              "#ed7953"
             ],
             [
              0.7777777777777778,
              "#fb9f3a"
             ],
             [
              0.8888888888888888,
              "#fdca26"
             ],
             [
              1,
              "#f0f921"
             ]
            ],
            "type": "contour"
           }
          ],
          "contourcarpet": [
           {
            "colorbar": {
             "outlinewidth": 0,
             "ticks": ""
            },
            "type": "contourcarpet"
           }
          ],
          "heatmap": [
           {
            "colorbar": {
             "outlinewidth": 0,
             "ticks": ""
            },
            "colorscale": [
             [
              0,
              "#0d0887"
             ],
             [
              0.1111111111111111,
              "#46039f"
             ],
             [
              0.2222222222222222,
              "#7201a8"
             ],
             [
              0.3333333333333333,
              "#9c179e"
             ],
             [
              0.4444444444444444,
              "#bd3786"
             ],
             [
              0.5555555555555556,
              "#d8576b"
             ],
             [
              0.6666666666666666,
              "#ed7953"
             ],
             [
              0.7777777777777778,
              "#fb9f3a"
             ],
             [
              0.8888888888888888,
              "#fdca26"
             ],
             [
              1,
              "#f0f921"
             ]
            ],
            "type": "heatmap"
           }
          ],
          "heatmapgl": [
           {
            "colorbar": {
             "outlinewidth": 0,
             "ticks": ""
            },
            "colorscale": [
             [
              0,
              "#0d0887"
             ],
             [
              0.1111111111111111,
              "#46039f"
             ],
             [
              0.2222222222222222,
              "#7201a8"
             ],
             [
              0.3333333333333333,
              "#9c179e"
             ],
             [
              0.4444444444444444,
              "#bd3786"
             ],
             [
              0.5555555555555556,
              "#d8576b"
             ],
             [
              0.6666666666666666,
              "#ed7953"
             ],
             [
              0.7777777777777778,
              "#fb9f3a"
             ],
             [
              0.8888888888888888,
              "#fdca26"
             ],
             [
              1,
              "#f0f921"
             ]
            ],
            "type": "heatmapgl"
           }
          ],
          "histogram": [
           {
            "marker": {
             "pattern": {
              "fillmode": "overlay",
              "size": 10,
              "solidity": 0.2
             }
            },
            "type": "histogram"
           }
          ],
          "histogram2d": [
           {
            "colorbar": {
             "outlinewidth": 0,
             "ticks": ""
            },
            "colorscale": [
             [
              0,
              "#0d0887"
             ],
             [
              0.1111111111111111,
              "#46039f"
             ],
             [
              0.2222222222222222,
              "#7201a8"
             ],
             [
              0.3333333333333333,
              "#9c179e"
             ],
             [
              0.4444444444444444,
              "#bd3786"
             ],
             [
              0.5555555555555556,
              "#d8576b"
             ],
             [
              0.6666666666666666,
              "#ed7953"
             ],
             [
              0.7777777777777778,
              "#fb9f3a"
             ],
             [
              0.8888888888888888,
              "#fdca26"
             ],
             [
              1,
              "#f0f921"
             ]
            ],
            "type": "histogram2d"
           }
          ],
          "histogram2dcontour": [
           {
            "colorbar": {
             "outlinewidth": 0,
             "ticks": ""
            },
            "colorscale": [
             [
              0,
              "#0d0887"
             ],
             [
              0.1111111111111111,
              "#46039f"
             ],
             [
              0.2222222222222222,
              "#7201a8"
             ],
             [
              0.3333333333333333,
              "#9c179e"
             ],
             [
              0.4444444444444444,
              "#bd3786"
             ],
             [
              0.5555555555555556,
              "#d8576b"
             ],
             [
              0.6666666666666666,
              "#ed7953"
             ],
             [
              0.7777777777777778,
              "#fb9f3a"
             ],
             [
              0.8888888888888888,
              "#fdca26"
             ],
             [
              1,
              "#f0f921"
             ]
            ],
            "type": "histogram2dcontour"
           }
          ],
          "mesh3d": [
           {
            "colorbar": {
             "outlinewidth": 0,
             "ticks": ""
            },
            "type": "mesh3d"
           }
          ],
          "parcoords": [
           {
            "line": {
             "colorbar": {
              "outlinewidth": 0,
              "ticks": ""
             }
            },
            "type": "parcoords"
           }
          ],
          "pie": [
           {
            "automargin": true,
            "type": "pie"
           }
          ],
          "scatter": [
           {
            "fillpattern": {
             "fillmode": "overlay",
             "size": 10,
             "solidity": 0.2
            },
            "type": "scatter"
           }
          ],
          "scatter3d": [
           {
            "line": {
             "colorbar": {
              "outlinewidth": 0,
              "ticks": ""
             }
            },
            "marker": {
             "colorbar": {
              "outlinewidth": 0,
              "ticks": ""
             }
            },
            "type": "scatter3d"
           }
          ],
          "scattercarpet": [
           {
            "marker": {
             "colorbar": {
              "outlinewidth": 0,
              "ticks": ""
             }
            },
            "type": "scattercarpet"
           }
          ],
          "scattergeo": [
           {
            "marker": {
             "colorbar": {
              "outlinewidth": 0,
              "ticks": ""
             }
            },
            "type": "scattergeo"
           }
          ],
          "scattergl": [
           {
            "marker": {
             "colorbar": {
              "outlinewidth": 0,
              "ticks": ""
             }
            },
            "type": "scattergl"
           }
          ],
          "scattermapbox": [
           {
            "marker": {
             "colorbar": {
              "outlinewidth": 0,
              "ticks": ""
             }
            },
            "type": "scattermapbox"
           }
          ],
          "scatterpolar": [
           {
            "marker": {
             "colorbar": {
              "outlinewidth": 0,
              "ticks": ""
             }
            },
            "type": "scatterpolar"
           }
          ],
          "scatterpolargl": [
           {
            "marker": {
             "colorbar": {
              "outlinewidth": 0,
              "ticks": ""
             }
            },
            "type": "scatterpolargl"
           }
          ],
          "scatterternary": [
           {
            "marker": {
             "colorbar": {
              "outlinewidth": 0,
              "ticks": ""
             }
            },
            "type": "scatterternary"
           }
          ],
          "surface": [
           {
            "colorbar": {
             "outlinewidth": 0,
             "ticks": ""
            },
            "colorscale": [
             [
              0,
              "#0d0887"
             ],
             [
              0.1111111111111111,
              "#46039f"
             ],
             [
              0.2222222222222222,
              "#7201a8"
             ],
             [
              0.3333333333333333,
              "#9c179e"
             ],
             [
              0.4444444444444444,
              "#bd3786"
             ],
             [
              0.5555555555555556,
              "#d8576b"
             ],
             [
              0.6666666666666666,
              "#ed7953"
             ],
             [
              0.7777777777777778,
              "#fb9f3a"
             ],
             [
              0.8888888888888888,
              "#fdca26"
             ],
             [
              1,
              "#f0f921"
             ]
            ],
            "type": "surface"
           }
          ],
          "table": [
           {
            "cells": {
             "fill": {
              "color": "#EBF0F8"
             },
             "line": {
              "color": "white"
             }
            },
            "header": {
             "fill": {
              "color": "#C8D4E3"
             },
             "line": {
              "color": "white"
             }
            },
            "type": "table"
           }
          ]
         },
         "layout": {
          "annotationdefaults": {
           "arrowcolor": "#2a3f5f",
           "arrowhead": 0,
           "arrowwidth": 1
          },
          "autotypenumbers": "strict",
          "coloraxis": {
           "colorbar": {
            "outlinewidth": 0,
            "ticks": ""
           }
          },
          "colorscale": {
           "diverging": [
            [
             0,
             "#8e0152"
            ],
            [
             0.1,
             "#c51b7d"
            ],
            [
             0.2,
             "#de77ae"
            ],
            [
             0.3,
             "#f1b6da"
            ],
            [
             0.4,
             "#fde0ef"
            ],
            [
             0.5,
             "#f7f7f7"
            ],
            [
             0.6,
             "#e6f5d0"
            ],
            [
             0.7,
             "#b8e186"
            ],
            [
             0.8,
             "#7fbc41"
            ],
            [
             0.9,
             "#4d9221"
            ],
            [
             1,
             "#276419"
            ]
           ],
           "sequential": [
            [
             0,
             "#0d0887"
            ],
            [
             0.1111111111111111,
             "#46039f"
            ],
            [
             0.2222222222222222,
             "#7201a8"
            ],
            [
             0.3333333333333333,
             "#9c179e"
            ],
            [
             0.4444444444444444,
             "#bd3786"
            ],
            [
             0.5555555555555556,
             "#d8576b"
            ],
            [
             0.6666666666666666,
             "#ed7953"
            ],
            [
             0.7777777777777778,
             "#fb9f3a"
            ],
            [
             0.8888888888888888,
             "#fdca26"
            ],
            [
             1,
             "#f0f921"
            ]
           ],
           "sequentialminus": [
            [
             0,
             "#0d0887"
            ],
            [
             0.1111111111111111,
             "#46039f"
            ],
            [
             0.2222222222222222,
             "#7201a8"
            ],
            [
             0.3333333333333333,
             "#9c179e"
            ],
            [
             0.4444444444444444,
             "#bd3786"
            ],
            [
             0.5555555555555556,
             "#d8576b"
            ],
            [
             0.6666666666666666,
             "#ed7953"
            ],
            [
             0.7777777777777778,
             "#fb9f3a"
            ],
            [
             0.8888888888888888,
             "#fdca26"
            ],
            [
             1,
             "#f0f921"
            ]
           ]
          },
          "colorway": [
           "#636efa",
           "#EF553B",
           "#00cc96",
           "#ab63fa",
           "#FFA15A",
           "#19d3f3",
           "#FF6692",
           "#B6E880",
           "#FF97FF",
           "#FECB52"
          ],
          "font": {
           "color": "#2a3f5f"
          },
          "geo": {
           "bgcolor": "white",
           "lakecolor": "white",
           "landcolor": "white",
           "showlakes": true,
           "showland": true,
           "subunitcolor": "#C8D4E3"
          },
          "hoverlabel": {
           "align": "left"
          },
          "hovermode": "closest",
          "mapbox": {
           "style": "light"
          },
          "paper_bgcolor": "white",
          "plot_bgcolor": "white",
          "polar": {
           "angularaxis": {
            "gridcolor": "#EBF0F8",
            "linecolor": "#EBF0F8",
            "ticks": ""
           },
           "bgcolor": "white",
           "radialaxis": {
            "gridcolor": "#EBF0F8",
            "linecolor": "#EBF0F8",
            "ticks": ""
           }
          },
          "scene": {
           "xaxis": {
            "backgroundcolor": "white",
            "gridcolor": "#DFE8F3",
            "gridwidth": 2,
            "linecolor": "#EBF0F8",
            "showbackground": true,
            "ticks": "",
            "zerolinecolor": "#EBF0F8"
           },
           "yaxis": {
            "backgroundcolor": "white",
            "gridcolor": "#DFE8F3",
            "gridwidth": 2,
            "linecolor": "#EBF0F8",
            "showbackground": true,
            "ticks": "",
            "zerolinecolor": "#EBF0F8"
           },
           "zaxis": {
            "backgroundcolor": "white",
            "gridcolor": "#DFE8F3",
            "gridwidth": 2,
            "linecolor": "#EBF0F8",
            "showbackground": true,
            "ticks": "",
            "zerolinecolor": "#EBF0F8"
           }
          },
          "shapedefaults": {
           "line": {
            "color": "#2a3f5f"
           }
          },
          "ternary": {
           "aaxis": {
            "gridcolor": "#DFE8F3",
            "linecolor": "#A2B1C6",
            "ticks": ""
           },
           "baxis": {
            "gridcolor": "#DFE8F3",
            "linecolor": "#A2B1C6",
            "ticks": ""
           },
           "bgcolor": "white",
           "caxis": {
            "gridcolor": "#DFE8F3",
            "linecolor": "#A2B1C6",
            "ticks": ""
           }
          },
          "title": {
           "x": 0.05
          },
          "xaxis": {
           "automargin": true,
           "gridcolor": "#EBF0F8",
           "linecolor": "#EBF0F8",
           "ticks": "",
           "title": {
            "standoff": 15
           },
           "zerolinecolor": "#EBF0F8",
           "zerolinewidth": 2
          },
          "yaxis": {
           "automargin": true,
           "gridcolor": "#EBF0F8",
           "linecolor": "#EBF0F8",
           "ticks": "",
           "title": {
            "standoff": 15
           },
           "zerolinecolor": "#EBF0F8",
           "zerolinewidth": 2
          }
         }
        },
        "title": {
         "font": {
          "color": "Black",
          "size": 22
         },
         "text": "Topic Word Scores",
         "x": 0.5,
         "xanchor": "center",
         "yanchor": "top"
        },
        "width": 1000,
        "xaxis": {
         "anchor": "y",
         "domain": [
          0,
          0.175
         ],
         "showgrid": true
        },
        "xaxis2": {
         "anchor": "y2",
         "domain": [
          0.275,
          0.45
         ],
         "showgrid": true
        },
        "xaxis3": {
         "anchor": "y3",
         "domain": [
          0.55,
          0.7250000000000001
         ],
         "showgrid": true
        },
        "xaxis4": {
         "anchor": "y4",
         "domain": [
          0.825,
          1
         ],
         "showgrid": true
        },
        "xaxis5": {
         "anchor": "y5",
         "domain": [
          0,
          0.175
         ],
         "showgrid": true
        },
        "xaxis6": {
         "anchor": "y6",
         "domain": [
          0.275,
          0.45
         ],
         "showgrid": true
        },
        "xaxis7": {
         "anchor": "y7",
         "domain": [
          0.55,
          0.7250000000000001
         ],
         "showgrid": true
        },
        "xaxis8": {
         "anchor": "y8",
         "domain": [
          0.825,
          1
         ],
         "showgrid": true
        },
        "yaxis": {
         "anchor": "x",
         "domain": [
          0.6000000000000001,
          1
         ],
         "showgrid": true
        },
        "yaxis2": {
         "anchor": "x2",
         "domain": [
          0.6000000000000001,
          1
         ],
         "showgrid": true
        },
        "yaxis3": {
         "anchor": "x3",
         "domain": [
          0.6000000000000001,
          1
         ],
         "showgrid": true
        },
        "yaxis4": {
         "anchor": "x4",
         "domain": [
          0.6000000000000001,
          1
         ],
         "showgrid": true
        },
        "yaxis5": {
         "anchor": "x5",
         "domain": [
          0,
          0.4
         ],
         "showgrid": true
        },
        "yaxis6": {
         "anchor": "x6",
         "domain": [
          0,
          0.4
         ],
         "showgrid": true
        },
        "yaxis7": {
         "anchor": "x7",
         "domain": [
          0,
          0.4
         ],
         "showgrid": true
        },
        "yaxis8": {
         "anchor": "x8",
         "domain": [
          0,
          0.4
         ],
         "showgrid": true
        }
       }
      }
     },
     "metadata": {},
     "output_type": "display_data"
    }
   ],
   "source": [
    "model.visualize_barchart()"
   ]
  },
  {
   "cell_type": "code",
   "execution_count": 7,
   "metadata": {},
   "outputs": [
    {
     "data": {
      "application/vnd.plotly.v1+json": {
       "config": {
        "plotlyServerURL": "https://plot.ly"
       },
       "data": [
        {
         "customdata": [
          [
           0,
           "servic | comput | bank | system | group",
           295
          ],
          [
           1,
           "news | world | late | vaccin | trump",
           111
          ],
          [
           2,
           "hotel | travel | flight | tour | resort",
           105
          ],
          [
           3,
           "recip | cook | food | chicken | cake",
           94
          ],
          [
           4,
           "photographi | photograph | camera | photo | imag",
           94
          ],
          [
           5,
           "gift | shop | accessori | shoe | shirt",
           76
          ],
          [
           6,
           "game | card | player | play | board",
           75
          ],
          [
           7,
           "hospit | care | surgeri | health | medicin",
           73
          ],
          [
           8,
           "chat | room | free | onlin | forum",
           69
          ],
          [
           9,
           "song | music | hindi | radio | listen",
           36
          ],
          [
           10,
           "india | minist | shri | sabha | polic",
           35
          ],
          [
           11,
           "cricket | ipl | vs | match | decemb",
           35
          ],
          [
           12,
           "sport | nfl | athlet | nba | footbal",
           35
          ],
          [
           13,
           "leagu | liverpool | arsen | premier | footbal",
           23
          ],
          [
           14,
           "correct | justic | crime | enforc | victim",
           22
          ],
          [
           15,
           "cart | add | groceri | shop | fresh",
           20
          ],
          [
           16,
           "stream | live | video | platform | tv",
           17
          ],
          [
           17,
           "class | fit | train | workout | strength",
           15
          ],
          [
           18,
           "sex | phone | cock | fuck | stori",
           15
          ],
          [
           19,
           "watch | movi | rate | tv | episod",
           14
          ],
          [
           20,
           "movi | tv | seri | comedi | tvma",
           13
          ],
          [
           21,
           "yoga | pose | practic | medit | life",
           12
          ],
          [
           22,
           "chess | championship | tournament | play | open",
           12
          ]
         ],
         "hovertemplate": "<b>Topic %{customdata[0]}</b><br>%{customdata[1]}<br>Size: %{customdata[2]}",
         "legendgroup": "",
         "marker": {
          "color": "#B0BEC5",
          "line": {
           "color": "DarkSlateGrey",
           "width": 2
          },
          "size": [
           295,
           111,
           105,
           94,
           94,
           76,
           75,
           73,
           69,
           36,
           35,
           35,
           35,
           23,
           22,
           20,
           17,
           15,
           15,
           14,
           13,
           12,
           12
          ],
          "sizemode": "area",
          "sizeref": 0.184375,
          "symbol": "circle"
         },
         "mode": "markers",
         "name": "",
         "orientation": "v",
         "showlegend": false,
         "type": "scatter",
         "x": [
          16.44618797302246,
          -8.599631309509277,
          16.343183517456055,
          3.6852939128875732,
          4.555516242980957,
          4.1367669105529785,
          17.008054733276367,
          15.70901107788086,
          4.479710578918457,
          -8.44914722442627,
          16.236862182617188,
          12.195600509643555,
          12.404492378234863,
          12.51738452911377,
          16.410425186157227,
          3.859989643096924,
          -8.388660430908203,
          15.32906436920166,
          4.283621788024902,
          -8.304924964904785,
          -8.507887840270996,
          15.116475105285645,
          17.145845413208008
         ],
         "xaxis": "x",
         "y": [
          3.7690367698669434,
          4.130412578582764,
          4.213034629821777,
          28.599821090698242,
          28.086559295654297,
          27.92411231994629,
          3.7166154384613037,
          3.5221242904663086,
          26.931020736694336,
          9.857595443725586,
          5.066115379333496,
          -2.773857355117798,
          -2.5651321411132812,
          -2.452162742614746,
          4.824316024780273,
          28.367225646972656,
          9.779226303100586,
          3.3478403091430664,
          27.248462677001953,
          3.836087226867676,
          4.038784027099609,
          3.156809091567993,
          3.854571580886841
         ],
         "yaxis": "y"
        }
       ],
       "layout": {
        "annotations": [
         {
          "showarrow": false,
          "text": "D1",
          "x": -9.88957600593567,
          "y": 14.849929147958754,
          "yshift": 10
         },
         {
          "showarrow": false,
          "text": "D2",
          "x": 4.91407310962677,
          "xshift": 10,
          "y": 32.88979425430298
         }
        ],
        "height": 650,
        "hoverlabel": {
         "bgcolor": "white",
         "font": {
          "family": "Rockwell",
          "size": 16
         }
        },
        "legend": {
         "itemsizing": "constant",
         "tracegroupgap": 0
        },
        "margin": {
         "t": 60
        },
        "shapes": [
         {
          "line": {
           "color": "#CFD8DC",
           "width": 2
          },
          "type": "line",
          "x0": 4.91407310962677,
          "x1": 4.91407310962677,
          "y0": -3.1899359583854676,
          "y1": 32.88979425430298
         },
         {
          "line": {
           "color": "#9E9E9E",
           "width": 2
          },
          "type": "line",
          "x0": -9.88957600593567,
          "x1": 19.71772222518921,
          "y0": 14.849929147958754,
          "y1": 14.849929147958754
         }
        ],
        "sliders": [
         {
          "active": 0,
          "pad": {
           "t": 50
          },
          "steps": [
           {
            "args": [
             {
              "marker.color": [
               [
                "red",
                "#B0BEC5",
                "#B0BEC5",
                "#B0BEC5",
                "#B0BEC5",
                "#B0BEC5",
                "#B0BEC5",
                "#B0BEC5",
                "#B0BEC5",
                "#B0BEC5",
                "#B0BEC5",
                "#B0BEC5",
                "#B0BEC5",
                "#B0BEC5",
                "#B0BEC5",
                "#B0BEC5",
                "#B0BEC5",
                "#B0BEC5",
                "#B0BEC5",
                "#B0BEC5",
                "#B0BEC5",
                "#B0BEC5",
                "#B0BEC5"
               ]
              ]
             }
            ],
            "label": "Topic 0",
            "method": "update"
           },
           {
            "args": [
             {
              "marker.color": [
               [
                "#B0BEC5",
                "red",
                "#B0BEC5",
                "#B0BEC5",
                "#B0BEC5",
                "#B0BEC5",
                "#B0BEC5",
                "#B0BEC5",
                "#B0BEC5",
                "#B0BEC5",
                "#B0BEC5",
                "#B0BEC5",
                "#B0BEC5",
                "#B0BEC5",
                "#B0BEC5",
                "#B0BEC5",
                "#B0BEC5",
                "#B0BEC5",
                "#B0BEC5",
                "#B0BEC5",
                "#B0BEC5",
                "#B0BEC5",
                "#B0BEC5"
               ]
              ]
             }
            ],
            "label": "Topic 1",
            "method": "update"
           },
           {
            "args": [
             {
              "marker.color": [
               [
                "#B0BEC5",
                "#B0BEC5",
                "red",
                "#B0BEC5",
                "#B0BEC5",
                "#B0BEC5",
                "#B0BEC5",
                "#B0BEC5",
                "#B0BEC5",
                "#B0BEC5",
                "#B0BEC5",
                "#B0BEC5",
                "#B0BEC5",
                "#B0BEC5",
                "#B0BEC5",
                "#B0BEC5",
                "#B0BEC5",
                "#B0BEC5",
                "#B0BEC5",
                "#B0BEC5",
                "#B0BEC5",
                "#B0BEC5",
                "#B0BEC5"
               ]
              ]
             }
            ],
            "label": "Topic 2",
            "method": "update"
           },
           {
            "args": [
             {
              "marker.color": [
               [
                "#B0BEC5",
                "#B0BEC5",
                "#B0BEC5",
                "red",
                "#B0BEC5",
                "#B0BEC5",
                "#B0BEC5",
                "#B0BEC5",
                "#B0BEC5",
                "#B0BEC5",
                "#B0BEC5",
                "#B0BEC5",
                "#B0BEC5",
                "#B0BEC5",
                "#B0BEC5",
                "#B0BEC5",
                "#B0BEC5",
                "#B0BEC5",
                "#B0BEC5",
                "#B0BEC5",
                "#B0BEC5",
                "#B0BEC5",
                "#B0BEC5"
               ]
              ]
             }
            ],
            "label": "Topic 3",
            "method": "update"
           },
           {
            "args": [
             {
              "marker.color": [
               [
                "#B0BEC5",
                "#B0BEC5",
                "#B0BEC5",
                "#B0BEC5",
                "red",
                "#B0BEC5",
                "#B0BEC5",
                "#B0BEC5",
                "#B0BEC5",
                "#B0BEC5",
                "#B0BEC5",
                "#B0BEC5",
                "#B0BEC5",
                "#B0BEC5",
                "#B0BEC5",
                "#B0BEC5",
                "#B0BEC5",
                "#B0BEC5",
                "#B0BEC5",
                "#B0BEC5",
                "#B0BEC5",
                "#B0BEC5",
                "#B0BEC5"
               ]
              ]
             }
            ],
            "label": "Topic 4",
            "method": "update"
           },
           {
            "args": [
             {
              "marker.color": [
               [
                "#B0BEC5",
                "#B0BEC5",
                "#B0BEC5",
                "#B0BEC5",
                "#B0BEC5",
                "red",
                "#B0BEC5",
                "#B0BEC5",
                "#B0BEC5",
                "#B0BEC5",
                "#B0BEC5",
                "#B0BEC5",
                "#B0BEC5",
                "#B0BEC5",
                "#B0BEC5",
                "#B0BEC5",
                "#B0BEC5",
                "#B0BEC5",
                "#B0BEC5",
                "#B0BEC5",
                "#B0BEC5",
                "#B0BEC5",
                "#B0BEC5"
               ]
              ]
             }
            ],
            "label": "Topic 5",
            "method": "update"
           },
           {
            "args": [
             {
              "marker.color": [
               [
                "#B0BEC5",
                "#B0BEC5",
                "#B0BEC5",
                "#B0BEC5",
                "#B0BEC5",
                "#B0BEC5",
                "red",
                "#B0BEC5",
                "#B0BEC5",
                "#B0BEC5",
                "#B0BEC5",
                "#B0BEC5",
                "#B0BEC5",
                "#B0BEC5",
                "#B0BEC5",
                "#B0BEC5",
                "#B0BEC5",
                "#B0BEC5",
                "#B0BEC5",
                "#B0BEC5",
                "#B0BEC5",
                "#B0BEC5",
                "#B0BEC5"
               ]
              ]
             }
            ],
            "label": "Topic 6",
            "method": "update"
           },
           {
            "args": [
             {
              "marker.color": [
               [
                "#B0BEC5",
                "#B0BEC5",
                "#B0BEC5",
                "#B0BEC5",
                "#B0BEC5",
                "#B0BEC5",
                "#B0BEC5",
                "red",
                "#B0BEC5",
                "#B0BEC5",
                "#B0BEC5",
                "#B0BEC5",
                "#B0BEC5",
                "#B0BEC5",
                "#B0BEC5",
                "#B0BEC5",
                "#B0BEC5",
                "#B0BEC5",
                "#B0BEC5",
                "#B0BEC5",
                "#B0BEC5",
                "#B0BEC5",
                "#B0BEC5"
               ]
              ]
             }
            ],
            "label": "Topic 7",
            "method": "update"
           },
           {
            "args": [
             {
              "marker.color": [
               [
                "#B0BEC5",
                "#B0BEC5",
                "#B0BEC5",
                "#B0BEC5",
                "#B0BEC5",
                "#B0BEC5",
                "#B0BEC5",
                "#B0BEC5",
                "red",
                "#B0BEC5",
                "#B0BEC5",
                "#B0BEC5",
                "#B0BEC5",
                "#B0BEC5",
                "#B0BEC5",
                "#B0BEC5",
                "#B0BEC5",
                "#B0BEC5",
                "#B0BEC5",
                "#B0BEC5",
                "#B0BEC5",
                "#B0BEC5",
                "#B0BEC5"
               ]
              ]
             }
            ],
            "label": "Topic 8",
            "method": "update"
           },
           {
            "args": [
             {
              "marker.color": [
               [
                "#B0BEC5",
                "#B0BEC5",
                "#B0BEC5",
                "#B0BEC5",
                "#B0BEC5",
                "#B0BEC5",
                "#B0BEC5",
                "#B0BEC5",
                "#B0BEC5",
                "red",
                "#B0BEC5",
                "#B0BEC5",
                "#B0BEC5",
                "#B0BEC5",
                "#B0BEC5",
                "#B0BEC5",
                "#B0BEC5",
                "#B0BEC5",
                "#B0BEC5",
                "#B0BEC5",
                "#B0BEC5",
                "#B0BEC5",
                "#B0BEC5"
               ]
              ]
             }
            ],
            "label": "Topic 9",
            "method": "update"
           },
           {
            "args": [
             {
              "marker.color": [
               [
                "#B0BEC5",
                "#B0BEC5",
                "#B0BEC5",
                "#B0BEC5",
                "#B0BEC5",
                "#B0BEC5",
                "#B0BEC5",
                "#B0BEC5",
                "#B0BEC5",
                "#B0BEC5",
                "red",
                "#B0BEC5",
                "#B0BEC5",
                "#B0BEC5",
                "#B0BEC5",
                "#B0BEC5",
                "#B0BEC5",
                "#B0BEC5",
                "#B0BEC5",
                "#B0BEC5",
                "#B0BEC5",
                "#B0BEC5",
                "#B0BEC5"
               ]
              ]
             }
            ],
            "label": "Topic 10",
            "method": "update"
           },
           {
            "args": [
             {
              "marker.color": [
               [
                "#B0BEC5",
                "#B0BEC5",
                "#B0BEC5",
                "#B0BEC5",
                "#B0BEC5",
                "#B0BEC5",
                "#B0BEC5",
                "#B0BEC5",
                "#B0BEC5",
                "#B0BEC5",
                "#B0BEC5",
                "red",
                "#B0BEC5",
                "#B0BEC5",
                "#B0BEC5",
                "#B0BEC5",
                "#B0BEC5",
                "#B0BEC5",
                "#B0BEC5",
                "#B0BEC5",
                "#B0BEC5",
                "#B0BEC5",
                "#B0BEC5"
               ]
              ]
             }
            ],
            "label": "Topic 11",
            "method": "update"
           },
           {
            "args": [
             {
              "marker.color": [
               [
                "#B0BEC5",
                "#B0BEC5",
                "#B0BEC5",
                "#B0BEC5",
                "#B0BEC5",
                "#B0BEC5",
                "#B0BEC5",
                "#B0BEC5",
                "#B0BEC5",
                "#B0BEC5",
                "#B0BEC5",
                "#B0BEC5",
                "red",
                "#B0BEC5",
                "#B0BEC5",
                "#B0BEC5",
                "#B0BEC5",
                "#B0BEC5",
                "#B0BEC5",
                "#B0BEC5",
                "#B0BEC5",
                "#B0BEC5",
                "#B0BEC5"
               ]
              ]
             }
            ],
            "label": "Topic 12",
            "method": "update"
           },
           {
            "args": [
             {
              "marker.color": [
               [
                "#B0BEC5",
                "#B0BEC5",
                "#B0BEC5",
                "#B0BEC5",
                "#B0BEC5",
                "#B0BEC5",
                "#B0BEC5",
                "#B0BEC5",
                "#B0BEC5",
                "#B0BEC5",
                "#B0BEC5",
                "#B0BEC5",
                "#B0BEC5",
                "red",
                "#B0BEC5",
                "#B0BEC5",
                "#B0BEC5",
                "#B0BEC5",
                "#B0BEC5",
                "#B0BEC5",
                "#B0BEC5",
                "#B0BEC5",
                "#B0BEC5"
               ]
              ]
             }
            ],
            "label": "Topic 13",
            "method": "update"
           },
           {
            "args": [
             {
              "marker.color": [
               [
                "#B0BEC5",
                "#B0BEC5",
                "#B0BEC5",
                "#B0BEC5",
                "#B0BEC5",
                "#B0BEC5",
                "#B0BEC5",
                "#B0BEC5",
                "#B0BEC5",
                "#B0BEC5",
                "#B0BEC5",
                "#B0BEC5",
                "#B0BEC5",
                "#B0BEC5",
                "red",
                "#B0BEC5",
                "#B0BEC5",
                "#B0BEC5",
                "#B0BEC5",
                "#B0BEC5",
                "#B0BEC5",
                "#B0BEC5",
                "#B0BEC5"
               ]
              ]
             }
            ],
            "label": "Topic 14",
            "method": "update"
           },
           {
            "args": [
             {
              "marker.color": [
               [
                "#B0BEC5",
                "#B0BEC5",
                "#B0BEC5",
                "#B0BEC5",
                "#B0BEC5",
                "#B0BEC5",
                "#B0BEC5",
                "#B0BEC5",
                "#B0BEC5",
                "#B0BEC5",
                "#B0BEC5",
                "#B0BEC5",
                "#B0BEC5",
                "#B0BEC5",
                "#B0BEC5",
                "red",
                "#B0BEC5",
                "#B0BEC5",
                "#B0BEC5",
                "#B0BEC5",
                "#B0BEC5",
                "#B0BEC5",
                "#B0BEC5"
               ]
              ]
             }
            ],
            "label": "Topic 15",
            "method": "update"
           },
           {
            "args": [
             {
              "marker.color": [
               [
                "#B0BEC5",
                "#B0BEC5",
                "#B0BEC5",
                "#B0BEC5",
                "#B0BEC5",
                "#B0BEC5",
                "#B0BEC5",
                "#B0BEC5",
                "#B0BEC5",
                "#B0BEC5",
                "#B0BEC5",
                "#B0BEC5",
                "#B0BEC5",
                "#B0BEC5",
                "#B0BEC5",
                "#B0BEC5",
                "red",
                "#B0BEC5",
                "#B0BEC5",
                "#B0BEC5",
                "#B0BEC5",
                "#B0BEC5",
                "#B0BEC5"
               ]
              ]
             }
            ],
            "label": "Topic 16",
            "method": "update"
           },
           {
            "args": [
             {
              "marker.color": [
               [
                "#B0BEC5",
                "#B0BEC5",
                "#B0BEC5",
                "#B0BEC5",
                "#B0BEC5",
                "#B0BEC5",
                "#B0BEC5",
                "#B0BEC5",
                "#B0BEC5",
                "#B0BEC5",
                "#B0BEC5",
                "#B0BEC5",
                "#B0BEC5",
                "#B0BEC5",
                "#B0BEC5",
                "#B0BEC5",
                "#B0BEC5",
                "red",
                "#B0BEC5",
                "#B0BEC5",
                "#B0BEC5",
                "#B0BEC5",
                "#B0BEC5"
               ]
              ]
             }
            ],
            "label": "Topic 17",
            "method": "update"
           },
           {
            "args": [
             {
              "marker.color": [
               [
                "#B0BEC5",
                "#B0BEC5",
                "#B0BEC5",
                "#B0BEC5",
                "#B0BEC5",
                "#B0BEC5",
                "#B0BEC5",
                "#B0BEC5",
                "#B0BEC5",
                "#B0BEC5",
                "#B0BEC5",
                "#B0BEC5",
                "#B0BEC5",
                "#B0BEC5",
                "#B0BEC5",
                "#B0BEC5",
                "#B0BEC5",
                "#B0BEC5",
                "red",
                "#B0BEC5",
                "#B0BEC5",
                "#B0BEC5",
                "#B0BEC5"
               ]
              ]
             }
            ],
            "label": "Topic 18",
            "method": "update"
           },
           {
            "args": [
             {
              "marker.color": [
               [
                "#B0BEC5",
                "#B0BEC5",
                "#B0BEC5",
                "#B0BEC5",
                "#B0BEC5",
                "#B0BEC5",
                "#B0BEC5",
                "#B0BEC5",
                "#B0BEC5",
                "#B0BEC5",
                "#B0BEC5",
                "#B0BEC5",
                "#B0BEC5",
                "#B0BEC5",
                "#B0BEC5",
                "#B0BEC5",
                "#B0BEC5",
                "#B0BEC5",
                "#B0BEC5",
                "red",
                "#B0BEC5",
                "#B0BEC5",
                "#B0BEC5"
               ]
              ]
             }
            ],
            "label": "Topic 19",
            "method": "update"
           },
           {
            "args": [
             {
              "marker.color": [
               [
                "#B0BEC5",
                "#B0BEC5",
                "#B0BEC5",
                "#B0BEC5",
                "#B0BEC5",
                "#B0BEC5",
                "#B0BEC5",
                "#B0BEC5",
                "#B0BEC5",
                "#B0BEC5",
                "#B0BEC5",
                "#B0BEC5",
                "#B0BEC5",
                "#B0BEC5",
                "#B0BEC5",
                "#B0BEC5",
                "#B0BEC5",
                "#B0BEC5",
                "#B0BEC5",
                "#B0BEC5",
                "red",
                "#B0BEC5",
                "#B0BEC5"
               ]
              ]
             }
            ],
            "label": "Topic 20",
            "method": "update"
           },
           {
            "args": [
             {
              "marker.color": [
               [
                "#B0BEC5",
                "#B0BEC5",
                "#B0BEC5",
                "#B0BEC5",
                "#B0BEC5",
                "#B0BEC5",
                "#B0BEC5",
                "#B0BEC5",
                "#B0BEC5",
                "#B0BEC5",
                "#B0BEC5",
                "#B0BEC5",
                "#B0BEC5",
                "#B0BEC5",
                "#B0BEC5",
                "#B0BEC5",
                "#B0BEC5",
                "#B0BEC5",
                "#B0BEC5",
                "#B0BEC5",
                "#B0BEC5",
                "red",
                "#B0BEC5"
               ]
              ]
             }
            ],
            "label": "Topic 21",
            "method": "update"
           },
           {
            "args": [
             {
              "marker.color": [
               [
                "#B0BEC5",
                "#B0BEC5",
                "#B0BEC5",
                "#B0BEC5",
                "#B0BEC5",
                "#B0BEC5",
                "#B0BEC5",
                "#B0BEC5",
                "#B0BEC5",
                "#B0BEC5",
                "#B0BEC5",
                "#B0BEC5",
                "#B0BEC5",
                "#B0BEC5",
                "#B0BEC5",
                "#B0BEC5",
                "#B0BEC5",
                "#B0BEC5",
                "#B0BEC5",
                "#B0BEC5",
                "#B0BEC5",
                "#B0BEC5",
                "red"
               ]
              ]
             }
            ],
            "label": "Topic 22",
            "method": "update"
           }
          ]
         }
        ],
        "template": {
         "data": {
          "bar": [
           {
            "error_x": {
             "color": "rgb(36,36,36)"
            },
            "error_y": {
             "color": "rgb(36,36,36)"
            },
            "marker": {
             "line": {
              "color": "white",
              "width": 0.5
             },
             "pattern": {
              "fillmode": "overlay",
              "size": 10,
              "solidity": 0.2
             }
            },
            "type": "bar"
           }
          ],
          "barpolar": [
           {
            "marker": {
             "line": {
              "color": "white",
              "width": 0.5
             },
             "pattern": {
              "fillmode": "overlay",
              "size": 10,
              "solidity": 0.2
             }
            },
            "type": "barpolar"
           }
          ],
          "carpet": [
           {
            "aaxis": {
             "endlinecolor": "rgb(36,36,36)",
             "gridcolor": "white",
             "linecolor": "white",
             "minorgridcolor": "white",
             "startlinecolor": "rgb(36,36,36)"
            },
            "baxis": {
             "endlinecolor": "rgb(36,36,36)",
             "gridcolor": "white",
             "linecolor": "white",
             "minorgridcolor": "white",
             "startlinecolor": "rgb(36,36,36)"
            },
            "type": "carpet"
           }
          ],
          "choropleth": [
           {
            "colorbar": {
             "outlinewidth": 1,
             "tickcolor": "rgb(36,36,36)",
             "ticks": "outside"
            },
            "type": "choropleth"
           }
          ],
          "contour": [
           {
            "colorbar": {
             "outlinewidth": 1,
             "tickcolor": "rgb(36,36,36)",
             "ticks": "outside"
            },
            "colorscale": [
             [
              0,
              "#440154"
             ],
             [
              0.1111111111111111,
              "#482878"
             ],
             [
              0.2222222222222222,
              "#3e4989"
             ],
             [
              0.3333333333333333,
              "#31688e"
             ],
             [
              0.4444444444444444,
              "#26828e"
             ],
             [
              0.5555555555555556,
              "#1f9e89"
             ],
             [
              0.6666666666666666,
              "#35b779"
             ],
             [
              0.7777777777777778,
              "#6ece58"
             ],
             [
              0.8888888888888888,
              "#b5de2b"
             ],
             [
              1,
              "#fde725"
             ]
            ],
            "type": "contour"
           }
          ],
          "contourcarpet": [
           {
            "colorbar": {
             "outlinewidth": 1,
             "tickcolor": "rgb(36,36,36)",
             "ticks": "outside"
            },
            "type": "contourcarpet"
           }
          ],
          "heatmap": [
           {
            "colorbar": {
             "outlinewidth": 1,
             "tickcolor": "rgb(36,36,36)",
             "ticks": "outside"
            },
            "colorscale": [
             [
              0,
              "#440154"
             ],
             [
              0.1111111111111111,
              "#482878"
             ],
             [
              0.2222222222222222,
              "#3e4989"
             ],
             [
              0.3333333333333333,
              "#31688e"
             ],
             [
              0.4444444444444444,
              "#26828e"
             ],
             [
              0.5555555555555556,
              "#1f9e89"
             ],
             [
              0.6666666666666666,
              "#35b779"
             ],
             [
              0.7777777777777778,
              "#6ece58"
             ],
             [
              0.8888888888888888,
              "#b5de2b"
             ],
             [
              1,
              "#fde725"
             ]
            ],
            "type": "heatmap"
           }
          ],
          "heatmapgl": [
           {
            "colorbar": {
             "outlinewidth": 1,
             "tickcolor": "rgb(36,36,36)",
             "ticks": "outside"
            },
            "colorscale": [
             [
              0,
              "#440154"
             ],
             [
              0.1111111111111111,
              "#482878"
             ],
             [
              0.2222222222222222,
              "#3e4989"
             ],
             [
              0.3333333333333333,
              "#31688e"
             ],
             [
              0.4444444444444444,
              "#26828e"
             ],
             [
              0.5555555555555556,
              "#1f9e89"
             ],
             [
              0.6666666666666666,
              "#35b779"
             ],
             [
              0.7777777777777778,
              "#6ece58"
             ],
             [
              0.8888888888888888,
              "#b5de2b"
             ],
             [
              1,
              "#fde725"
             ]
            ],
            "type": "heatmapgl"
           }
          ],
          "histogram": [
           {
            "marker": {
             "line": {
              "color": "white",
              "width": 0.6
             }
            },
            "type": "histogram"
           }
          ],
          "histogram2d": [
           {
            "colorbar": {
             "outlinewidth": 1,
             "tickcolor": "rgb(36,36,36)",
             "ticks": "outside"
            },
            "colorscale": [
             [
              0,
              "#440154"
             ],
             [
              0.1111111111111111,
              "#482878"
             ],
             [
              0.2222222222222222,
              "#3e4989"
             ],
             [
              0.3333333333333333,
              "#31688e"
             ],
             [
              0.4444444444444444,
              "#26828e"
             ],
             [
              0.5555555555555556,
              "#1f9e89"
             ],
             [
              0.6666666666666666,
              "#35b779"
             ],
             [
              0.7777777777777778,
              "#6ece58"
             ],
             [
              0.8888888888888888,
              "#b5de2b"
             ],
             [
              1,
              "#fde725"
             ]
            ],
            "type": "histogram2d"
           }
          ],
          "histogram2dcontour": [
           {
            "colorbar": {
             "outlinewidth": 1,
             "tickcolor": "rgb(36,36,36)",
             "ticks": "outside"
            },
            "colorscale": [
             [
              0,
              "#440154"
             ],
             [
              0.1111111111111111,
              "#482878"
             ],
             [
              0.2222222222222222,
              "#3e4989"
             ],
             [
              0.3333333333333333,
              "#31688e"
             ],
             [
              0.4444444444444444,
              "#26828e"
             ],
             [
              0.5555555555555556,
              "#1f9e89"
             ],
             [
              0.6666666666666666,
              "#35b779"
             ],
             [
              0.7777777777777778,
              "#6ece58"
             ],
             [
              0.8888888888888888,
              "#b5de2b"
             ],
             [
              1,
              "#fde725"
             ]
            ],
            "type": "histogram2dcontour"
           }
          ],
          "mesh3d": [
           {
            "colorbar": {
             "outlinewidth": 1,
             "tickcolor": "rgb(36,36,36)",
             "ticks": "outside"
            },
            "type": "mesh3d"
           }
          ],
          "parcoords": [
           {
            "line": {
             "colorbar": {
              "outlinewidth": 1,
              "tickcolor": "rgb(36,36,36)",
              "ticks": "outside"
             }
            },
            "type": "parcoords"
           }
          ],
          "pie": [
           {
            "automargin": true,
            "type": "pie"
           }
          ],
          "scatter": [
           {
            "fillpattern": {
             "fillmode": "overlay",
             "size": 10,
             "solidity": 0.2
            },
            "type": "scatter"
           }
          ],
          "scatter3d": [
           {
            "line": {
             "colorbar": {
              "outlinewidth": 1,
              "tickcolor": "rgb(36,36,36)",
              "ticks": "outside"
             }
            },
            "marker": {
             "colorbar": {
              "outlinewidth": 1,
              "tickcolor": "rgb(36,36,36)",
              "ticks": "outside"
             }
            },
            "type": "scatter3d"
           }
          ],
          "scattercarpet": [
           {
            "marker": {
             "colorbar": {
              "outlinewidth": 1,
              "tickcolor": "rgb(36,36,36)",
              "ticks": "outside"
             }
            },
            "type": "scattercarpet"
           }
          ],
          "scattergeo": [
           {
            "marker": {
             "colorbar": {
              "outlinewidth": 1,
              "tickcolor": "rgb(36,36,36)",
              "ticks": "outside"
             }
            },
            "type": "scattergeo"
           }
          ],
          "scattergl": [
           {
            "marker": {
             "colorbar": {
              "outlinewidth": 1,
              "tickcolor": "rgb(36,36,36)",
              "ticks": "outside"
             }
            },
            "type": "scattergl"
           }
          ],
          "scattermapbox": [
           {
            "marker": {
             "colorbar": {
              "outlinewidth": 1,
              "tickcolor": "rgb(36,36,36)",
              "ticks": "outside"
             }
            },
            "type": "scattermapbox"
           }
          ],
          "scatterpolar": [
           {
            "marker": {
             "colorbar": {
              "outlinewidth": 1,
              "tickcolor": "rgb(36,36,36)",
              "ticks": "outside"
             }
            },
            "type": "scatterpolar"
           }
          ],
          "scatterpolargl": [
           {
            "marker": {
             "colorbar": {
              "outlinewidth": 1,
              "tickcolor": "rgb(36,36,36)",
              "ticks": "outside"
             }
            },
            "type": "scatterpolargl"
           }
          ],
          "scatterternary": [
           {
            "marker": {
             "colorbar": {
              "outlinewidth": 1,
              "tickcolor": "rgb(36,36,36)",
              "ticks": "outside"
             }
            },
            "type": "scatterternary"
           }
          ],
          "surface": [
           {
            "colorbar": {
             "outlinewidth": 1,
             "tickcolor": "rgb(36,36,36)",
             "ticks": "outside"
            },
            "colorscale": [
             [
              0,
              "#440154"
             ],
             [
              0.1111111111111111,
              "#482878"
             ],
             [
              0.2222222222222222,
              "#3e4989"
             ],
             [
              0.3333333333333333,
              "#31688e"
             ],
             [
              0.4444444444444444,
              "#26828e"
             ],
             [
              0.5555555555555556,
              "#1f9e89"
             ],
             [
              0.6666666666666666,
              "#35b779"
             ],
             [
              0.7777777777777778,
              "#6ece58"
             ],
             [
              0.8888888888888888,
              "#b5de2b"
             ],
             [
              1,
              "#fde725"
             ]
            ],
            "type": "surface"
           }
          ],
          "table": [
           {
            "cells": {
             "fill": {
              "color": "rgb(237,237,237)"
             },
             "line": {
              "color": "white"
             }
            },
            "header": {
             "fill": {
              "color": "rgb(217,217,217)"
             },
             "line": {
              "color": "white"
             }
            },
            "type": "table"
           }
          ]
         },
         "layout": {
          "annotationdefaults": {
           "arrowhead": 0,
           "arrowwidth": 1
          },
          "autotypenumbers": "strict",
          "coloraxis": {
           "colorbar": {
            "outlinewidth": 1,
            "tickcolor": "rgb(36,36,36)",
            "ticks": "outside"
           }
          },
          "colorscale": {
           "diverging": [
            [
             0,
             "rgb(103,0,31)"
            ],
            [
             0.1,
             "rgb(178,24,43)"
            ],
            [
             0.2,
             "rgb(214,96,77)"
            ],
            [
             0.3,
             "rgb(244,165,130)"
            ],
            [
             0.4,
             "rgb(253,219,199)"
            ],
            [
             0.5,
             "rgb(247,247,247)"
            ],
            [
             0.6,
             "rgb(209,229,240)"
            ],
            [
             0.7,
             "rgb(146,197,222)"
            ],
            [
             0.8,
             "rgb(67,147,195)"
            ],
            [
             0.9,
             "rgb(33,102,172)"
            ],
            [
             1,
             "rgb(5,48,97)"
            ]
           ],
           "sequential": [
            [
             0,
             "#440154"
            ],
            [
             0.1111111111111111,
             "#482878"
            ],
            [
             0.2222222222222222,
             "#3e4989"
            ],
            [
             0.3333333333333333,
             "#31688e"
            ],
            [
             0.4444444444444444,
             "#26828e"
            ],
            [
             0.5555555555555556,
             "#1f9e89"
            ],
            [
             0.6666666666666666,
             "#35b779"
            ],
            [
             0.7777777777777778,
             "#6ece58"
            ],
            [
             0.8888888888888888,
             "#b5de2b"
            ],
            [
             1,
             "#fde725"
            ]
           ],
           "sequentialminus": [
            [
             0,
             "#440154"
            ],
            [
             0.1111111111111111,
             "#482878"
            ],
            [
             0.2222222222222222,
             "#3e4989"
            ],
            [
             0.3333333333333333,
             "#31688e"
            ],
            [
             0.4444444444444444,
             "#26828e"
            ],
            [
             0.5555555555555556,
             "#1f9e89"
            ],
            [
             0.6666666666666666,
             "#35b779"
            ],
            [
             0.7777777777777778,
             "#6ece58"
            ],
            [
             0.8888888888888888,
             "#b5de2b"
            ],
            [
             1,
             "#fde725"
            ]
           ]
          },
          "colorway": [
           "#1F77B4",
           "#FF7F0E",
           "#2CA02C",
           "#D62728",
           "#9467BD",
           "#8C564B",
           "#E377C2",
           "#7F7F7F",
           "#BCBD22",
           "#17BECF"
          ],
          "font": {
           "color": "rgb(36,36,36)"
          },
          "geo": {
           "bgcolor": "white",
           "lakecolor": "white",
           "landcolor": "white",
           "showlakes": true,
           "showland": true,
           "subunitcolor": "white"
          },
          "hoverlabel": {
           "align": "left"
          },
          "hovermode": "closest",
          "mapbox": {
           "style": "light"
          },
          "paper_bgcolor": "white",
          "plot_bgcolor": "white",
          "polar": {
           "angularaxis": {
            "gridcolor": "rgb(232,232,232)",
            "linecolor": "rgb(36,36,36)",
            "showgrid": false,
            "showline": true,
            "ticks": "outside"
           },
           "bgcolor": "white",
           "radialaxis": {
            "gridcolor": "rgb(232,232,232)",
            "linecolor": "rgb(36,36,36)",
            "showgrid": false,
            "showline": true,
            "ticks": "outside"
           }
          },
          "scene": {
           "xaxis": {
            "backgroundcolor": "white",
            "gridcolor": "rgb(232,232,232)",
            "gridwidth": 2,
            "linecolor": "rgb(36,36,36)",
            "showbackground": true,
            "showgrid": false,
            "showline": true,
            "ticks": "outside",
            "zeroline": false,
            "zerolinecolor": "rgb(36,36,36)"
           },
           "yaxis": {
            "backgroundcolor": "white",
            "gridcolor": "rgb(232,232,232)",
            "gridwidth": 2,
            "linecolor": "rgb(36,36,36)",
            "showbackground": true,
            "showgrid": false,
            "showline": true,
            "ticks": "outside",
            "zeroline": false,
            "zerolinecolor": "rgb(36,36,36)"
           },
           "zaxis": {
            "backgroundcolor": "white",
            "gridcolor": "rgb(232,232,232)",
            "gridwidth": 2,
            "linecolor": "rgb(36,36,36)",
            "showbackground": true,
            "showgrid": false,
            "showline": true,
            "ticks": "outside",
            "zeroline": false,
            "zerolinecolor": "rgb(36,36,36)"
           }
          },
          "shapedefaults": {
           "fillcolor": "black",
           "line": {
            "width": 0
           },
           "opacity": 0.3
          },
          "ternary": {
           "aaxis": {
            "gridcolor": "rgb(232,232,232)",
            "linecolor": "rgb(36,36,36)",
            "showgrid": false,
            "showline": true,
            "ticks": "outside"
           },
           "baxis": {
            "gridcolor": "rgb(232,232,232)",
            "linecolor": "rgb(36,36,36)",
            "showgrid": false,
            "showline": true,
            "ticks": "outside"
           },
           "bgcolor": "white",
           "caxis": {
            "gridcolor": "rgb(232,232,232)",
            "linecolor": "rgb(36,36,36)",
            "showgrid": false,
            "showline": true,
            "ticks": "outside"
           }
          },
          "title": {
           "x": 0.05
          },
          "xaxis": {
           "automargin": true,
           "gridcolor": "rgb(232,232,232)",
           "linecolor": "rgb(36,36,36)",
           "showgrid": false,
           "showline": true,
           "ticks": "outside",
           "title": {
            "standoff": 15
           },
           "zeroline": false,
           "zerolinecolor": "rgb(36,36,36)"
          },
          "yaxis": {
           "automargin": true,
           "gridcolor": "rgb(232,232,232)",
           "linecolor": "rgb(36,36,36)",
           "showgrid": false,
           "showline": true,
           "ticks": "outside",
           "title": {
            "standoff": 15
           },
           "zeroline": false,
           "zerolinecolor": "rgb(36,36,36)"
          }
         }
        },
        "title": {
         "font": {
          "color": "Black",
          "size": 22
         },
         "text": "<b>Intertopic Distance Map</b>",
         "x": 0.5,
         "xanchor": "center",
         "y": 0.95,
         "yanchor": "top"
        },
        "width": 650,
        "xaxis": {
         "anchor": "y",
         "domain": [
          0,
          1
         ],
         "range": [
          -9.88957600593567,
          19.71772222518921
         ],
         "title": {
          "text": ""
         },
         "visible": false
        },
        "yaxis": {
         "anchor": "x",
         "domain": [
          0,
          1
         ],
         "range": [
          -3.1899359583854676,
          32.88979425430298
         ],
         "title": {
          "text": ""
         },
         "visible": false
        }
       }
      }
     },
     "metadata": {},
     "output_type": "display_data"
    }
   ],
   "source": [
    "model.visualize_topics()"
   ]
  },
  {
   "attachments": {},
   "cell_type": "markdown",
   "metadata": {},
   "source": [
    "# Question 3"
   ]
  },
  {
   "attachments": {},
   "cell_type": "markdown",
   "metadata": {},
   "source": [
    "Abaixo está a criação do prompt utilizando o chat-GPT na versão 3.5\n",
    "A criação do prompt segue o que foi indicado [neste artigo](https://arxiv.org/abs/2304.10428)\n",
    "Na primeira etapa utilizamos a frase \"I am an excelent linguist\" para que as respostas sejam dadas utilizando os conhecimentos de linguística. \n",
    "Ainda nesta etapa informamos qual a tarefa queremos que seja realizada e informamos que as entidades são do tipo \"animal\" e após isso indicamos onde estão os exemplos.\n",
    "\n",
    "Na segunda etapa damos alguns exemplos, fornecendo inputs parecidos com os que ele receberia e outputs que mostram o padrão da resposta.\n",
    "\n",
    "Após isso, pedimos para que ele complete os outputs e passamos 5 inputs para que ele identifique as categorias."
   ]
  },
  {
   "cell_type": "code",
   "execution_count": 8,
   "metadata": {},
   "outputs": [],
   "source": [
    "from IPython.display import Image"
   ]
  },
  {
   "cell_type": "code",
   "execution_count": 9,
   "metadata": {},
   "outputs": [
    {
     "data": {
      "image/png": "[encoded data removed]",
      "text/plain": [
       "<IPython.core.display.Image object>"
      ]
     },
     "execution_count": 9,
     "metadata": {},
     "output_type": "execute_result"
    }
   ],
   "source": [
    "Image(filename='../assets/2023-10-08_11-25.png')"
   ]
  },
  {
   "attachments": {},
   "cell_type": "markdown",
   "metadata": {},
   "source": [
    "O resultado é mostrado abaixo:"
   ]
  },
  {
   "cell_type": "code",
   "execution_count": 10,
   "metadata": {},
   "outputs": [
    {
     "data": {
      "image/png": "[encoded data removed]",
      "text/plain": [
       "<IPython.core.display.Image object>"
      ]
     },
     "execution_count": 10,
     "metadata": {},
     "output_type": "execute_result"
    }
   ],
   "source": [
    "Image('../assets/2023-10-08_11-25_1.png')"
   ]
  },
  {
   "attachments": {},
   "cell_type": "markdown",
   "metadata": {},
   "source": [
    "# Question 4"
   ]
  },
  {
   "cell_type": "markdown",
   "metadata": {},
   "source": [
    "## Tratando dos dados"
   ]
  },
  {
   "cell_type": "code",
   "execution_count": 1,
   "metadata": {},
   "outputs": [],
   "source": [
    "import pandas as pd\n",
    "import random\n",
    "from unidecode import unidecode"
   ]
  },
  {
   "cell_type": "code",
   "execution_count": 2,
   "metadata": {},
   "outputs": [],
   "source": [
    "df = pd.read_csv('../datasets/website_classification.csv')"
   ]
  },
  {
   "cell_type": "code",
   "execution_count": 3,
   "metadata": {},
   "outputs": [],
   "source": [
    "data = df.cleaned_website_text.tolist()"
   ]
  },
  {
   "cell_type": "code",
   "execution_count": 4,
   "metadata": {},
   "outputs": [],
   "source": [
    "random.seed(101)\n",
    "selected_data = random.sample(data, 1000)"
   ]
  },
  {
   "cell_type": "code",
   "execution_count": 5,
   "metadata": {},
   "outputs": [],
   "source": [
    "new_data = [' '.join(dd.split(' ')[:10 - random.randint(0, 6)]) for dd in selected_data]"
   ]
  },
  {
   "cell_type": "code",
   "execution_count": 6,
   "metadata": {},
   "outputs": [
    {
     "name": "stdout",
     "output_type": "stream",
     "text": [
      "['japanese female facial expression jaffe dataset zenodo specifications japanese female', 'camera news review feature digital', 'online grocery shopping online', 'aafp home american academy family physicians american academy family', 'festive recipe butter sev shahi paneer sk khazana bhajanee chakli', 'toggle navigation menu lang lang cultureui home find hotel', 'home lightningstrike studios lightningstrike studios', 'online thesis number theory online s number theory', 'good online photography courses creativelive online photography', 'extensible markup language xml extensible markup language xml', 'deviantart discover large online art gallery', 'home ministry finance goi home department expenditure nodal', 'agent choice agents choice', 'photographers inspire online community photographer extensive photo', 'welcome degos disease support network network supporter information hub affect', 'vegan recipes angela liddon oh glow award win', 'download new mp3 songs online latest bollywood songs free latest', 'imphal free latest news opinion story day manipur northeast', 'care2 world large social network good', 'chat free chat room chat room', 'good online streaming shift72', 'jillycakes orlando fl gourmet cupcakes specialty cakes enjoy freshly bake', 'free online delivery food medicine grocery dunzo', 'practice yoga yoga basics yoga poses meditation history philosophy', 'twitpic dear twitpic community', 'rachel home cooking recipes home', 'home district court india official website district court india home', 'home jason bell photographer', 'financial advice plan future funds pty ltd', 'atari asteroids repair encyclopedia asteroids troubleshooting encyclopedia', 'loonygame present american mcgee alice looking glass', 'home dodho dodho magazine publish', 'epix hit movie tv', 'forum thehub online forums', 'chef ajay chopra official website passion food drive proudly', 'home department justice ministry law justice', 'photography blog forum light stalking photography', 'sports news sports news cricket news ipl pkl isl ipl', 'swm product engineering manufacturing company', 'mobile fun share perangkat lunak mobile gratis tema nokia', 'america leading prostate cancer support group', 'rms party moving services rms party moving services manage', 'houston trending news weather headlines sports business entertainment chron trend', 'time optional rule time time', 'chess history california chess chess history koltanowski kolty jude', 'velare worldwide destination colorado wedding videography', 'arabian nights windows mobygames arabian nights similar prince', 'new murfie feel music true medium', 'robot create jeff anderson robot doubt', 'source lord rings tolkien gaming online gaming havens game', 'book cheap flight hotels', 'page find skinny find', 'architectural hotel advertising editorial', 'instacart grocery delivery pickup local stores near grocery', 'cdn metacdn live streaming content delivery network', 'prevail boxing prevail la premier', 'inka experience perú travel agency inka experience offer custom', 'blog american veterinary medical association avma advocate member veterinarian', 'mary mercy livonia hospital mary mercy livonia locate mile road', 'hotel travel club saving money hotel flight', 'warritatafo news entertainment guru africa number news entertainment blog', 'find mclaggan page find customer service', 'shuttle badminton blog blog discuss thing badminton', 'luxury hotel soho london w1b hotel', 'pinch yum food blog simple', 'senior chat room senior forum chatter chat room social', 'usa today news usa today biography entertenment', 'watch free tv show movie online tubi', 'college baseball mlb draft prospects baseball america baseball', 'script fix script coverage screenplay development affordable screenplay', 'larry young facial plastic', 'home nextenergy solar fund large list solar fund', 'angledcables webstore buy right angle usb', 'home lay celebration good', 'free online chat rooms wireclub join free online chat', 'group theory wikipedia group theory', 'home free astronomy course lesson', 'atf home page bureau alcohol tobacco firearms explosives', 'safe senior chat rooms online 50 chatting site', 'explain scientific theories inductive reasoning answer common question', 'holiday lets homes experiences places', 'good free live stream software windows mac', 'watch download films live streaming tv', 'ethio usa tours travel agency african expedition expert', 'westside online india shopping mens womens', 'portland team fitness personal training portland', 'online grocery shopping online supermarket india bigbasket online grocery', 'protein bar kitchen order', 'home nfl nba mlb nhl nfl', 'caffeine owl welcome finally site feel free', 'freedom tinker research expert commentary digital technology public life', 'chef fresh kitchen welcome chef find easy', 'bank underground bank underground hindsight supervisor learn collapse barings bank', 'cricket academy dubai uae cricket association search', 'buzzen chat free chat network', 'mike kelley architectural photographer mike kelley los angeles base photographer', 'clothing sporting goods clothing sporting goods custom', 'home bakery nouveau web shop open hour locations select pickup', 'independent voice west indies cricket main coming match live scores', 'stream live video online vimeo livestream live stream', 'college baseball rankings scores', 'home ipf announcements vision', 'welcome university hospital zurich', 'play chess chess problems chess', 'putlocker watch movie online free putlockers lll', 'watch episode favorite show stream episode series include', 'wholesale port authority clothing save everyday offer', 'hollywood fashion secrets home page hollywood fashion secrets home', 'good hospital india multispeciality health care hospitals india', 'padhuskitchen easy indian vegetarian recipes easy cook indian vegetarian recipes', 'watch diy network live start streaming free watch', 'xanga xanga xanga xanga xanga news learn theme update', 'breaking news central business covid vaccine drug company bumper profit', 'mary healthcare system children mary healthcare', 'welcome prime video enjoy exclusive amazon originals popular', 'home global vision uk late news comment analysis united', 'tennis free home courtline courtline tennis management tennis content', 'page find sorry find', 'homemade family friendly recipes', 'mathieu stern photography double exposure border trichromy', 'india forums latest entertainment news india', 'latest updated sports news sports', 'botany learn plant article resource plant', 'election commission india eci election', 'usa today latest world news usa today deliver current', 'shemaroo entertainment limited shemaroo entertainment limited', 'home weekly tide weekly tide breaking', 'live video chat room', 'home fogo island inn fogo island inn island island find', 'key west cottage rentals sunset key cottages detail', 'port macquarie panthers bridge club home', 'nicolai josuttis objektorientiertes programmieren consulting josuttis objektorientiertes programmieren', 'cask cask bar kitchen new york city', 'online shopping website india online', 'self drive car rental', 'symptom checker health information', 'weather photography lightning cloud', 'latest business news technology news news yerozo stay update', 'thyme mango thyme mango skip', 'photography life photography life provide article', 'home ayeshaaccessorie ayesha jewellery accessory girl woman boy kid', 'welcome seagrass software custom software business include ecommerce mobile', 'online supermarket grocery shopping store india nature basket online', 'home department legal affairs mol j goi home legal affair', 'idsa home new response idsa president barbara alexander', 'affordable tours official site travel vacation package tours cruises river', 'football news live scores results transfers', 'sex stories archive free sex story archive hot', 'av rental production california avista audio visual rentals', 'yoga girl yoga girl thank grow practice community', 'premier texas tournament texas', 'classic video games nexus regret inform classic video games nexus', 'live tv streaming klowdtv klowdtv provide live tv streaming desktop', 'pictures bbc news bbc news pictures news story topical', 'home geomatics engineering schulich school engineering university calgary', 'welcome authorized dealer insight avionics', 'linn images photography houston product options', 'football news transfer rumours leeds fan react marcelo bielsa', 'sportspac12 cover conference cover conference sportspac12 mora utah football', 'football stat form table result analysis', 'charleston kettlebell club charleston school', 'nigeria sport news transfer gossip nigeria sports news late', 'vet times website veterinary profession bring publisher', 'island dreams world travel world want featured', 'home alessi bakery alessi bakery holiday catering weekly deal find', 'lieben fotografi fotograf molde lieben', 'functionality site necessary enable javascript', 'barcelona field studies centre fieldwork geography ecology biology field study', 'killer dana surf shop locally own operate', 'fashion photography blog fashion camera life fashion photographer het perfecte', 'sport job sport news', 'dassana veg recipes vegetarian indian world recipes food', 'burgerbae clothing vintage vibe week week new limit', 'l bow kid mittens glove', 'election commission india eci election commission india', 'government russian government новости', 'home dea breadcrumb texas clinic owner', 'raw story celebrate year independent journalism', 'yahoo news latest news headlines late', 'love lemons healthy food vegan vegetarian', 'toronto fashion photographer sanz lénaïc photography sanz', 'little goat chicago welcome little goat diner', 'startpage english swedish police authority welcome swedish police short', 'british airways book flights', 'news latest news breaking', 'tropicana resort spa resorts alibaug resorts welcome', 'find jodi page find spam', 'ado basics ado basics home access ado', 'mess vegan recipes wholesome meals', 'bjarne stroustrup homepage welcome bjarne', 'moksh farms alliance hospitality services moksh farms lonavala overview exclusive', 'hk china asia news opinion scmp global edition south china', 'rent buy designer handbags purses accessories', 'fiber optic splicing installation fiber tel contractors offer fiber', 'burj al arab dubai iconic hotel jumeirah', 'simply tadka cooking love visible', 'watch free movies tv stream', 'canave oia epitome good santorini resort santorini welcome', 'fill bust card dice game fill bust fill bust great', 'bow window coffee shop heart lenham kent situate picturesque', 'news observatory stories break world news', 'football london latest news comment picture london club', 'aes electrophoresis society promote scientific advancement electrophoretic theory application electrophoresis', 'cbs tv network primetime daytime late night', 'middle house shanghai swire hotels welcome house', 'newszetu daily news updates year browns break cleveland', 'software define ipam dns', 'live video streaming software vmix live', 'bake shivesh share baking', 'hamad medical corporation home health', 'home agronomy american society', 'ultimate classical music streaming app idagio', 'latest cricket news updates latest cricket news live scores schedule', 'gimme delicious food make healthy', 'sunrise door software large bbs', 'pro wear source pro baseball gloves cleats bats pro basketball', 'bbc homepage breaking news sport tv radio lot bbc inform', 'mtm centre leadership management development', 'marek gibney hell run gnod product chart write thing connect', 'fda approved prescription medication information', 'scottygroup satcom solutions scotty supply', 'fire ecology wikipedia fire', 'siriusxm stream listen music entertainment sports siriusxm bring wide', 'home photographic society america', 'hi5 नए और नए और नए नए', 'anonymous chat rooms meet', 'telegram messenger recent news pin', 'flower delivery online india', 'cookies cups eat dessert cookies cups feature', 'home page cricxtasy gallery india', 'alert system unavailable delta air lines alert system unavailable skip', 'free online chat room kids teens teen chat room', 'lambda ultimate programming languages weblog lambda ultimate user login navigation', 'ndfeb magnets magnet wire books', 'morgan cooper melbourne gippsland', 'essentiallysports fan perspective sports news portal fan cover mma tennis', 'theoretical population biology journal elsevier interdisciplinary journal theoretical', 'hotel nusa dua bali', 'page find learn ayurveda cart oops page find touch', 'home physics world iop physics world topics', 'complete sports nigeria latest nigeria sports', 'real college life student', 'sport grill sport grill stop guide late football motorsport action', 'news articles videos scores schedules endeavour provide date news blog', 'blog starling bank starling blog bring article money', 'book flights check online vistara introducing', 'skinnytaste delicious healthy recipe real', 'mubi watch discover movies watch', 'times plain english news plain english speaker language', 'windowsbro windows tip fix help', 'football live streaming betting tips news videos', 'home skyline pacific properties welcome skyline pacific properties llc', 'bring late sports 247sportsgist cristiano ronaldo accessible lionel messi miguel', 'viceversa software file synchronization file replication windows backup software', 'precision truck products inc', 'bayesian network software agenarisk', 'tv live streaming tv tv att tv tv app att', 'ilovepdf online pdf tool', 'like doll hierloom quality', 'royal photographic society home rps royal', 'free chat room free online', 'online gin rummy online casino games online casino report regular', 'simply scarves capture classic simple elegance', 'epicurus consulting epicurus index skip', 'world badminton webzine world badminton webzine world badminton webzine', 'cordless phones jitterbug phones', 'agave travel creative sicily travel specialist sicily', 'google news comprehensive date news', 'home national institute justice national institute justice nij dedicate improve', 'unofficial mao home page welcome visitor', 'home bbc news visit bbc', 'welcome bluehost rate web', 'trend story indian lifestyle', 'peter mckinnon toronto photographer peter', 'mopinball pinball machine information selling repair pinball machine mexico', 'mlb stats scores history records baseball stats history', 'free online dating free picture personals hottest singles', 'joseph priestley wikipedia joseph priestley content early life', 'olive bar kitchen pvt ltd', 'instrumental chemistry fw dw html instrumental chemistry analytical chemistry chromatography', 'language english deutsch français', 'wolrdwide news international breaking news news', 'aim adventure welcome home hunting fishing contact aim adventure', 'chat family free chat room', 'freedom health recovery site provide holistic healing atma soul yoga', 'japan airlines jal flight japan india', 'digital photography school digital photography tip tutorial', 'institutional mutual funds website view site work', 'nitric oxide journal elsevier read late article nitric oxide elsevier', 'home hint news portal hint news website create', 'david moore florida pc doctor computer repair florida', 'bright trading bright trading let capitalize trading busines learn', 'home american banker read late banking finance industry award', 'newsline entertainment lifestyle politics sports news dkoding dkoding publish', 'viovet blog useful pet advice tips pet equine advice topical', 'retrosoftware main page retro software homebrew', 'desi minimals minimal t shirt', 'xumo free movie xumo ultimate destination stream', 'café sé day café austin texas serve breakfast lunch dinner', 'home page central board indirect taxes', 'watch showtime series online free showtime watch', 'y99 free random online chat', 'bandwidth limit exceed bandwidth limit exceed', 'pet poison helpline blog pet poison helpline welcome pet poison', 'faculty native studies search popular', 'juggle home page j unix', 'gwcc homepage greater worcester chess club chesspals event', 'cab services delhi online taxi booking bangalore airport taxi', 'ilbs hospital delhi best hospital', 'bravo tv official site watch episode exclusive', 'photographers inspire online community photographer', 'hotel reservations bundle save', 'world abstract games w rld abstract games variations games soldiers', 'nfl college sports nba recruit source news', 'chemistry lesson chemistry course chemistry class chemistry exam', 'solitaire strategy solitaire strategy detail step process guide', 'latest sports news scores highlights late sport', 'official site second life virtual world virtual reality', 'transporter room uss agamemnon sign sign', 'cook republic easy delicious vegetarian vegan recipes', 'news sport opinion guardian global', 'love veterinary blog veterinarians vet', 'gaymale softcore free nude pictures phone', 'excite news find late breaking news information story', 'twin town bridge club twin towns bridge club', 'live cricket streaming watch live', 'c thing software home freeware tool', 'online shopping shop clothing', 'hplc course course chromatography hplc different knowledge', 'angel dear blankies animal blankets swaddle designs collections funbath angel', 'dog photographer pet photographer ayrshire edinburgh dog', 'molecular evolution wikipedia molecular', 'avasea resort krabi avasea', 'watchtv stream channel live tv want watchtv extra charge qualify', 'canoe sports videos photos news results scoreboard', 'premium luxury wellness hotels', 'elemental element flash card', 'suresource24 breaking news investigation entertainment sport movies music lifestyle', 'diethood easy delicious healthy recipes love easy delicious healthy', 'everyday health trust medical information expert health advice news tools', 'home ministry defence ministry department defence army navy', 'home cricblog bbl match hur vs str preview', 'yoga journal yoga poses meditations sequences free classes', 'indian institute technology guwahati news announcements', 'news sport opinion guardian global edition', 'ecoeducation initiative mission expedition education institute ecoeducation initiative expedition', 'easy bistro chattanooga sister restaurant guest chef event', 'watch lgbtq movies films', 'viange vintage viange vintage', 'moviestars watch hd movies online free able watch movie', 'professional skills development training columbia college calgary', 'pure volume follow memes music await', 'amc watch tv show', 'parakeet cafe healthy food drinks la jolla little italy del', 'public tv latest news live breaking news today', 'sunshine aircraft repair home page base air corridor', 'doubles wild board game boardgamegeek box', 'online dating', 'grooveshark free music streaming listen song', 'photopreneur photography books photography ebook photography courses photography course book', 'interactive science teacher home interactive science teacher science', 'cading coding cading coding tuesday', 'home cobra lair cobra', 'free chat room chat avenue', 'virtual world unique website design virtual', 'natural health website reliable source health article', 'home page watch late movie', 'secret bay award winning', 'linkedin log sign member manage professional identity build engage', 'home theater marketplace home theater seating quick ship', 'chatroulette random video chat chatroulette original internet break', 'seriously sports sports articles seriously sports main story mvp race', 'pensioner portal egovernance initiative department pension pensioners welfare', 'abc news breaking news latest', 'facebook live facebook medium live facebook broadcast conversation', 'home page pet crafts exquisitely piece handcut', 'credit management association membership membership', 'lavasa hotels waterfront shaw waterfront', 'chat online registration online chat', 'pizza bay pizza bay food special special offer buffet', 'd sports daenad sports bring information score card performance different', 'home page lega serie supercoppa italiana supercoppa primavera', 'ayurvedic products online shopping shop online food', 'fast fourier transform wolfram mathworld fast', 'tropical enterprises nantucket basket nantucket lightship basket', 'wait sec welcome azmovie azmovie good source watch', 'help store browser support good experience', 'live streaming apps video stream software', 'free music online internet radio jango internet radio', 'news california nation world los angeles times times leading', 'hot wife milf stories slut wife sex', 'resource page gif2png resource page gif2png convert gif png resource', 'quick tricks bridge centre bridge bridge quick', 'phuket tours phuket travel agency package excursions phuket phuket tours', 'dlive live stream blockchain', 'chat free chat rooms south africa registration require chat free', 'personalized gifts find send custom gift', 'ilili restaurant lebanese mediterranean food manhattan nyc ilili restaurant nyc', 'novotel hotels book hotel family holiday business trip novotel hotels', 'worldpresslive worldpresslive share current news sport news entertainment general public', 'steve aircraft general aviation maintenance general aviation maintenance', 'switchboard cloud easy way multistream live video social', 'come soon babylon come soon work hard finish development', 'bot create free account create free account sign', 'bot create free account', 'clean ridge soap company clean ridge soap company clean ridge', 'spain portugal travel agent customised tours totally spain savvy', 'anghami sound freedom music love freedom need arabic international', 'free backup solution dvd movie dvdshrink', 'sports mirror sports news transfers', 'washington trust bank blog', 'columbus coffee shop bakery fox snow cafe bakery coffee tea', 'prime minister india pmindia president', 'listen good podcasts show online', 'welcome ann arbor thermography serve southeast michigan', 'deloitte uk audit consulting financial advisory', 'zinc cafe home zinc business provide employee customer sense', 'cassandra ladru photography journalistic style wedding lifestyle', 'buzz sports buzz sports sports news includes football tennis', 'acc repair guy page', 'deliciously ella live well useful vegetable cool welcome deliciously ella', 'spuul watch live tv movies', 'good dating site singles meeting russian girl ukrainian women love', 'download latest mp3 song online play old new', 'hand foot card game rules play hand foot', 'sunbelt business broker help buy sell businesses understand take', 'home ministry information broadcasting government india government india ministry information', 'facebook इन अप facebook', 'kids chat free chat room kid teen youth free', 'caterbake chef wale food', 'chemical aluminum al aluminum al element periodic table element', 'alternate history discussion forum', 'personal training portland fulcrum fitness fulcrum', 'bata india buy shoe online men women kids', 'free chat room webcams chat free', 'westwood sports radio home nfl', 'government india web directory government india web directory', 'wood wood wood case', 'mathematical medicine biology journal ima oxford academic', 'liverpool echo latest liverpool merseyside', 'newsnow world news breaking news', 'smitten kitchen fearless cooking tiny nyc kitchen smitten kitchen brussels', 'petapixel photography camera news', 'argon blue leading source premier colocation web hosting internet service', 'dev free music listen music online free streaming radio', 'cancer facts statistics american cancer society american cancer', 'fashion lifestyle shop online', 'tidal high fidelity music streaming tidal', 'pharmacist clinical resources search engine main directory antimicrobial', 'bot create free account create free account', 'blackchat chat social free chat room chat room black people', 'evolutionary ecology research scientific', 'online fashion homeware kids clothes shopping destination', 'landscape wildlife adventure travel', 'homepage idecad plan integrate bim tool architecture engineering construction', 'aesthetic realism interest wins', 'president card game wikipedia president card game', 'sprout kitchen food journal approachable health focus recipe', 'streamyard engage facebook youtube live', 'international chemistry olympiad wikipedia international', 'insidesport premier sports business news intelligence', 'advanced photography techniques digital photo pro', 'sputnik news world news breaking news stories sputnik', 'skyscraper astronomical society rhode island sky', 'wide world sports match results live', 'oceanfirst blog oceanfirst bank blog', 'stream live tv sports fubotv free trial', 'pdf mergy webapp merge pdf file', 'home investment portfolio contact welcome lover', 'manjula kitchen indian vegetarian recipes cooking videos manjula kitchen home', 'lurie children hospital chicago pediatric', 'hamish arcade cabinet project big boom box wtf', 'fresh easy recipes colour flavour spice recipe pantry browse', 'digital photography review expert news review video late digital camera', 'online fashion shopping india', 'cook thas healthy recipes instant pot videos thasneen step step', 'anjula devi author female chef master indian cuisine anjula', 'inaya jewelry earring ring necklaces bracelets pendants', 'clipbucket open source ott', 'police foundation uk policing', 'palaeogeography palaeoclimatology palaeoecology journal elsevier palaeogeography palaeoclimatology palaeoecology', 'vox understand news vox general interest news', 'canadian security intelligence service canadian', 'latest medical news clinical', 'rochester ny new york city wedding', 'zen travel greek travel agency', 'eye hospital eye care lasik chennai india', 'department finance department finance news views', 'tripsit chat', 'passport seva home indian passport', 'home lusonic late product current special offer licensed', 'gym ultimate training facility', 'electroshops home theater decor interiors seating shop cinemashop', 'fmovie free movies watch movie online fmovie', 'atlas games time time', 'thedetrend late news usa', 'wattpad story live wattpad', 'ellen broken jaw tips', 'world bunco association official', 'freelance guide self employ', 'reliance retail reliance fresh home', 'official site good hotel', 'jean loup home page home page jean loup gailly', 'egypt tours cheap holiday egypt luxury', 'stony brook center game theory upcoming event news', 'health chat rooms mental health', 'bdsm cams bdsm chat bondage cams free bdsm video', 'ctv news canada news stories', 'gostream site watch movies', 'agh museum coin op arcade games agh', 'food story india food blog fun easy', 'south australian legislation south australian legislation search current browse directions', 'forums craigslist cl craigslist forums android forum', 'operation overkill original wastelands', 'castle hill fitness gym spa austin tx readers pick', 'late breaking stories news headlines late headline story entertainment', 'new york times breaking news news world news', 'good hospital india medical treatment diagnosis', 'home napster rhapsody napster digital music service', 'franchise sports mlb nba', 'syncona life science investor truly innovative area healthcare syncona ftse250', 'falcon trailers single axle tandem axle car hauler', 'association independent accounting professionals accountant accountant accounting accounting association accounting', 'central supply rubber centralize buying central supply rubber centralize buying', 'independent news uk worldwide news newspaper late', 'join photography website photography forum online photography community photography', 'shop linda stuff consign pay selling items follow feature real', 'new zealand legislation new zealand legislation', 'chemguide help understand chemistry', 'home pro sports outlook bring inside game pro', 'wta tour home women tennis', 'snake island research inc', 'assembly language repository assembly language', 'wholesale linen supplier table linens linen', 'blog surrey wedding photographer fiona kelly photography', 'draw curtis humorous view interesting', 'dolly ave dolly ave award win photographer meditative musician bio', 'omegle talk stranger internet', 'sir ganga ram hospital delhi ncr india good multi speciality', 'travel agency london book flights', 'fractional calculus wikipedia fractional calculus contents historical note', 'political science search popular query political science maclean feature', 'video chat paltalk large video chat room community explore thousand', 'fox news breaking news updates latest news headlines photos', 'travel agency group tour operator cincinnati ohio', 'auto shutdown timer software shutdown pc automatically time auto', 'luxury los cabos resort waldorf astoria los cabos pedregal escape', 'chat hour chat rooms social network click mobile version', 'free online chat rooms wireclub', 'astronomical society pacific astronomical society', 'sign badoo join m strong badoo', 'pa pa ya pa pa ya eat', 'essential downunder travel australia new', 'raks kitchen indian vegetarian', 'visionlearne insight science visionlearning', 'classic gaming expo las vegas classic', 'pimp cam pimp cam kamera styling kamera kunst design airbrush', 'seatbelt belts fashion accessories buckle buckle official company', 'equitypandit india leading equity research company equitypandit india leading equity', 'world sport latest sports news live score transfers', 'sports betting tips australian sportsbook reviews bet', 'browse arcade computer game video game', 'neural network wikipedia neural network contents', 'applied probability trust study research mathematical sciences', 'nz herald breaking news late', 'science explained explain montserrat volcano', 'home lawyers advantage effective real estate title service', 'graphic foodie brighton food blog restaurant reviews brighton restaurant restaurant', 'telegraph india latest news stories opinion news', 'blog cook cooking time crisis cooking', 'affirmations publishing house australia affirmations publishing house affirmations publishing house', 'collegenet serve high ed admissions scheduling high', 'official website high court bombay high court bombay', 'nykredit center database research nykredit', 'good multispecialty hospital hyderabad india care hospitals think', 'soundclick good independent music community', 'role play haven rp chatroom role play rp chatroom', 'geochemistry wikipedia geochemistry contents history edit subfields edit chemical', 'scottish government devolved government scotland', 'polite bash commands reply link rss item accordion row css', 'online grocery shopping delivery waitrose partners visit', 'welcome embassy india washington d c usa welcome embassy india', 'brainfuck developer brainfuck ide brainfuck developer integrated development environment ide', 'chikungunya fever guide chikungunya history chikungunya', 'video chat paltalk large video chat room', 'national home page royal canadian', 'queensland cricket queensland cricket welcome official website queensland cricket', 'christian chat rooms forums christian chat christian chat room', 'chemical iridium ir iridium ir element', 'messenger hang anytime messenger make easy', 'health fitness nutrition tools news health magazine energize workout move', 'whome pty ltd trust supplier home automation australasia whome', 'photography fundamentals tutorial series dave morrow photography', 'health care avenue good way battle', 'cna break news late singapore asia world', 'eastern herald india international', 'card games competitive patience competitive patience card game', 'cadbury chocolate chocolate cadbury chocolate', 'jill greenberg studio jill greenberg internationally renowned artist photographer lighting', 'jewellery store buy designer', 'financial services blog news innovations updates ncr banks credit', 'computer repair laptop repair support brighton', 'free chat room online registration free chat', 'listen download latest hindi english bollywood songs online', 'home sports renegade original commentary braves continue georgia sports curse', '5ive straight official website 5ive straight straight', 'online date site flirty', 'business business trade exchange business business', 'digital ott experience platform', 'udo ander early idea history quantum chemistry home introduction site', 'rival fitness rival fitness need expect indoor rowing', 'sallys baking addiction addictive recipes self taught baker sally secrets', 'tata cliq luxury track orders help gift', 'urhixidur nuclear war page urhixidur nuclear war page', 'abc news breaking news latest news headlines videos', 'hundred science fair projects student free', 'primephonic classical streaming stream service design classical music large', 'institute genetic anthropology mission genetic anthropology study humankind aspect', 'minute hotel deal great', 'laptop computers desktops printers ink toner', 'online electronic shopping store buy electronic', 'association corporate treasurers search form', 'ilbs hospital delhi best', 'north block hotel number resort hotel california', 'pioneer woman recipes country life style', 'official travel deals promotion choose million', 'avfc aston villa fansite blog forum welcome aston', 'california legislative information today schedule welcome daily updates', 'nmdfc skip main content update english hindi', 'photo argus photography blog photography', 'singapore airlines official website book international flight tickets', 'outdoor photographer magazine outdoor photographer outdoor', 'pinterest discover recipe home idea style inspiration idea try', 'star hotels india luxury', 'scarves shop fashion scarf trends', 'diigo well reading research annotation highlighter sticky note archive bookmarke', 'site selection sale forecasting retailer', 'cshp nb learn true fact cannabis cshp nb', 'youtube enjoy video music love upload original content share friend', 'bad yogi blog redefine yoga culture redefine', 'arcade belgium news en', 'ritz paris luxury hotel star place', 'ministry external affairs government', 'old nude women porn mature granny sex horny', 'account suspend account suspend account suspend contact host provider', 'vesuvius vesuvius global leader molten metal flow engineer use', 'home acca global acca association chartered certified accountants', 'pixyblog expose photo sharing community digital photography', 'renew youth andropause treatment menopause', 'andbeyond ngala safari lodge', 'travel photography fashion photography documentary', 'shop premium headphones read expert reviews', 'onesource relocation relocation personified onesource relocation headquarter atlanta domestic international', 'ramada hotels book hotel rooms discount rates deals', 'sportsnewsireland sportsnewsireland sportsnewsireland live gaa score sportsnewsireland live gaa score', 'data compression resource data', 'free sex stories erotic', 'pluto tv watch free tv', 'carzonrent places login forget password places cor', 'new europe eu news european political policy', 'vimeo world lead professional video', 'global press journal late student return class', 'national investigation agency national investigation agency national investigation agency', 'catch point catch point popular important tim seifert', 'audio visual rental orlando projectors sales event av florida audio', 'free teen chat chatpit teen chat free teen chat room', 'online grocery shopping store mumbai buy groceries', 'online shopping site india', 'primeurmagazine primeur weekly exascale', 'usmnt uswnt news opinion commentary late news opinion united states', 'online chess strategy challenging chess puzzle chess strategy', 'whiskey kitchen whiskey scotch craft cocktails beer wine lunch dinner', 'food blog recipes big', 'bharat taxi large car rental provider car rental india service', 'watch free movies online tv show', 'cbr digital cloud business review trend solution application service', 'tease erotic stories erotic story', 'go auction bad navigation', 'good multispecialty hospital hyderabad india care', 'sweep cricket latest cricket news latest', 'njewa safari tours travel car rental services', 'multi super speciality hospital world class heart cancer liver kidney', 'smart money official chime', 'forums free chat rooms', 'national criminal justice reference service ncjrs ncjrs', 'inter parliamentary union democracy impact national parliament find national parliament', 'home cruisin plus cruisin plus service', 'home day real food nyt', 'luxury star hotel altstadt mandarin oriental munich experience', 'russ mame cabinet mame jamma cabinet feature', 'kaltura video cloud platform power video experience drive communication', 'shutter free photography training education shutter free online photography', 'maplewood nj acupuncture yunker acupuncture jessica friendly maplewood', 'best predictive analytic software free academic license', 'tailor trip peru terra', '4s4c example changes downloads home web services weblog com', 'south island aquarium south island aquarium aquatic', 'faith family america favorite tv streaming service families', 'tunein free internet radio live news', 'graphics file formats graphic file format graphics file formats graphic', 'book reliable safe cab service india', 'cambridge colour photography tutorials learning community recent additions', 'corner table café corner table', 'bank deals best bank rates savings checking cd rate', 'ventuno lead ott platform vod platform provider ventuno saas', 'home sequoia economic infrastructure income', 'internet service philadelphia base nationwide isp unlimited', 'home central board direct taxes government india income tax department', 'classic gaming expo las vegas classic', 'global consortium entrepreneurship centers', 'air new zealand book air nz', 'chessbomb watch live chess online', 'late news singapore world', 'inclusive vermont resort spa twin farms hotel spa acre wildflower', 'page find page find page find', 'apple music apple experience', 'australia leading news site people think cover issue', 'whome pty ltd trust supplier home automation australasia whome', 'rosey red photography columbus ohio wedding photographers award', 'welcome world reference laboratory foot mouth disease preface content foot', 'aelyria forward forums welcome aelyria page', 'freedom health recovery site', 'oil pisce fish oil health oil pisces categories fish', 'wwe news wwe rumors wwe update wwe spoilers', 'advance multimedia hindawi advances multimedia publish research technology', 'dainik viral good viral hub viral', 'wrapsody sorority gifts home decor candles', 'joseph hardin films jacksonville wedding videographer wedding videographer base jacksonville', 'home geochemistry exploration environment', 'business christmas cards corporate', 'stream tv movie live online hulu watch tv show', 'ippawards iphone photography awards celebrate', 'multi super speciality hospital world class heart cancer liver kidney', 'oil pisce fish oil health oil pisces', 'easy communications sidebar menu products services', 'eye hospital eye care lasik chennai india', 'yoga janda yoga pregnancy blog', 'home fec find need', 'asos online shopping latest clothes fashion business', 'air quality meteorology air quality meteorology developmental course', 'criterion channel classics discovery world thematically program special feature streaming', 'tennis live scores news videos player rankings', 'stream4u professional live streaming stream4u', 'lead online dating site singles personals match number destination', 'aga association government accountants', 'belt buckle stock custom', 'file find chess chess', 'curavet pemf therapy curatron curavet pemf pulsed electromagnetic field', 'ephesus tours ephesus tour izmir ports istanbul airport cappadocia tours', 'india code home contains', 'roar australia big sporting debate', 'goods services tax gst home gst ministry finance', 'right information kids corner rti video audio', 'homepage sports news money sports news money sports', 'abc news australian broadcasting corporation trust independent source local', 'realty executives buy sell home realty executives expert', 'montana outdoor clothing gift montana scene find high quality', 'netflix india watch tv', 'free gay chat online chat room men free', 'designer italian shoe accessories unique collection designer', 'prague stringology club stringology finite automaton string', 'enjoy mobile chat free', 'metalopt 1d optimizer cut list program optimizer', 'welcome instagib low latency video game streaming', 'albatros travel bring scandinavian quality', 'bureau justice statistics bjs statistic', 'coolphotoideas cool photography idea photo gift website builder', 'home tacobell gallery news contact work o u r m', 'victoria air maintenance ltd aircraft maintenance facility', 'uk domme mistress abigail zulu bitch', 'qac queen alexandra college birmingham national college people disability', 'hotel cheap hotels discount', 'quora place share knowledge well', 'ameba smart kids tv free child video', 'tierra patagonia torres del', 'casual cotton clothing men women gauze wear cruiseship clothing casual', 'linear algebra wolfram mathworld linear algebra wolfram', 'notes notes collection beautifully design coffee shop bar', 'latest football news soccer highlights yoursoccerdose bring latest football news', 'online shopping late jeans tops dresses skirts', 'freelancer freelance jobs freelance projects freelancers', 'hen house eatery breakfast bar bakery downtown minneapolis', 'ladycakes bakery custom cakes cupcakes cape coral fl ladycakes', 'card games adding games add card game survey', 'cbc news latest canada world entertainment business', 'brent stirton photo gallery brent stirton photojournalist photographer', 'late cricket news cricket update cricadium catch late cricket', 'blog imb bank imb provide well value banking range', 'yogiapproved life mat yoga passion healthy lifestyle talk yoga fitness', 'human centred artificial intelligence lab holzinger group holzinger group augment', 'new unique baby gifts online babyblooms discover', 'chessdom chess chess news live chess game tcec', 'stock panoramic images videos vr 360citie 360citie leading', 'home woks life family live china pack unpack suitcase share', 'pa general assembly share floor schedule find', 'ars technica openforum index', 'world current news latest news viral news daily', 'online songs jiosaavn download play latest music', 'hospital india medical health', 'cabinet secretariat government india cabinet secretariat rashtrapati bhavan cabinet', 'picturecorrect photography tips techniques photography', 'sport evolve read latest sports news live updates sport evolve', 'email notifier free email notification gmail pop3 imap4 email', 'medical futurist strongly believe digital health bring healthcare', 'main story arteta slam xhaka', 'review alphablitz rpgnet rpg game index forums reviews columns', 'amazon fresh skip main content hello', 'merl mame arcade machine merl mame arcade machine mame roms', 'good restaurant mumbai book table', 'domain sale click inquire related', 'sale combs wrecker sale hurry sell opportunity', 'vaps videogame arcade preservation society videogame arcade preservation', 'daily beast smart speedy news world terrorgram plot', 'home onefootball onefootball cover international soccer league competition live', 'watch tv serial original show movies news', 'ada home home brave ada programmers', 'zen cart art e commerce sex toy accessories', 'e phone cards e phone card cheap way', 'toss cricket blog english cricket spin irreverent england cricket', 'sportstar sports news latest sports news today live', 'green kitchen story healthy', 'canadian sport institute pacific csi pacific special notice csi pacific', 'moyo studio design tools photo mockups creative moyo', 'snapchat fast way share moment snapchat snapchat let easily', 'shipping case shipping case midwest expert', 'instagram create account log instagram simple fun creative', 'germantown peggers cribbage club rules page cribbage rule tip hint', 'newsrust newsrust canada type science', 'bop federal bureau prisons web site', 'brand elitesingles elitedating eliterencontre elitsinglar elittárs eliittikumppani partner na', 'pacific northwest sports news blogs', 'pinball games pinball machines pinball repairs pinball help', 'fist stackable file system language templates', 'home pocaan people color aids network pocaan provide', 'order online pickup store lilac patisserie lilac patisserie', 'calculator home page calculator software online', 'election assistance commission main navigation header', 'welcome andhra university visakhapatnam india welcome', 'blog archives yoga adriene blog december yoga calendar', 'stories world sport health', 'quicktrendnews news control news control', 'origin dns error cloudflare error', 'blog yogabycandace blog minute gift guide giveaway min total body', 'free chat meet friend play game online', 'latest sports news cricket', 'join revolution republic fitness boston safe premium fitness center heart', 'sound journalism ground fact', 'cosmolearning physics conical pendulum clearing cache cache clear javascript enable', 'animal production systems group wur', 'timespek observe infinity timespek multi platform medium entertainment blog', 'histochemistry cell biology home histochemistry cell', 'cheap hotels cars flights minute travel', 'cricket cup latest cricket', 'youtube music new music service official album single video', 'eurocrypt eurocrypt index page eurocrypt cryptology', 'iphone photography school iphoneography tips', 'classic gaming expo classic gaming', 'audio visual streaming service milestone productions year provide audio visual', 'star hotel jaipur high', 'gayatri devi md neurologist nyc memory loss', 'football football news view analysis opinion', 'vudu watch movie', 'chemcollective online resource teaching learning chemistry', 'love working online look home job', 'home columbia bank columbia bank northwest community bank', 'flight booking select country language finnair finnair fly shortcut', 'home pro sports outlook bring inside game pro sports outlook', 'home costco travel costco travel offer everyday saving quality brand', 'new york stock exchange nyse intercontinental exchange', 'daily sport kenyan banquet', 'japanese female facial expression jaffe dataset zenodo specifications japanese', 'igor b news igor b news sunday', 'home bureau justice assistance bja', 'port macquarie hastings bridge club welcome web page result calendar', 'nbc news breaking news stories latest world local news', 'hci bibliography hci webliography hci sites', 'danilo sharon modern luxury wedding photography modern', 'northwestern medicine northwestern medicine northwestern medicine leader quality healthcare', 'home indian air force government india indian airforce government india', 'ag agriculture classroom usda aitc', 'backup software data protection solutions acronis acronis provide', 'entertainment news latest news', 'interactive chess training interactive', 'celebrity photographer london dan kennedy dan kennedy london', 'new resource bank amalgamated bank proud welcome new resource bank', 'spencer retail lead retailer operate multiple', 'home official website ministry environment', 'richards news online min width', 'augustgames tabletop game publisher sign virtual', 'india skyscrapercity namaste city ahmedabad', 'good star luxury resorts lonavala', 'page find physics page find quick links', 'table skittles devil tailors online guide table skittles history useful', 'freevbcode high quality visual basic c source code', 'celebrity photographer london dan', 'library congress congress legislation congressional record', 'lycos chat coolest free', 'supermarket online buy grocery', 'math online online math games', 'virtual reality laboratory cette', 'somaiya vidyavihar university somaiya', 'edgewear reef sandal oakley sunglasse', 'chem1 online textbook main menu chem1', 'flipkart grocery store buy', 'nbsoft software section help file encrypter', 'ecps emergency care physician services emergency care', 'spicy perspective easy gourmet recipes spicy conversation fresh comfort food', 'gift ideas online gift store india latest', 'home ministry social justice empowerment government india ministry social', 'california bar exam prep attorneys reviews execbar', 'flipcode archives welcome flipcode archives find collection', 'mango india online fashion discover late trend mango fashion', 'group fitness class interval training orangetheory', 'ice immigration customs enforcement', 'medical charitable organization project open', 'webmd well information well health leading source trustworthy', 'levon biss levon biss british photographer bear', 'jonathan glynn smith photographer jonathan', 'industrial systems fabrication isf', 'bloomberg robot bloomberg detect unusual activity computer network', 'welcome jeffrey poulter md facs illinois plastic surgeon', 'live video chat room simple easy tinychat chat room flash', 'good photography products reviews advice good read', 'hk china asia news opinion scmp global edition', 'rummy online play indian rummy games win real cash', 'association taxation management accountants welcome atma association', 'bad day la bad day la bad', 'error file find biosphere error file find oops miss', 'interpol international criminal police organization interpol', 'freeform tv show episodes movies freeform', 'archaeology trent university archaeology archaeology archaeology preparation future experience program', 'center fine art photography center fine art', 'radio astronomy seti big', 'hard disk life hddlife prevent data loss hard drive', 'hotfingers home page products welcome featured product item', 'good multispecialty hospital hyderabad india care hospitals think', 'luxury tented retreats ubud capella ubud', 'home consumer technology association cta trade association represent billion consumer', 'nihi sumba purposeful luxury beach resort indonesia script', 'cnc g code editor dnc', 'stream anime hidive watch hidive dubcast', 'jp aerospace toggle navigation blog videos store check jp aerospace', 'gin rummy card game rules gin rummy', 'iodine wikipedia iodine contents history edit', 'australian breaking news headlines world', 'national consumer disputes redressal commission free', 'eudoxus cnidus bc eric weisstein world scientific biography branch', 'banana leaf week special steamed idli akhrot halwa gadbad idli', 'indian forest service search indian forest service news highlights', 'hallmark movies watch family movies', 'photography photo digital camera', '123movies watch hd movies online free', 'kid food allergies kfa division asthma allergy foundation america', 'watchdog uganda latest news uganda rest east african', 'luxury uk destination wedding videographer rm wedding', 'home prison ministry india prison', 'home nature photographers network npn community nature photographer dedicate art', 'generator tool create download icon display address bar browser', 'home turn accessible mode turn accessible mode', 'tensorflow end end open source machine learning platform discover', 'quantum algorithms quantum computing blog quantum algorithm', 'home betzcenter blog italian serie b halfway', 'near fatal asthma attack lead complete asthma cure near', 'sportsvilla site site sportsvilla india dream team', 'asma aerospace medical association esam january webinar save date', 'world lead classical music channel rare exclusive selection', 'hospital health system tulsa ok saint francis', 'lands end turtleneck sweaters winter coats pajamas', 'masterchefmom food blog mom interesting creative healthy tasty', 'soundcloud listen free music podcast soundcloud record sound share sound', 'jonathan glynn smith photographer jonathan glynn smith', 'book cabs nearby good price', 'football late football news', 'home alnico speakers ceramic speakers inch inch', 'chemical portal chemistry online education chemical', 'mhz choice world good mystery drama', 'sporttechie sports technology news sporttechie sport smarter', 'mindbodygreen connect soul science mindbodygreen lifestyle medium', 'unitedblog man united fan man united fan unitedblog man united', 'ross quinlan personal homepage ross', 'free webcam chat rooms camamba free webcam chat', 'shop winter wear designer', 'gin rummy play online', 'forestry visa investment reforestation visa', 'online shopping site india shop online man', 'news latest news breaking news latest update', 'imdb tv watch tv show movies', 'american mcgee alice gamespot trip rabbit hole wickedly deform', 'alternativepedia discover free open source well alternative competitor popular', 'wolf mountain rpg wolf wolve canine dog blessing cat', 'cheap flights search compare flights momondo', 'life cart life cart life cart new post content', 'home page electoral commission home', 'rule card games cribbage solitaire play cribbage solitaire player version', 'chess study problem game sign sign welcome close like site', 'fashion nova fashion online woman affordable', 'gayle bakery rosticceria capitola california', 'split pdf online fast way seperate pdf files free app', 'acm digital library acm digital library home page recent award', 'pueblo bonito emerald bay resort']\n"
     ]
    }
   ],
   "source": [
    "print(new_data)"
   ]
  },
  {
   "cell_type": "code",
   "execution_count": 7,
   "metadata": {},
   "outputs": [],
   "source": [
    "with open('titulos.txt', 'w') as fp:\n",
    "    for title in new_data:    \n",
    "        fp.write(f'{unidecode(title)}\\n')"
   ]
  },
  {
   "cell_type": "code",
   "execution_count": 8,
   "metadata": {},
   "outputs": [],
   "source": [
    "from sklearn.model_selection import train_test_split"
   ]
  },
  {
   "cell_type": "code",
   "execution_count": 9,
   "metadata": {},
   "outputs": [],
   "source": [
    "with open('titulos.txt', 'r') as data:\n",
    "    dataset = ['<|title|>' + x.strip() for x in data.readlines()]"
   ]
  },
  {
   "cell_type": "code",
   "execution_count": 10,
   "metadata": {},
   "outputs": [
    {
     "name": "stdout",
     "output_type": "stream",
     "text": [
      "Training size: 900\n",
      "Evaluation size: 100\n"
     ]
    }
   ],
   "source": [
    "train, eval = train_test_split(dataset, train_size=.9, random_state=2020)\n",
    "print('Training size: ' + str(len(train)))\n",
    "print('Evaluation size: ' + str(len(eval)))"
   ]
  },
  {
   "cell_type": "code",
   "execution_count": 11,
   "metadata": {},
   "outputs": [],
   "source": [
    "with open('train_tmp.txt', 'w') as file_handle:\n",
    "    file_handle.write('<|endoftext|>'.join(train))\n",
    "    \n",
    "with open('eval_tmp.txt', 'w') as file_handle:\n",
    "    file_handle.write('<|endoftext|>'.join(eval))"
   ]
  },
  {
   "cell_type": "code",
   "execution_count": 12,
   "metadata": {},
   "outputs": [
    {
     "name": "stdout",
     "output_type": "stream",
     "text": [
      "10/20/2023 14:29:04 - WARNING - __main__ - Process rank: 0, device: cuda:0, n_gpu: 1distributed training: False, 16-bits training: True\n",
      "10/20/2023 14:29:04 - INFO - __main__ - Training/evaluation parameters TrainingArguments(\n",
      "_n_gpu=1,\n",
      "adafactor=False,\n",
      "adam_beta1=0.9,\n",
      "adam_beta2=0.999,\n",
      "adam_epsilon=1e-08,\n",
      "auto_find_batch_size=False,\n",
      "bf16=False,\n",
      "bf16_full_eval=False,\n",
      "data_seed=None,\n",
      "dataloader_drop_last=False,\n",
      "dataloader_num_workers=0,\n",
      "dataloader_pin_memory=True,\n",
      "ddp_backend=None,\n",
      "ddp_broadcast_buffers=None,\n",
      "ddp_bucket_cap_mb=None,\n",
      "ddp_find_unused_parameters=None,\n",
      "ddp_timeout=1800,\n",
      "debug=[],\n",
      "deepspeed=None,\n",
      "disable_tqdm=False,\n",
      "dispatch_batches=None,\n",
      "do_eval=True,\n",
      "do_predict=False,\n",
      "do_train=True,\n",
      "eval_accumulation_steps=None,\n",
      "eval_delay=0,\n",
      "eval_steps=None,\n",
      "evaluation_strategy=no,\n",
      "fp16=True,\n",
      "fp16_backend=auto,\n",
      "fp16_full_eval=False,\n",
      "fp16_opt_level=O1,\n",
      "fsdp=[],\n",
      "fsdp_config={'min_num_params': 0, 'xla': False, 'xla_fsdp_grad_ckpt': False},\n",
      "fsdp_min_num_params=0,\n",
      "fsdp_transformer_layer_cls_to_wrap=None,\n",
      "full_determinism=False,\n",
      "gradient_accumulation_steps=1,\n",
      "gradient_checkpointing=False,\n",
      "greater_is_better=None,\n",
      "group_by_length=False,\n",
      "half_precision_backend=auto,\n",
      "hub_always_push=False,\n",
      "hub_model_id=None,\n",
      "hub_private_repo=False,\n",
      "hub_strategy=every_save,\n",
      "hub_token=<HUB_TOKEN>,\n",
      "ignore_data_skip=False,\n",
      "include_inputs_for_metrics=False,\n",
      "include_tokens_per_second=False,\n",
      "jit_mode_eval=False,\n",
      "label_names=None,\n",
      "label_smoothing_factor=0.0,\n",
      "learning_rate=5e-05,\n",
      "length_column_name=length,\n",
      "load_best_model_at_end=False,\n",
      "local_rank=0,\n",
      "log_level=passive,\n",
      "log_level_replica=warning,\n",
      "log_on_each_node=True,\n",
      "logging_dir=./fine_tunning/output/runs\\Oct20_14-29-04_localhost,\n",
      "logging_first_step=False,\n",
      "logging_nan_inf_filter=True,\n",
      "logging_steps=500,\n",
      "logging_strategy=steps,\n",
      "lr_scheduler_type=linear,\n",
      "max_grad_norm=1.0,\n",
      "max_steps=-1,\n",
      "metric_for_best_model=None,\n",
      "mp_parameters=,\n",
      "no_cuda=False,\n",
      "num_train_epochs=5.0,\n",
      "optim=adamw_torch,\n",
      "optim_args=None,\n",
      "output_dir=./fine_tunning/output/,\n",
      "overwrite_output_dir=False,\n",
      "past_index=-1,\n",
      "per_device_eval_batch_size=8,\n",
      "per_device_train_batch_size=8,\n",
      "prediction_loss_only=False,\n",
      "push_to_hub=False,\n",
      "push_to_hub_model_id=None,\n",
      "push_to_hub_organization=None,\n",
      "push_to_hub_token=<PUSH_TO_HUB_TOKEN>,\n",
      "ray_scope=last,\n",
      "remove_unused_columns=True,\n",
      "report_to=['tensorboard'],\n",
      "resume_from_checkpoint=None,\n",
      "run_name=./fine_tunning/output/,\n",
      "save_on_each_node=False,\n",
      "save_safetensors=False,\n",
      "save_steps=-1.0,\n",
      "save_strategy=steps,\n",
      "save_total_limit=None,\n",
      "seed=42,\n",
      "skip_memory_metrics=True,\n",
      "tf32=None,\n",
      "torch_compile=False,\n",
      "torch_compile_backend=None,\n",
      "torch_compile_mode=None,\n",
      "torchdynamo=None,\n",
      "tpu_metrics_debug=False,\n",
      "tpu_num_cores=None,\n",
      "use_cpu=False,\n",
      "use_ipex=False,\n",
      "use_legacy_prediction_loop=False,\n",
      "use_mps_device=False,\n",
      "warmup_ratio=0.0,\n",
      "warmup_steps=0,\n",
      "weight_decay=0.0,\n",
      ")\n",
      "10/20/2023 14:29:05 - INFO - datasets.builder - Using custom data configuration default-094845dc75a0e5c1\n",
      "10/20/2023 14:29:05 - INFO - datasets.info - Loading Dataset Infos from e:\\localhost\\Desktop\\dor-repos\\computer-science\\natural-language-processing\\repo\\venv\\lib\\site-packages\\datasets\\packaged_modules\\text\n",
      "10/20/2023 14:29:05 - INFO - datasets.builder - Generating dataset text (C:/Users/localhost/.cache/huggingface/datasets/text/default-094845dc75a0e5c1/0.0.0/c4a140d10f020282918b5dd1b8a49f0104729c6177f60a6b49ec2a365ec69f34)\n",
      "10/20/2023 14:29:05 - INFO - datasets.builder - Downloading and preparing dataset text/default to C:/Users/localhost/.cache/huggingface/datasets/text/default-094845dc75a0e5c1/0.0.0/c4a140d10f020282918b5dd1b8a49f0104729c6177f60a6b49ec2a365ec69f34...\n",
      "10/20/2023 14:29:05 - INFO - datasets.download.download_manager - Downloading took 0.0 min\n",
      "10/20/2023 14:29:05 - INFO - datasets.download.download_manager - Checksum Computation took 0.0 min\n",
      "10/20/2023 14:29:05 - INFO - datasets.builder - Generating train split\n",
      "10/20/2023 14:29:06 - INFO - datasets.builder - Generating validation split\n",
      "10/20/2023 14:29:06 - INFO - datasets.utils.info_utils - Unable to verify splits sizes.\n",
      "10/20/2023 14:29:06 - INFO - datasets.builder - Dataset text downloaded and prepared to C:/Users/localhost/.cache/huggingface/datasets/text/default-094845dc75a0e5c1/0.0.0/c4a140d10f020282918b5dd1b8a49f0104729c6177f60a6b49ec2a365ec69f34. Subsequent calls will reuse this data.\n",
      "10/20/2023 14:29:51 - INFO - datasets.arrow_dataset - Caching processed dataset at C:\\Users\\localhost\\.cache\\huggingface\\datasets\\text\\default-094845dc75a0e5c1\\0.0.0\\c4a140d10f020282918b5dd1b8a49f0104729c6177f60a6b49ec2a365ec69f34\\cache-c797e800ab51ece8.arrow\n",
      "10/20/2023 14:29:51 - INFO - datasets.arrow_dataset - Caching processed dataset at C:\\Users\\localhost\\.cache\\huggingface\\datasets\\text\\default-094845dc75a0e5c1\\0.0.0\\c4a140d10f020282918b5dd1b8a49f0104729c6177f60a6b49ec2a365ec69f34\\cache-81d7924507143cfb.arrow\n",
      "10/20/2023 14:29:51 - INFO - datasets.arrow_dataset - Caching processed dataset at C:\\Users\\localhost\\.cache\\huggingface\\datasets\\text\\default-094845dc75a0e5c1\\0.0.0\\c4a140d10f020282918b5dd1b8a49f0104729c6177f60a6b49ec2a365ec69f34\\cache-f9d560fac039363f.arrow\n",
      "10/20/2023 14:29:51 - INFO - datasets.arrow_dataset - Caching processed dataset at C:\\Users\\localhost\\.cache\\huggingface\\datasets\\text\\default-094845dc75a0e5c1\\0.0.0\\c4a140d10f020282918b5dd1b8a49f0104729c6177f60a6b49ec2a365ec69f34\\cache-c702fa464b6c2922.arrow\n",
      "{'train_runtime': 1547.2068, 'train_samples_per_second': 0.042, 'train_steps_per_second': 0.042, 'train_loss': 3.512053973858173, 'epoch': 5.0}\n",
      "***** train metrics *****\n",
      "  epoch                    =        5.0\n",
      "  train_loss               =     3.5121\n",
      "  train_runtime            = 0:25:47.20\n",
      "  train_samples            =         13\n",
      "  train_samples_per_second =      0.042\n",
      "  train_steps_per_second   =      0.042\n",
      "10/20/2023 14:55:57 - INFO - __main__ - *** Evaluate ***\n",
      "***** eval metrics *****\n",
      "  epoch                   =        5.0\n",
      "  eval_accuracy           =     0.4956\n",
      "  eval_loss               =     3.3406\n",
      "  eval_runtime            = 0:00:07.15\n",
      "  eval_samples            =          1\n",
      "  eval_samples_per_second =       0.14\n",
      "  eval_steps_per_second   =       0.14\n",
      "  perplexity              =    28.2352\n"
     ]
    },
    {
     "name": "stderr",
     "output_type": "stream",
     "text": [
      "Using custom data configuration default-094845dc75a0e5c1\n",
      "Loading Dataset Infos from e:\\localhost\\Desktop\\dor-repos\\computer-science\\natural-language-processing\\repo\\venv\\lib\\site-packages\\datasets\\packaged_modules\\text\n",
      "Generating dataset text (C:/Users/localhost/.cache/huggingface/datasets/text/default-094845dc75a0e5c1/0.0.0/c4a140d10f020282918b5dd1b8a49f0104729c6177f60a6b49ec2a365ec69f34)\n",
      "Downloading and preparing dataset text/default to C:/Users/localhost/.cache/huggingface/datasets/text/default-094845dc75a0e5c1/0.0.0/c4a140d10f020282918b5dd1b8a49f0104729c6177f60a6b49ec2a365ec69f34...\n",
      "\n",
      "Downloading data files:   0%|          | 0/2 [00:00<?, ?it/s]\n",
      "Downloading data files: 100%|██████████| 2/2 [00:00<00:00, 2074.85it/s]\n",
      "Downloading took 0.0 min\n",
      "Checksum Computation took 0.0 min\n",
      "\n",
      "Extracting data files:   0%|          | 0/2 [00:00<?, ?it/s]\n",
      "Extracting data files: 100%|██████████| 2/2 [00:00<00:00, 86.96it/s]\n",
      "Generating train split\n",
      "\n",
      "Generating train split: 0 examples [00:00, ? examples/s]\n",
      "Generating train split: 1 examples [00:00, 42.00 examples/s]\n",
      "Generating validation split\n",
      "\n",
      "Generating validation split: 0 examples [00:00, ? examples/s]\n",
      "Generating validation split: 1 examples [00:00, 90.79 examples/s]\n",
      "Unable to verify splits sizes.\n",
      "Dataset text downloaded and prepared to C:/Users/localhost/.cache/huggingface/datasets/text/default-094845dc75a0e5c1/0.0.0/c4a140d10f020282918b5dd1b8a49f0104729c6177f60a6b49ec2a365ec69f34. Subsequent calls will reuse this data.\n",
      "\n",
      "Downloading (…)lve/main/config.json:   0%|          | 0.00/718 [00:00<?, ?B/s]\n",
      "Downloading (…)lve/main/config.json: 100%|██████████| 718/718 [00:00<?, ?B/s] \n",
      "e:\\localhost\\Desktop\\dor-repos\\computer-science\\natural-language-processing\\repo\\venv\\lib\\site-packages\\huggingface_hub\\file_download.py:137: UserWarning: `huggingface_hub` cache-system uses symlinks by default to efficiently store duplicated files but your machine does not support them in C:\\Users\\localhost\\.cache\\huggingface\\hub. Caching files will still work but in a degraded version that might require more space on your disk. This warning can be disabled by setting the `HF_HUB_DISABLE_SYMLINKS_WARNING` environment variable. For more details, see https://huggingface.co/docs/huggingface_hub/how-to-cache#limitations.\n",
      "To support symlinks on Windows, you either need to activate Developer Mode or to run Python as an administrator. In order to see activate developer mode, see this article: https://docs.microsoft.com/en-us/windows/apps/get-started/enable-your-device-for-development\n",
      "  warnings.warn(message)\n",
      "[INFO|configuration_utils.py:716] 2023-10-20 14:29:06,652 >> loading configuration file config.json from cache at C:\\Users\\localhost/.cache\\huggingface\\hub\\models--gpt2-medium\\snapshots\\f65d4965d1221eff2bcf34f53a2ba12120e18f24\\config.json\n",
      "[INFO|configuration_utils.py:776] 2023-10-20 14:29:06,653 >> Model config GPT2Config {\n",
      "  \"_name_or_path\": \"gpt2-medium\",\n",
      "  \"activation_function\": \"gelu_new\",\n",
      "  \"architectures\": [\n",
      "    \"GPT2LMHeadModel\"\n",
      "  ],\n",
      "  \"attn_pdrop\": 0.1,\n",
      "  \"bos_token_id\": 50256,\n",
      "  \"embd_pdrop\": 0.1,\n",
      "  \"eos_token_id\": 50256,\n",
      "  \"initializer_range\": 0.02,\n",
      "  \"layer_norm_epsilon\": 1e-05,\n",
      "  \"model_type\": \"gpt2\",\n",
      "  \"n_ctx\": 1024,\n",
      "  \"n_embd\": 1024,\n",
      "  \"n_head\": 16,\n",
      "  \"n_inner\": null,\n",
      "  \"n_layer\": 24,\n",
      "  \"n_positions\": 1024,\n",
      "  \"n_special\": 0,\n",
      "  \"predict_special_tokens\": true,\n",
      "  \"reorder_and_upcast_attn\": false,\n",
      "  \"resid_pdrop\": 0.1,\n",
      "  \"scale_attn_by_inverse_layer_idx\": false,\n",
      "  \"scale_attn_weights\": true,\n",
      "  \"summary_activation\": null,\n",
      "  \"summary_first_dropout\": 0.1,\n",
      "  \"summary_proj_to_labels\": true,\n",
      "  \"summary_type\": \"cls_index\",\n",
      "  \"summary_use_proj\": true,\n",
      "  \"task_specific_params\": {\n",
      "    \"text-generation\": {\n",
      "      \"do_sample\": true,\n",
      "      \"max_length\": 50\n",
      "    }\n",
      "  },\n",
      "  \"transformers_version\": \"4.35.0.dev0\",\n",
      "  \"use_cache\": true,\n",
      "  \"vocab_size\": 50257\n",
      "}\n",
      "\n",
      "[INFO|tokenization_auto.py:551] 2023-10-20 14:29:06,861 >> Could not locate the tokenizer configuration file, will try to use the model config instead.\n",
      "[INFO|configuration_utils.py:716] 2023-10-20 14:29:07,068 >> loading configuration file config.json from cache at C:\\Users\\localhost/.cache\\huggingface\\hub\\models--gpt2-medium\\snapshots\\f65d4965d1221eff2bcf34f53a2ba12120e18f24\\config.json\n",
      "[INFO|configuration_utils.py:776] 2023-10-20 14:29:07,070 >> Model config GPT2Config {\n",
      "  \"_name_or_path\": \"gpt2-medium\",\n",
      "  \"activation_function\": \"gelu_new\",\n",
      "  \"architectures\": [\n",
      "    \"GPT2LMHeadModel\"\n",
      "  ],\n",
      "  \"attn_pdrop\": 0.1,\n",
      "  \"bos_token_id\": 50256,\n",
      "  \"embd_pdrop\": 0.1,\n",
      "  \"eos_token_id\": 50256,\n",
      "  \"initializer_range\": 0.02,\n",
      "  \"layer_norm_epsilon\": 1e-05,\n",
      "  \"model_type\": \"gpt2\",\n",
      "  \"n_ctx\": 1024,\n",
      "  \"n_embd\": 1024,\n",
      "  \"n_head\": 16,\n",
      "  \"n_inner\": null,\n",
      "  \"n_layer\": 24,\n",
      "  \"n_positions\": 1024,\n",
      "  \"n_special\": 0,\n",
      "  \"predict_special_tokens\": true,\n",
      "  \"reorder_and_upcast_attn\": false,\n",
      "  \"resid_pdrop\": 0.1,\n",
      "  \"scale_attn_by_inverse_layer_idx\": false,\n",
      "  \"scale_attn_weights\": true,\n",
      "  \"summary_activation\": null,\n",
      "  \"summary_first_dropout\": 0.1,\n",
      "  \"summary_proj_to_labels\": true,\n",
      "  \"summary_type\": \"cls_index\",\n",
      "  \"summary_use_proj\": true,\n",
      "  \"task_specific_params\": {\n",
      "    \"text-generation\": {\n",
      "      \"do_sample\": true,\n",
      "      \"max_length\": 50\n",
      "    }\n",
      "  },\n",
      "  \"transformers_version\": \"4.35.0.dev0\",\n",
      "  \"use_cache\": true,\n",
      "  \"vocab_size\": 50257\n",
      "}\n",
      "\n",
      "\n",
      "Downloading (…)olve/main/vocab.json:   0%|          | 0.00/1.04M [00:00<?, ?B/s]\n",
      "Downloading (…)olve/main/vocab.json: 100%|██████████| 1.04M/1.04M [00:00<00:00, 2.23MB/s]\n",
      "Downloading (…)olve/main/vocab.json: 100%|██████████| 1.04M/1.04M [00:00<00:00, 2.23MB/s]\n",
      "\n",
      "Downloading (…)olve/main/merges.txt:   0%|          | 0.00/456k [00:00<?, ?B/s]\n",
      "Downloading (…)olve/main/merges.txt: 100%|██████████| 456k/456k [00:00<00:00, 31.8MB/s]\n",
      "\n",
      "Downloading (…)/main/tokenizer.json:   0%|          | 0.00/1.36M [00:00<?, ?B/s]\n",
      "Downloading (…)/main/tokenizer.json: 100%|██████████| 1.36M/1.36M [00:00<00:00, 2.15MB/s]\n",
      "Downloading (…)/main/tokenizer.json: 100%|██████████| 1.36M/1.36M [00:00<00:00, 2.13MB/s]\n",
      "[INFO|tokenization_utils_base.py:2021] 2023-10-20 14:29:10,407 >> loading file vocab.json from cache at C:\\Users\\localhost/.cache\\huggingface\\hub\\models--gpt2-medium\\snapshots\\f65d4965d1221eff2bcf34f53a2ba12120e18f24\\vocab.json\n",
      "[INFO|tokenization_utils_base.py:2021] 2023-10-20 14:29:10,408 >> loading file merges.txt from cache at C:\\Users\\localhost/.cache\\huggingface\\hub\\models--gpt2-medium\\snapshots\\f65d4965d1221eff2bcf34f53a2ba12120e18f24\\merges.txt\n",
      "[INFO|tokenization_utils_base.py:2021] 2023-10-20 14:29:10,408 >> loading file tokenizer.json from cache at C:\\Users\\localhost/.cache\\huggingface\\hub\\models--gpt2-medium\\snapshots\\f65d4965d1221eff2bcf34f53a2ba12120e18f24\\tokenizer.json\n",
      "[INFO|tokenization_utils_base.py:2021] 2023-10-20 14:29:10,408 >> loading file added_tokens.json from cache at None\n",
      "[INFO|tokenization_utils_base.py:2021] 2023-10-20 14:29:10,408 >> loading file special_tokens_map.json from cache at None\n",
      "[INFO|tokenization_utils_base.py:2021] 2023-10-20 14:29:10,408 >> loading file tokenizer_config.json from cache at None\n",
      "[INFO|configuration_utils.py:716] 2023-10-20 14:29:10,415 >> loading configuration file config.json from cache at C:\\Users\\localhost/.cache\\huggingface\\hub\\models--gpt2-medium\\snapshots\\f65d4965d1221eff2bcf34f53a2ba12120e18f24\\config.json\n",
      "[INFO|configuration_utils.py:776] 2023-10-20 14:29:10,419 >> Model config GPT2Config {\n",
      "  \"_name_or_path\": \"gpt2-medium\",\n",
      "  \"activation_function\": \"gelu_new\",\n",
      "  \"architectures\": [\n",
      "    \"GPT2LMHeadModel\"\n",
      "  ],\n",
      "  \"attn_pdrop\": 0.1,\n",
      "  \"bos_token_id\": 50256,\n",
      "  \"embd_pdrop\": 0.1,\n",
      "  \"eos_token_id\": 50256,\n",
      "  \"initializer_range\": 0.02,\n",
      "  \"layer_norm_epsilon\": 1e-05,\n",
      "  \"model_type\": \"gpt2\",\n",
      "  \"n_ctx\": 1024,\n",
      "  \"n_embd\": 1024,\n",
      "  \"n_head\": 16,\n",
      "  \"n_inner\": null,\n",
      "  \"n_layer\": 24,\n",
      "  \"n_positions\": 1024,\n",
      "  \"n_special\": 0,\n",
      "  \"predict_special_tokens\": true,\n",
      "  \"reorder_and_upcast_attn\": false,\n",
      "  \"resid_pdrop\": 0.1,\n",
      "  \"scale_attn_by_inverse_layer_idx\": false,\n",
      "  \"scale_attn_weights\": true,\n",
      "  \"summary_activation\": null,\n",
      "  \"summary_first_dropout\": 0.1,\n",
      "  \"summary_proj_to_labels\": true,\n",
      "  \"summary_type\": \"cls_index\",\n",
      "  \"summary_use_proj\": true,\n",
      "  \"task_specific_params\": {\n",
      "    \"text-generation\": {\n",
      "      \"do_sample\": true,\n",
      "      \"max_length\": 50\n",
      "    }\n",
      "  },\n",
      "  \"transformers_version\": \"4.35.0.dev0\",\n",
      "  \"use_cache\": true,\n",
      "  \"vocab_size\": 50257\n",
      "}\n",
      "\n",
      "\n",
      "Downloading model.safetensors:   0%|          | 0.00/1.52G [00:00<?, ?B/s]\n",
      "Downloading model.safetensors:   1%|          | 10.5M/1.52G [00:00<02:14, 11.2MB/s]\n",
      "Downloading model.safetensors:   1%|▏         | 21.0M/1.52G [00:01<01:13, 20.3MB/s]\n",
      "Downloading model.safetensors:   2%|▏         | 31.5M/1.52G [00:01<01:16, 19.5MB/s]\n",
      "Downloading model.safetensors:   3%|▎         | 41.9M/1.52G [00:01<00:53, 27.7MB/s]\n",
      "Downloading model.safetensors:   3%|▎         | 52.4M/1.52G [00:01<00:39, 37.3MB/s]\n",
      "Downloading model.safetensors:   4%|▍         | 62.9M/1.52G [00:02<00:34, 42.3MB/s]\n",
      "Downloading model.safetensors:   5%|▍         | 73.4M/1.52G [00:02<00:32, 44.0MB/s]\n",
      "Downloading model.safetensors:   6%|▌         | 83.9M/1.52G [00:02<00:27, 52.4MB/s]\n",
      "Downloading model.safetensors:   7%|▋         | 105M/1.52G [00:03<00:34, 40.8MB/s] \n",
      "Downloading model.safetensors:   8%|▊         | 115M/1.52G [00:03<00:32, 43.0MB/s]\n",
      "Downloading model.safetensors:   8%|▊         | 126M/1.52G [00:03<00:30, 46.1MB/s]\n",
      "Downloading model.safetensors:   9%|▉         | 136M/1.52G [00:03<00:28, 48.8MB/s]\n",
      "Downloading model.safetensors:  10%|▉         | 147M/1.52G [00:03<00:27, 50.8MB/s]\n",
      "Downloading model.safetensors:  10%|█         | 157M/1.52G [00:04<00:25, 52.8MB/s]\n",
      "Downloading model.safetensors:  11%|█         | 168M/1.52G [00:04<00:24, 54.1MB/s]\n",
      "Downloading model.safetensors:  12%|█▏        | 178M/1.52G [00:04<00:24, 55.2MB/s]\n",
      "Downloading model.safetensors:  12%|█▏        | 189M/1.52G [00:04<00:24, 55.1MB/s]\n",
      "Downloading model.safetensors:  13%|█▎        | 199M/1.52G [00:04<00:23, 56.6MB/s]\n",
      "Downloading model.safetensors:  14%|█▍        | 210M/1.52G [00:04<00:23, 56.9MB/s]\n",
      "Downloading model.safetensors:  14%|█▍        | 220M/1.52G [00:05<00:22, 57.1MB/s]\n",
      "Downloading model.safetensors:  15%|█▌        | 231M/1.52G [00:05<00:22, 57.3MB/s]\n",
      "Downloading model.safetensors:  16%|█▌        | 241M/1.52G [00:05<00:22, 57.4MB/s]\n",
      "Downloading model.safetensors:  17%|█▋        | 252M/1.52G [00:05<00:22, 56.8MB/s]\n",
      "Downloading model.safetensors:  17%|█▋        | 262M/1.52G [00:05<00:21, 57.6MB/s]\n",
      "Downloading model.safetensors:  18%|█▊        | 273M/1.52G [00:06<00:21, 57.6MB/s]\n",
      "Downloading model.safetensors:  19%|█▊        | 283M/1.52G [00:06<00:21, 57.6MB/s]\n",
      "Downloading model.safetensors:  19%|█▉        | 294M/1.52G [00:06<00:21, 57.7MB/s]\n",
      "Downloading model.safetensors:  20%|██        | 304M/1.52G [00:06<00:21, 57.6MB/s]\n",
      "Downloading model.safetensors:  21%|██        | 315M/1.52G [00:06<00:20, 57.6MB/s]\n",
      "Downloading model.safetensors:  21%|██▏       | 325M/1.52G [00:06<00:20, 57.6MB/s]\n",
      "Downloading model.safetensors:  22%|██▏       | 336M/1.52G [00:07<00:20, 57.7MB/s]\n",
      "Downloading model.safetensors:  23%|██▎       | 346M/1.52G [00:07<00:20, 57.7MB/s]\n",
      "Downloading model.safetensors:  23%|██▎       | 357M/1.52G [00:07<00:20, 57.7MB/s]\n",
      "Downloading model.safetensors:  24%|██▍       | 367M/1.52G [00:07<00:18, 61.3MB/s]\n",
      "Downloading model.safetensors:  25%|██▍       | 377M/1.52G [00:07<00:17, 66.4MB/s]\n",
      "Downloading model.safetensors:  26%|██▌       | 388M/1.52G [00:07<00:15, 71.2MB/s]\n",
      "Downloading model.safetensors:  26%|██▌       | 398M/1.52G [00:08<00:14, 75.3MB/s]\n",
      "Downloading model.safetensors:  27%|██▋       | 409M/1.52G [00:08<00:14, 78.6MB/s]\n",
      "Downloading model.safetensors:  28%|██▊       | 419M/1.52G [00:08<00:13, 81.0MB/s]\n",
      "Downloading model.safetensors:  28%|██▊       | 430M/1.52G [00:08<00:12, 85.6MB/s]\n",
      "Downloading model.safetensors:  29%|██▉       | 440M/1.52G [00:08<00:27, 38.8MB/s]\n",
      "Downloading model.safetensors:  30%|███       | 461M/1.52G [00:09<00:22, 46.7MB/s]\n",
      "Downloading model.safetensors:  31%|███       | 472M/1.52G [00:09<00:22, 47.2MB/s]\n",
      "Downloading model.safetensors:  32%|███▏      | 482M/1.52G [00:09<00:19, 53.8MB/s]\n",
      "Downloading model.safetensors:  32%|███▏      | 493M/1.52G [00:09<00:17, 60.4MB/s]\n",
      "Downloading model.safetensors:  33%|███▎      | 503M/1.52G [00:09<00:15, 67.2MB/s]\n",
      "Downloading model.safetensors:  34%|███▍      | 514M/1.52G [00:10<00:17, 57.4MB/s]\n",
      "Downloading model.safetensors:  34%|███▍      | 524M/1.52G [00:10<00:16, 61.1MB/s]\n",
      "Downloading model.safetensors:  35%|███▌      | 535M/1.52G [00:10<00:14, 66.4MB/s]\n",
      "Downloading model.safetensors:  36%|███▌      | 545M/1.52G [00:10<00:24, 39.9MB/s]\n",
      "Downloading model.safetensors:  37%|███▋      | 556M/1.52G [00:11<00:23, 41.6MB/s]\n",
      "Downloading model.safetensors:  37%|███▋      | 566M/1.52G [00:11<00:19, 48.8MB/s]\n",
      "Downloading model.safetensors:  38%|███▊      | 577M/1.52G [00:11<00:16, 57.2MB/s]\n",
      "Downloading model.safetensors:  39%|███▊      | 587M/1.52G [00:11<00:20, 46.3MB/s]\n",
      "Downloading model.safetensors:  39%|███▉      | 598M/1.52G [00:12<00:24, 37.1MB/s]\n",
      "Downloading model.safetensors:  40%|████      | 608M/1.52G [00:12<00:27, 33.7MB/s]\n",
      "Downloading model.safetensors:  41%|████      | 619M/1.52G [00:12<00:23, 39.1MB/s]\n",
      "Downloading model.safetensors:  41%|████▏     | 629M/1.52G [00:12<00:19, 45.9MB/s]\n",
      "Downloading model.safetensors:  42%|████▏     | 640M/1.52G [00:12<00:16, 52.1MB/s]\n",
      "Downloading model.safetensors:  43%|████▎     | 650M/1.52G [00:13<00:15, 57.0MB/s]\n",
      "Downloading model.safetensors:  43%|████▎     | 661M/1.52G [00:13<00:13, 62.4MB/s]\n",
      "Downloading model.safetensors:  44%|████▍     | 671M/1.52G [00:13<00:12, 66.8MB/s]\n",
      "Downloading model.safetensors:  45%|████▍     | 682M/1.52G [00:13<00:11, 70.4MB/s]\n",
      "Downloading model.safetensors:  46%|████▌     | 692M/1.52G [00:13<00:10, 76.2MB/s]\n",
      "Downloading model.safetensors:  46%|████▌     | 703M/1.52G [00:13<00:11, 68.9MB/s]\n",
      "Downloading model.safetensors:  47%|████▋     | 713M/1.52G [00:13<00:13, 61.2MB/s]\n",
      "Downloading model.safetensors:  48%|████▊     | 724M/1.52G [00:14<00:11, 66.8MB/s]\n",
      "Downloading model.safetensors:  48%|████▊     | 734M/1.52G [00:14<00:16, 48.2MB/s]\n",
      "Downloading model.safetensors:  49%|████▉     | 744M/1.52G [00:14<00:19, 39.8MB/s]\n",
      "Downloading model.safetensors:  50%|████▉     | 755M/1.52G [00:14<00:16, 46.8MB/s]\n",
      "Downloading model.safetensors:  51%|█████     | 776M/1.52G [00:15<00:12, 59.4MB/s]\n",
      "Downloading model.safetensors:  52%|█████▏    | 786M/1.52G [00:15<00:12, 57.2MB/s]\n",
      "Downloading model.safetensors:  52%|█████▏    | 797M/1.52G [00:15<00:11, 63.6MB/s]\n",
      "Downloading model.safetensors:  54%|█████▍    | 818M/1.52G [00:16<00:15, 45.5MB/s]\n",
      "Downloading model.safetensors:  54%|█████▍    | 828M/1.52G [00:16<00:14, 46.8MB/s]\n",
      "Downloading model.safetensors:  55%|█████▌    | 839M/1.52G [00:16<00:12, 52.5MB/s]\n",
      "Downloading model.safetensors:  57%|█████▋    | 860M/1.52G [00:16<00:09, 66.8MB/s]\n",
      "Downloading model.safetensors:  57%|█████▋    | 870M/1.52G [00:17<00:12, 53.3MB/s]\n",
      "Downloading model.safetensors:  58%|█████▊    | 881M/1.52G [00:17<00:12, 51.9MB/s]\n",
      "Downloading model.safetensors:  59%|█████▊    | 891M/1.52G [00:17<00:16, 38.2MB/s]\n",
      "Downloading model.safetensors:  59%|█████▉    | 902M/1.52G [00:17<00:14, 41.6MB/s]\n",
      "Downloading model.safetensors:  61%|██████    | 923M/1.52G [00:18<00:10, 56.8MB/s]\n",
      "Downloading model.safetensors:  61%|██████▏   | 933M/1.52G [00:18<00:09, 63.4MB/s]\n",
      "Downloading model.safetensors:  62%|██████▏   | 944M/1.52G [00:18<00:15, 37.7MB/s]\n",
      "Downloading model.safetensors:  63%|██████▎   | 954M/1.52G [00:18<00:12, 45.0MB/s]\n",
      "Downloading model.safetensors:  63%|██████▎   | 965M/1.52G [00:19<00:13, 40.1MB/s]\n",
      "Downloading model.safetensors:  64%|██████▍   | 975M/1.52G [00:19<00:11, 46.1MB/s]\n",
      "Downloading model.safetensors:  66%|██████▌   | 996M/1.52G [00:19<00:08, 61.5MB/s]\n",
      "Downloading model.safetensors:  67%|██████▋   | 1.02G/1.52G [00:20<00:09, 52.1MB/s]\n",
      "Downloading model.safetensors:  68%|██████▊   | 1.03G/1.52G [00:20<00:08, 55.1MB/s]\n",
      "Downloading model.safetensors:  68%|██████▊   | 1.04G/1.52G [00:20<00:09, 53.5MB/s]\n",
      "Downloading model.safetensors:  69%|██████▉   | 1.05G/1.52G [00:20<00:10, 45.8MB/s]\n",
      "Downloading model.safetensors:  70%|██████▉   | 1.06G/1.52G [00:20<00:08, 53.1MB/s]\n",
      "Downloading model.safetensors:  70%|███████   | 1.07G/1.52G [00:21<00:09, 48.5MB/s]\n",
      "Downloading model.safetensors:  71%|███████   | 1.08G/1.52G [00:21<00:07, 55.4MB/s]\n",
      "Downloading model.safetensors:  72%|███████▏  | 1.09G/1.52G [00:21<00:06, 61.4MB/s]\n",
      "Downloading model.safetensors:  72%|███████▏  | 1.10G/1.52G [00:21<00:06, 68.2MB/s]\n",
      "Downloading model.safetensors:  73%|███████▎  | 1.11G/1.52G [00:21<00:05, 74.3MB/s]\n",
      "Downloading model.safetensors:  74%|███████▍  | 1.12G/1.52G [00:21<00:05, 79.1MB/s]\n",
      "Downloading model.safetensors:  75%|███████▍  | 1.13G/1.52G [00:22<00:08, 43.3MB/s]\n",
      "Downloading model.safetensors:  75%|███████▌  | 1.14G/1.52G [00:22<00:07, 50.1MB/s]\n",
      "Downloading model.safetensors:  76%|███████▌  | 1.15G/1.52G [00:22<00:06, 58.1MB/s]\n",
      "Downloading model.safetensors:  77%|███████▋  | 1.16G/1.52G [00:22<00:07, 48.6MB/s]\n",
      "Downloading model.safetensors:  78%|███████▊  | 1.18G/1.52G [00:22<00:05, 65.4MB/s]\n",
      "Downloading model.safetensors:  79%|███████▊  | 1.20G/1.52G [00:23<00:06, 49.1MB/s]\n",
      "Downloading model.safetensors:  79%|███████▉  | 1.21G/1.52G [00:23<00:07, 40.6MB/s]\n",
      "Downloading model.safetensors:  80%|████████  | 1.22G/1.52G [00:23<00:06, 48.1MB/s]\n",
      "Downloading model.safetensors:  81%|████████  | 1.23G/1.52G [00:23<00:05, 55.6MB/s]\n",
      "Downloading model.safetensors:  81%|████████▏ | 1.24G/1.52G [00:24<00:04, 58.9MB/s]\n",
      "Downloading model.safetensors:  82%|████████▏ | 1.25G/1.52G [00:24<00:04, 56.4MB/s]\n",
      "Downloading model.safetensors:  83%|████████▎ | 1.26G/1.52G [00:24<00:04, 56.0MB/s]\n",
      "Downloading model.safetensors:  83%|████████▎ | 1.27G/1.52G [00:24<00:03, 64.3MB/s]\n",
      "Downloading model.safetensors:  84%|████████▍ | 1.28G/1.52G [00:24<00:03, 71.9MB/s]\n",
      "Downloading model.safetensors:  85%|████████▍ | 1.29G/1.52G [00:24<00:03, 58.4MB/s]\n",
      "Downloading model.safetensors:  86%|████████▌ | 1.30G/1.52G [00:25<00:03, 65.2MB/s]\n",
      "Downloading model.safetensors:  86%|████████▌ | 1.31G/1.52G [00:25<00:02, 72.1MB/s]\n",
      "Downloading model.safetensors:  87%|████████▋ | 1.32G/1.52G [00:25<00:05, 37.1MB/s]\n",
      "Downloading model.safetensors:  88%|████████▊ | 1.34G/1.52G [00:26<00:03, 52.8MB/s]\n",
      "Downloading model.safetensors:  89%|████████▉ | 1.35G/1.52G [00:26<00:02, 60.0MB/s]\n",
      "Downloading model.safetensors:  90%|████████▉ | 1.36G/1.52G [00:26<00:02, 67.3MB/s]\n",
      "Downloading model.safetensors:  90%|█████████ | 1.37G/1.52G [00:26<00:02, 52.7MB/s]\n",
      "Downloading model.safetensors:  91%|█████████ | 1.38G/1.52G [00:26<00:02, 59.2MB/s]\n",
      "Downloading model.safetensors:  92%|█████████▏| 1.39G/1.52G [00:26<00:01, 67.3MB/s]\n",
      "Downloading model.safetensors:  92%|█████████▏| 1.41G/1.52G [00:27<00:02, 39.7MB/s]\n",
      "Downloading model.safetensors:  93%|█████████▎| 1.42G/1.52G [00:27<00:02, 47.8MB/s]\n",
      "Downloading model.safetensors:  94%|█████████▍| 1.43G/1.52G [00:27<00:01, 56.7MB/s]\n",
      "Downloading model.safetensors:  95%|█████████▍| 1.44G/1.52G [00:27<00:01, 65.1MB/s]\n",
      "Downloading model.safetensors:  95%|█████████▌| 1.45G/1.52G [00:27<00:01, 54.7MB/s]\n",
      "Downloading model.safetensors:  96%|█████████▌| 1.46G/1.52G [00:28<00:01, 43.6MB/s]\n",
      "Downloading model.safetensors:  97%|█████████▋| 1.47G/1.52G [00:28<00:01, 30.2MB/s]\n",
      "Downloading model.safetensors:  97%|█████████▋| 1.48G/1.52G [00:29<00:01, 21.2MB/s]\n",
      "Downloading model.safetensors:  98%|█████████▊| 1.49G/1.52G [00:30<00:02, 14.3MB/s]\n",
      "Downloading model.safetensors:  99%|█████████▉| 1.51G/1.52G [00:31<00:00, 21.6MB/s]\n",
      "Downloading model.safetensors: 100%|██████████| 1.52G/1.52G [00:31<00:00, 26.5MB/s]\n",
      "Downloading model.safetensors: 100%|██████████| 1.52G/1.52G [00:31<00:00, 48.3MB/s]\n",
      "[INFO|modeling_utils.py:3013] 2023-10-20 14:29:43,798 >> loading weights file model.safetensors from cache at C:\\Users\\localhost/.cache\\huggingface\\hub\\models--gpt2-medium\\snapshots\\f65d4965d1221eff2bcf34f53a2ba12120e18f24\\model.safetensors\n",
      "[INFO|configuration_utils.py:789] 2023-10-20 14:29:45,268 >> Generate config GenerationConfig {\n",
      "  \"bos_token_id\": 50256,\n",
      "  \"eos_token_id\": 50256\n",
      "}\n",
      "\n",
      "[INFO|modeling_utils.py:3803] 2023-10-20 14:29:50,724 >> All model checkpoint weights were used when initializing GPT2LMHeadModel.\n",
      "\n",
      "[INFO|modeling_utils.py:3811] 2023-10-20 14:29:50,725 >> All the weights of GPT2LMHeadModel were initialized from the model checkpoint at gpt2-medium.\n",
      "If your task is similar to the task the model of the checkpoint was trained on, you can already use GPT2LMHeadModel for predictions without further training.\n",
      "\n",
      "Downloading (…)neration_config.json:   0%|          | 0.00/124 [00:00<?, ?B/s]\n",
      "Downloading (…)neration_config.json: 100%|██████████| 124/124 [00:00<?, ?B/s] \n",
      "[INFO|configuration_utils.py:749] 2023-10-20 14:29:51,142 >> loading configuration file generation_config.json from cache at C:\\Users\\localhost/.cache\\huggingface\\hub\\models--gpt2-medium\\snapshots\\f65d4965d1221eff2bcf34f53a2ba12120e18f24\\generation_config.json\n",
      "[INFO|configuration_utils.py:789] 2023-10-20 14:29:51,142 >> Generate config GenerationConfig {\n",
      "  \"bos_token_id\": 50256,\n",
      "  \"eos_token_id\": 50256\n",
      "}\n",
      "\n",
      "\n",
      "Running tokenizer on dataset:   0%|          | 0/1 [00:00<?, ? examples/s][WARNING|tokenization_utils_base.py:3829] 2023-10-20 14:29:51,447 >> Token indices sequence length is longer than the specified maximum sequence length for this model (13807 > 1024). Running this sequence through the model will result in indexing errors\n",
      "[WARNING|run_clm.py:475] 2023-10-20 14:29:51,448 >> ^^^^^^^^^^^^^^^^ Please ignore the warning above - this long input will be chunked into smaller bits before being passed to the model.\n",
      "Caching processed dataset at C:\\Users\\localhost\\.cache\\huggingface\\datasets\\text\\default-094845dc75a0e5c1\\0.0.0\\c4a140d10f020282918b5dd1b8a49f0104729c6177f60a6b49ec2a365ec69f34\\cache-c797e800ab51ece8.arrow\n",
      "\n",
      "Running tokenizer on dataset: 100%|██████████| 1/1 [00:00<00:00,  9.69 examples/s]\n",
      "\n",
      "Running tokenizer on dataset:   0%|          | 0/1 [00:00<?, ? examples/s]Caching processed dataset at C:\\Users\\localhost\\.cache\\huggingface\\datasets\\text\\default-094845dc75a0e5c1\\0.0.0\\c4a140d10f020282918b5dd1b8a49f0104729c6177f60a6b49ec2a365ec69f34\\cache-81d7924507143cfb.arrow\n",
      "\n",
      "Running tokenizer on dataset: 100%|██████████| 1/1 [00:00<00:00,  9.93 examples/s]\n",
      "\n",
      "Grouping texts in chunks of 1024:   0%|          | 0/1 [00:00<?, ? examples/s]Caching processed dataset at C:\\Users\\localhost\\.cache\\huggingface\\datasets\\text\\default-094845dc75a0e5c1\\0.0.0\\c4a140d10f020282918b5dd1b8a49f0104729c6177f60a6b49ec2a365ec69f34\\cache-f9d560fac039363f.arrow\n",
      "\n",
      "Grouping texts in chunks of 1024: 100%|██████████| 1/1 [00:00<00:00, 24.99 examples/s]\n",
      "\n",
      "Grouping texts in chunks of 1024:   0%|          | 0/1 [00:00<?, ? examples/s]Caching processed dataset at C:\\Users\\localhost\\.cache\\huggingface\\datasets\\text\\default-094845dc75a0e5c1\\0.0.0\\c4a140d10f020282918b5dd1b8a49f0104729c6177f60a6b49ec2a365ec69f34\\cache-c702fa464b6c2922.arrow\n",
      "\n",
      "Grouping texts in chunks of 1024: 100%|██████████| 1/1 [00:00<00:00, 47.65 examples/s]\n",
      "\n",
      "Downloading builder script:   0%|          | 0.00/4.20k [00:00<?, ?B/s]\n",
      "Downloading builder script: 100%|██████████| 4.20k/4.20k [00:00<?, ?B/s]\n",
      "[INFO|trainer.py:584] 2023-10-20 14:29:56,642 >> Using auto half precision backend\n",
      "[WARNING|training_args.py:1718] 2023-10-20 14:29:56,642 >> Using deprecated `--per_gpu_train_batch_size` argument which will be removed in a future version. Using `--per_device_train_batch_size` is preferred.\n",
      "[WARNING|training_args.py:1718] 2023-10-20 14:29:56,643 >> Using deprecated `--per_gpu_train_batch_size` argument which will be removed in a future version. Using `--per_device_train_batch_size` is preferred.\n",
      "[INFO|trainer.py:1669] 2023-10-20 14:29:56,859 >> ***** Running training *****\n",
      "[INFO|trainer.py:1670] 2023-10-20 14:29:56,859 >>   Num examples = 13\n",
      "[INFO|trainer.py:1671] 2023-10-20 14:29:56,859 >>   Num Epochs = 5\n",
      "[INFO|trainer.py:1672] 2023-10-20 14:29:56,859 >>   Instantaneous batch size per device = 8\n",
      "[INFO|trainer.py:1674] 2023-10-20 14:29:56,859 >>   Training with DataParallel so batch size has been adjusted to: 1\n",
      "[INFO|trainer.py:1675] 2023-10-20 14:29:56,859 >>   Total train batch size (w. parallel, distributed & accumulation) = 1\n",
      "[INFO|trainer.py:1676] 2023-10-20 14:29:56,859 >>   Gradient Accumulation steps = 1\n",
      "[INFO|trainer.py:1677] 2023-10-20 14:29:56,859 >>   Total optimization steps = 65\n",
      "[INFO|trainer.py:1678] 2023-10-20 14:29:56,874 >>   Number of trainable parameters = 354,823,168\n",
      "\n",
      "  0%|          | 0/65 [00:00<?, ?it/s]\n",
      "  2%|▏         | 1/65 [00:52<55:33, 52.08s/it]\n",
      "  3%|▎         | 2/65 [01:09<33:24, 31.81s/it]\n",
      "  5%|▍         | 3/65 [01:26<25:37, 24.80s/it]\n",
      "  6%|▌         | 4/65 [01:41<21:32, 21.20s/it]\n",
      "  8%|▊         | 5/65 [01:54<18:00, 18.00s/it]\n",
      "  9%|▉         | 6/65 [02:17<19:29, 19.82s/it]\n",
      " 11%|█         | 7/65 [02:39<19:51, 20.55s/it]\n",
      " 12%|█▏        | 8/65 [02:59<19:21, 20.38s/it]\n",
      " 14%|█▍        | 9/65 [03:21<19:20, 20.72s/it]\n",
      " 15%|█▌        | 10/65 [03:42<19:05, 20.84s/it]\n",
      " 17%|█▋        | 11/65 [04:06<19:43, 21.91s/it]\n",
      " 18%|█▊        | 12/65 [04:29<19:46, 22.39s/it]\n",
      " 20%|██        | 13/65 [04:51<19:06, 22.05s/it]\n",
      " 22%|██▏       | 14/65 [05:14<19:02, 22.40s/it]\n",
      " 23%|██▎       | 15/65 [05:37<18:52, 22.65s/it]\n",
      " 25%|██▍       | 16/65 [06:01<18:52, 23.11s/it]\n",
      " 26%|██▌       | 17/65 [06:26<18:46, 23.47s/it]\n",
      " 28%|██▊       | 18/65 [06:50<18:34, 23.71s/it]\n",
      " 29%|██▉       | 19/65 [07:14<18:18, 23.87s/it]\n",
      " 31%|███       | 20/65 [07:39<18:00, 24.00s/it]\n",
      " 32%|███▏      | 21/65 [08:03<17:39, 24.08s/it]\n",
      " 34%|███▍      | 22/65 [08:27<17:18, 24.15s/it]\n",
      " 35%|███▌      | 23/65 [08:51<16:55, 24.18s/it]\n",
      " 37%|███▋      | 24/65 [09:16<16:32, 24.20s/it]\n",
      " 38%|███▊      | 25/65 [09:40<16:08, 24.22s/it]\n",
      " 40%|████      | 26/65 [10:04<15:45, 24.24s/it]\n",
      " 42%|████▏     | 27/65 [10:28<15:21, 24.24s/it]\n",
      " 43%|████▎     | 28/65 [10:53<14:57, 24.25s/it]\n",
      " 45%|████▍     | 29/65 [11:17<14:33, 24.26s/it]\n",
      " 46%|████▌     | 30/65 [11:41<14:09, 24.27s/it]\n",
      " 48%|████▊     | 31/65 [12:05<13:45, 24.27s/it]\n",
      " 49%|████▉     | 32/65 [12:30<13:20, 24.27s/it]\n",
      " 51%|█████     | 33/65 [12:54<12:56, 24.27s/it]\n",
      " 52%|█████▏    | 34/65 [13:18<12:32, 24.26s/it]\n",
      " 54%|█████▍    | 35/65 [13:43<12:07, 24.26s/it]\n",
      " 55%|█████▌    | 36/65 [14:07<11:43, 24.25s/it]\n",
      " 57%|█████▋    | 37/65 [14:31<11:18, 24.25s/it]\n",
      " 58%|█████▊    | 38/65 [14:55<10:54, 24.24s/it]\n",
      " 60%|██████    | 39/65 [15:20<10:30, 24.26s/it]\n",
      " 62%|██████▏   | 40/65 [15:44<10:06, 24.25s/it]\n",
      " 63%|██████▎   | 41/65 [16:08<09:42, 24.26s/it]\n",
      " 65%|██████▍   | 42/65 [16:32<09:17, 24.25s/it]\n",
      " 66%|██████▌   | 43/65 [16:56<08:46, 23.95s/it]\n",
      " 68%|██████▊   | 44/65 [17:19<08:18, 23.75s/it]\n",
      " 69%|██████▉   | 45/65 [17:42<07:51, 23.60s/it]\n",
      " 71%|███████   | 46/65 [18:05<07:26, 23.51s/it]\n",
      " 72%|███████▏  | 47/65 [18:29<07:01, 23.44s/it]\n",
      " 74%|███████▍  | 48/65 [18:52<06:39, 23.48s/it]\n",
      " 75%|███████▌  | 49/65 [19:16<06:19, 23.72s/it]\n",
      " 77%|███████▋  | 50/65 [19:41<05:58, 23.89s/it]\n",
      " 78%|███████▊  | 51/65 [20:05<05:36, 24.02s/it]\n",
      " 80%|████████  | 52/65 [20:29<05:13, 24.10s/it]\n",
      " 82%|████████▏ | 53/65 [20:54<04:49, 24.16s/it]\n",
      " 83%|████████▎ | 54/65 [21:18<04:26, 24.20s/it]\n",
      " 85%|████████▍ | 55/65 [21:42<04:02, 24.23s/it]\n",
      " 86%|████████▌ | 56/65 [22:07<03:38, 24.26s/it]\n",
      " 88%|████████▊ | 57/65 [22:31<03:14, 24.26s/it]\n",
      " 89%|████████▉ | 58/65 [22:55<02:49, 24.27s/it]\n",
      " 91%|█████████ | 59/65 [23:19<02:25, 24.27s/it]\n",
      " 92%|█████████▏| 60/65 [23:44<02:01, 24.28s/it]\n",
      " 94%|█████████▍| 61/65 [24:08<01:37, 24.28s/it]\n",
      " 95%|█████████▌| 62/65 [24:32<01:12, 24.29s/it]\n",
      " 97%|█████████▋| 63/65 [24:57<00:48, 24.30s/it]\n",
      " 98%|█████████▊| 64/65 [25:21<00:24, 24.31s/it]\n",
      "100%|██████████| 65/65 [25:45<00:00, 24.10s/it][INFO|trainer.py:1902] 2023-10-20 14:55:42,026 >> \n",
      "\n",
      "Training completed. Do not forget to share your model on huggingface.co/models =)\n",
      "\n",
      "\n",
      "\n",
      "                                               \n",
      "\n",
      "100%|██████████| 65/65 [25:47<00:00, 24.10s/it]\n",
      "100%|██████████| 65/65 [25:47<00:00, 23.80s/it]\n",
      "[INFO|trainer.py:2806] 2023-10-20 14:55:44,181 >> Saving model checkpoint to ./fine_tunning/output/\n",
      "[INFO|configuration_utils.py:461] 2023-10-20 14:55:44,220 >> Configuration saved in ./fine_tunning/output/config.json\n",
      "[INFO|configuration_utils.py:563] 2023-10-20 14:55:44,225 >> Configuration saved in ./fine_tunning/output/generation_config.json\n",
      "[INFO|modeling_utils.py:2121] 2023-10-20 14:55:55,226 >> Model weights saved in ./fine_tunning/output/pytorch_model.bin\n",
      "[INFO|tokenization_utils_base.py:2426] 2023-10-20 14:55:56,058 >> tokenizer config file saved in ./fine_tunning/output/tokenizer_config.json\n",
      "[INFO|tokenization_utils_base.py:2435] 2023-10-20 14:55:56,184 >> Special tokens file saved in ./fine_tunning/output/special_tokens_map.json\n",
      "[INFO|trainer.py:3083] 2023-10-20 14:55:58,408 >> ***** Running Evaluation *****\n",
      "[INFO|trainer.py:3085] 2023-10-20 14:55:58,409 >>   Num examples = 1\n",
      "[INFO|trainer.py:3088] 2023-10-20 14:55:58,409 >>   Batch size = 8\n",
      "\n",
      "  0%|          | 0/1 [00:00<?, ?it/s]\n",
      "100%|██████████| 1/1 [00:00<00:00,  1.28it/s]\n",
      "[WARNING|training_args.py:1718] 2023-10-20 14:56:05,832 >> Using deprecated `--per_gpu_train_batch_size` argument which will be removed in a future version. Using `--per_device_train_batch_size` is preferred.\n",
      "[WARNING|training_args.py:1718] 2023-10-20 14:56:05,832 >> Using deprecated `--per_gpu_train_batch_size` argument which will be removed in a future version. Using `--per_device_train_batch_size` is preferred.\n",
      "[INFO|modelcard.py:452] 2023-10-20 14:56:06,424 >> Dropping the following result as it does not have all the necessary fields:\n",
      "{'task': {'name': 'Causal Language Modeling', 'type': 'text-generation'}, 'metrics': [{'name': 'Accuracy', 'type': 'accuracy', 'value': 0.49560117302052786}]}\n"
     ]
    }
   ],
   "source": [
    "!python ../vendor/transformers/examples/pytorch/language-modeling/run_clm.py \\\n",
    "--model_type gpt2-medium \\\n",
    "--model_name_or_path gpt2-medium \\\n",
    "--train_file \"train_tmp.txt\" \\\n",
    "--do_train \\\n",
    "--validation_file \"eval_tmp.txt\" \\\n",
    "--do_eval \\\n",
    "--per_gpu_train_batch_size 1 \\\n",
    "--save_steps -1 \\\n",
    "--num_train_epochs 5 \\\n",
    "--fp16 \\\n",
    "--output_dir=\"./fine_tunning/output/\""
   ]
  },
  {
   "cell_type": "code",
   "execution_count": 19,
   "metadata": {},
   "outputs": [],
   "source": [
    "from transformers import GPT2LMHeadModel\n",
    "from transformers import GPT2Tokenizer\n",
    "import numpy as np"
   ]
  },
  {
   "cell_type": "code",
   "execution_count": 22,
   "metadata": {},
   "outputs": [],
   "source": [
    "model = GPT2LMHeadModel.from_pretrained('fine_tunning/output')\n",
    "tokenizer = GPT2Tokenizer.from_pretrained('gpt2')\n",
    "\n",
    "# input_ids = tokenizer.encode('simple seed')"
   ]
  },
  {
   "cell_type": "code",
   "execution_count": 24,
   "metadata": {},
   "outputs": [
    {
     "name": "stderr",
     "output_type": "stream",
     "text": [
      "The attention mask and the pad token id were not set. As a consequence, you may observe unexpected behavior. Please pass your input's `attention_mask` to obtain reliable results.\n",
      "Setting `pad_token_id` to `eos_token_id`:50256 for open-end generation.\n",
      "A decoder-only architecture is being used, but right-padding was detected! For correct generation results, please set `padding_side='left'` when initializing the tokenizer.\n"
     ]
    }
   ],
   "source": [
    "generated_text_samples = model.generate(\n",
    "    max_length=150,\n",
    "    num_return_sequences=5,\n",
    "    no_repeat_ngram_size=2,\n",
    "    repetition_penalty=1.5,\n",
    "    top_p=0.92,\n",
    "    temperature=.85,\n",
    "    do_sample=True,\n",
    "    top_k=125,\n",
    "    early_stopping=True\n",
    ")"
   ]
  },
  {
   "cell_type": "code",
   "execution_count": 26,
   "metadata": {},
   "outputs": [
    {
     "name": "stdout",
     "output_type": "stream",
     "text": [
      "0: <|title>The Sims 4 Walkthrough (4/2)\n",
      "</div><br /td style=\"margin: 0cm 1.5in\"> <|date desc=\"\" title=\"#\" rel=\"nofollow\"><||portrait width=\"/large-image?width=400px&height=-200%\"></||cite pageurls photo yahoo! photos link world news pictures latest story view update upload current trend time event timelime interval follow custom date user sign up welcome contact joshua tjones mike wampler community forums discussion forum free sim chat game rules buy gift offer pc platform license program topic sell virtual life experience visit wikipedia site home products tutorial services help breaking bad live tv episode episodes show\n",
      "\n",
      "1: <|title>A free photo chat room for real people\n",
      ".com/realpeoplechatroom is a FREE online video & photography community on. com site hosting quality live chats rooms videos photos contact welcome read more news breaking tv show results add your own captions gallery howledarkhow radio commentary storyteller stories collection help calendar day outlook perspective special report signup join today visit history logout world view current time local date image download files post pictures share picture facebook embed watch movies favorite music mtv play game android phone mac app support alice weismann win money games check credit card product offer search award winning entertainment awards good samaritan law district of columbia probate court facility locations address delivery service provider management group business services\n",
      "\n",
      "2: |title=Vote for the government leadership contest website blog politicalcandidates debate world elections election live video voting results news daily life politics latest opinion articles online forums polls rankings discussion opinions stories campaigns leader elect governments cabinet ministers chief justice parliament member prime minister tasmanian federal states state ayrshire london south yorkshire australia welcome home calgary abbott royal commission international legal affairs national judiciary constitution rights education human\n",
      "<a href=\"https://www.electionresultsblogger site admin_terms web hosting update login registration campaign management chat vote official information form contact uk membership list free newsletter updates annoucement gesstime commentary gossip breaking global business finance expert bankers day analysis equity investment advice leading money intelligence report sign us up\n",
      "\n",
      "3: <|title>maddox is live chat room update podcast channel maddolivelivechat youtube community share current episode latest show favorite forum login logout download free audio file online streaming video watch videos radio news entertainment tv drama blog music songs sports business find local musician sign up personalize tour date group event schedule stay safe broadcast updates account add member site create welcome\n",
      "</headline><\\/body></htmlbaukara homepage cafe guide search bar menu index page navigation source design information uci world opinion india international general industry jobs restaurant reviews travel hotel recent results next big thing buy fresh content advice tools contact us commercial advertising good deals shop gift cards offer store tips customer services selling products delivery deliver return shipping shopping america trade credit card\n",
      "\n",
      "4: >if you can buy a ticket online, fly into Singapore for free or save money at hotels close to airport.\n",
      "<i think i just miss the travel site guidebook shopping is so fun experience like it today live sports streaming tv timesai show sport stream movies singapore bring people thailand destination chat find person contact australia stay read review write your own story view original stories good deal airlines service reliable prices welcome gift hotel safari resort gifts well made place visit timor littoral island home video game tutorials indian crafts wear stylish watch music videos starstar team league news updates latest breaking entertainment games baseball update boston club bay nyc talk golf articles pictures classic books reviews pet care pets animal health tips best hospital america children\n",
      "\n"
     ]
    }
   ],
   "source": [
    "for i, beam in enumerate(generated_text_samples):\n",
    "    print(f'{i}: {tokenizer.decode(beam, skip_special_tokens=True)}\\n')"
   ]
  }
 ],
 "metadata": {
  "kernelspec": {
   "display_name": "venv",
   "language": "python",
   "name": "python3"
  },
  "language_info": {
   "codemirror_mode": {
    "name": "ipython",
    "version": 3
   },
   "file_extension": ".py",
   "mimetype": "text/x-python",
   "name": "python",
   "nbconvert_exporter": "python",
   "pygments_lexer": "ipython3",
   "version": "3.10.7"
  },
  "orig_nbformat": 4
 },
 "nbformat": 4,
 "nbformat_minor": 2
}
