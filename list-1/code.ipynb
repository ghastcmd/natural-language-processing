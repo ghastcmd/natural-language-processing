{
 "cells": [
  {
   "cell_type": "markdown",
   "metadata": {},
   "source": [
    "# Lista 1"
   ]
  },
  {
   "cell_type": "markdown",
   "metadata": {},
   "source": [
    "## Imports"
   ]
  },
  {
   "cell_type": "code",
   "execution_count": 253,
   "metadata": {},
   "outputs": [],
   "source": [
    "import re\n",
    "\n",
    "import pandas as pd\n",
    "import matplotlib.pyplot as plt"
   ]
  },
  {
   "cell_type": "markdown",
   "metadata": {},
   "source": [
    "## Questão 1"
   ]
  },
  {
   "cell_type": "code",
   "execution_count": 1,
   "metadata": {},
   "outputs": [],
   "source": [
    "def validade_pass(password: str):\n",
    "    if len(password) < 8:\n",
    "        return False\n",
    "    have_lowercase = False\n",
    "    have_uppercase = False\n",
    "    have_number = False\n",
    "    have_special = False\n",
    "    for character in password:\n",
    "        if 'a' <= character <= 'z':\n",
    "            have_lowercase = True\n",
    "        elif 'A' <= character <= 'Z':\n",
    "            have_uppercase = True\n",
    "        elif '0' <= character <= '9':\n",
    "            have_number = True\n",
    "        else:\n",
    "            have_special = True\n",
    "    \n",
    "    is_valid = have_lowercase and have_uppercase and have_number and have_special\n",
    "    return is_valid"
   ]
  },
  {
   "cell_type": "code",
   "execution_count": 3,
   "metadata": {},
   "outputs": [
    {
     "name": "stdout",
     "output_type": "stream",
     "text": [
      "False\n",
      "False\n",
      "False\n",
      "False\n",
      "True\n"
     ]
    }
   ],
   "source": [
    "print(validade_pass('123dsad23132'))\n",
    "print(validade_pass('123dsad23132#'))\n",
    "print(validade_pass('12A3d2#'))\n",
    "print(validade_pass('123dA2#'))\n",
    "print(validade_pass('123dAaa2#'))"
   ]
  },
  {
   "cell_type": "markdown",
   "metadata": {},
   "source": [
    "## Questão 2"
   ]
  },
  {
   "cell_type": "code",
   "execution_count": 251,
   "metadata": {},
   "outputs": [],
   "source": [
    "def check_email(email):\n",
    "    pattern = re.compile(r'([A-Za-z0-9]+[.-_])*[A-Za-z0-9]+@[A-Za-z0-9-]+(\\.[A-Z|a-z]{2,})+')\n",
    "\n",
    "    if re.fullmatch(pattern, email):\n",
    "        return True\n",
    "    return False "
   ]
  },
  {
   "cell_type": "code",
   "execution_count": 252,
   "metadata": {},
   "outputs": [
    {
     "name": "stdout",
     "output_type": "stream",
     "text": [
      "True\n",
      "False\n",
      "False\n",
      "False\n",
      "False\n",
      "False\n"
     ]
    }
   ],
   "source": [
    "print(check_email(\"gpss@ic.ufal.br\"))\n",
    "print(check_email(\"gps.@ic.\"))\n",
    "print(check_email(\"gps.ic.\"))\n",
    "print(check_email(\".@gmail.com\"))\n",
    "print(check_email(\".A@gmail.com\"))\n",
    "print(check_email(\"nome@gmail.\"))"
   ]
  },
  {
   "cell_type": "markdown",
   "metadata": {},
   "source": [
    "## Questão 3"
   ]
  },
  {
   "cell_type": "code",
   "execution_count": 249,
   "metadata": {},
   "outputs": [],
   "source": [
    "def get_metadata(apa_citation: str):\n",
    "    authors = re.findall(r\"[A-Z][a-z]+, [A-Z]\\.(?: [A-Z]\\.)?\", apa_citation)\n",
    "    year = re.search(r\"([0-9]+)\", apa_citation).group(0)\n",
    "    title = re.search(r\"(?<=\\)\\. )[A-Za-z :]+\", apa_citation).group(0)\n",
    "    publisher = re.search(r\"(?<= )[A-Za-z :]+\\.$\", apa_citation).group(0)\n",
    "    return authors, year, title, publisher"
   ]
  },
  {
   "cell_type": "code",
   "execution_count": 250,
   "metadata": {},
   "outputs": [
    {
     "name": "stdout",
     "output_type": "stream",
     "text": [
      "['Manning, C. D.', 'Manning, C. D.', 'Schutze, H.']\n",
      "1999\n",
      "Foundations: of statistical natural language processing\n",
      "MIT press.\n"
     ]
    }
   ],
   "source": [
    "test_str = 'Manning, C. D., Manning, C. D., & Schutze, H. (1999). Foundations: of statistical natural language processing. MIT press.'\n",
    "authors, year, title, publisher = get_metadata(test_str)\n",
    "print(authors)\n",
    "print(year)\n",
    "print(title)\n",
    "print(publisher)"
   ]
  },
  {
   "cell_type": "markdown",
   "metadata": {},
   "source": [
    "## Questão 4"
   ]
  },
  {
   "cell_type": "code",
   "execution_count": 254,
   "metadata": {},
   "outputs": [],
   "source": [
    "data = pd.read_csv('../datasets/cyberbullying_tweets.csv')"
   ]
  },
  {
   "cell_type": "code",
   "execution_count": 255,
   "metadata": {},
   "outputs": [
    {
     "name": "stdout",
     "output_type": "stream",
     "text": [
      "Comprimento dos tweets:\n",
      "0         61\n",
      "1        115\n",
      "2         60\n",
      "3        103\n",
      "4        103\n",
      "        ... \n",
      "47687    234\n",
      "47688    276\n",
      "47689    104\n",
      "47690     90\n",
      "47691     76\n",
      "Name: comprimento, Length: 47692, dtype: int64\n"
     ]
    }
   ],
   "source": [
    "data['comprimento'] = data['tweet_text'].apply(lambda x: len(x))\n",
    "\n",
    "print(\"Comprimento dos tweets:\")\n",
    "print(data['comprimento'])"
   ]
  },
  {
   "cell_type": "code",
   "execution_count": 257,
   "metadata": {},
   "outputs": [
    {
     "data": {
      "image/png": "[encoded data removed]",
      "text/plain": [
       "<Figure size 640x480 with 1 Axes>"
      ]
     },
     "metadata": {},
     "output_type": "display_data"
    }
   ],
   "source": [
    "plt.hist(data['comprimento'], bins=60, edgecolor='black')\n",
    "plt.xlabel('Comprimento tweet')\n",
    "plt.ylabel('Frequência')\n",
    "plt.title('Distribuição comprimento dos textos dos tweets')\n",
    "plt.xlim(0, 800)\n",
    "\n",
    "plt.show()"
   ]
  },
  {
   "cell_type": "markdown",
   "metadata": {},
   "source": [
    "## Questão 5"
   ]
  },
  {
   "cell_type": "code",
   "execution_count": null,
   "metadata": {},
   "outputs": [],
   "source": []
  },
  {
   "cell_type": "markdown",
   "metadata": {},
   "source": [
    "## Questão 6"
   ]
  },
  {
   "cell_type": "markdown",
   "metadata": {},
   "source": [
    "## Questão 7"
   ]
  }
 ],
 "metadata": {
  "kernelspec": {
   "display_name": "Python 3",
   "language": "python",
   "name": "python3"
  },
  "language_info": {
   "codemirror_mode": {
    "name": "ipython",
    "version": 3
   },
   "file_extension": ".py",
   "mimetype": "text/x-python",
   "name": "python",
   "nbconvert_exporter": "python",
   "pygments_lexer": "ipython3",
   "version": "3.10.7"
  },
  "orig_nbformat": 4
 },
 "nbformat": 4,
 "nbformat_minor": 2
}
