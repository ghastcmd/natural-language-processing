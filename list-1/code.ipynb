{
 "cells": [
  {
   "cell_type": "markdown",
   "metadata": {},
   "source": [
    "# Lista 1"
   ]
  },
  {
   "cell_type": "markdown",
   "metadata": {},
   "source": [
    "## Imports"
   ]
  },
  {
   "cell_type": "code",
   "execution_count": 4,
   "metadata": {},
   "outputs": [],
   "source": [
    "import re"
   ]
  },
  {
   "cell_type": "markdown",
   "metadata": {},
   "source": [
    "## Questão 1"
   ]
  },
  {
   "cell_type": "code",
   "execution_count": 1,
   "metadata": {},
   "outputs": [],
   "source": [
    "def validade_pass(password: str):\n",
    "    if len(password) < 8:\n",
    "        return False\n",
    "    have_lowercase = False\n",
    "    have_uppercase = False\n",
    "    have_number = False\n",
    "    have_special = False\n",
    "    for character in password:\n",
    "        if 'a' <= character <= 'z':\n",
    "            have_lowercase = True\n",
    "        elif 'A' <= character <= 'Z':\n",
    "            have_uppercase = True\n",
    "        elif '0' <= character <= '9':\n",
    "            have_number = True\n",
    "        else:\n",
    "            have_special = True\n",
    "    \n",
    "    is_valid = have_lowercase and have_uppercase and have_number and have_special\n",
    "    return is_valid"
   ]
  },
  {
   "cell_type": "code",
   "execution_count": 3,
   "metadata": {},
   "outputs": [
    {
     "name": "stdout",
     "output_type": "stream",
     "text": [
      "False\n",
      "False\n",
      "False\n",
      "False\n",
      "True\n"
     ]
    }
   ],
   "source": [
    "print(validade_pass('123dsad23132'))\n",
    "print(validade_pass('123dsad23132#'))\n",
    "print(validade_pass('12A3d2#'))\n",
    "print(validade_pass('123dA2#'))\n",
    "print(validade_pass('123dAaa2#'))"
   ]
  },
  {
   "cell_type": "markdown",
   "metadata": {},
   "source": [
    "## Questão 2"
   ]
  },
  {
   "cell_type": "markdown",
   "metadata": {},
   "source": [
    "## Questão 3"
   ]
  },
  {
   "cell_type": "code",
   "execution_count": 249,
   "metadata": {},
   "outputs": [],
   "source": [
    "def get_metadata(apa_citation: str):\n",
    "    authors = re.findall(r\"[A-Z][a-z]+, [A-Z]\\.(?: [A-Z]\\.)?\", apa_citation)\n",
    "    year = re.search(r\"([0-9]+)\", apa_citation).group(0)\n",
    "    title = re.search(r\"(?<=\\)\\. )[A-Za-z :]+\", apa_citation).group(0)\n",
    "    publisher = re.search(r\"(?<= )[A-Za-z :]+\\.$\", apa_citation).group(0)\n",
    "    return authors, year, title, publisher"
   ]
  },
  {
   "cell_type": "code",
   "execution_count": 250,
   "metadata": {},
   "outputs": [
    {
     "name": "stdout",
     "output_type": "stream",
     "text": [
      "['Manning, C. D.', 'Manning, C. D.', 'Schutze, H.']\n",
      "1999\n",
      "Foundations: of statistical natural language processing\n",
      "MIT press.\n"
     ]
    }
   ],
   "source": [
    "test_str = 'Manning, C. D., Manning, C. D., & Schutze, H. (1999). Foundations: of statistical natural language processing. MIT press.'\n",
    "authors, year, title, publisher = get_metadata(test_str)\n",
    "print(authors)\n",
    "print(year)\n",
    "print(title)\n",
    "print(publisher)"
   ]
  },
  {
   "cell_type": "markdown",
   "metadata": {},
   "source": [
    "## Questão 4"
   ]
  },
  {
   "cell_type": "markdown",
   "metadata": {},
   "source": [
    "## Questão 5"
   ]
  },
  {
   "cell_type": "markdown",
   "metadata": {},
   "source": [
    "## Questão 6"
   ]
  },
  {
   "cell_type": "markdown",
   "metadata": {},
   "source": [
    "## Questão 7"
   ]
  }
 ],
 "metadata": {
  "kernelspec": {
   "display_name": "Python 3",
   "language": "python",
   "name": "python3"
  },
  "language_info": {
   "codemirror_mode": {
    "name": "ipython",
    "version": 3
   },
   "file_extension": ".py",
   "mimetype": "text/x-python",
   "name": "python",
   "nbconvert_exporter": "python",
   "pygments_lexer": "ipython3",
   "version": "3.10.7"
  },
  "orig_nbformat": 4
 },
 "nbformat": 4,
 "nbformat_minor": 2
}
